{
 "cells": [
  {
   "cell_type": "code",
   "execution_count": 1,
   "metadata": {},
   "outputs": [],
   "source": [
    "# config\n",
    "import torch\n",
    "import torch.nn as nn\n",
    "\n",
    "# hyperparameters\n",
    "gpu_id = 0 if torch.cuda.is_available() else -1\n",
    "device = torch.device('cpu') if gpu_id < 0 else torch.device('cuda:%d' % gpu_id)\n",
    "max_seq_len = 100\n",
    "train_ratio = .8\n",
    "valid_ratio = .1\n",
    "batch_size = 64\n",
    "hidden_size = 512\n",
    "output_size = 1\n",
    "num_head = 16\n",
    "num_encoder = 12\n",
    "use_leakyrelu = True\n",
    "dropout_p = .1\n",
    "learning_rate = 0.001\n",
    "n_epochs = 1000\n",
    "grad_acc = True\n",
    "grad_acc_iter = 8"
   ]
  },
  {
   "cell_type": "code",
   "execution_count": 2,
   "metadata": {},
   "outputs": [],
   "source": [
    "# dataloader\n",
    "from dataloaders.assist2009_pid_diff_loader import ASSIST2009_PID_DIFF\n",
    "from utils import pid_diff_collate_fn\n",
    "from torch.utils.data import DataLoader, random_split\n",
    "\n",
    "dataset = ASSIST2009_PID_DIFF(max_seq_len)\n",
    "num_q = dataset.num_q\n",
    "num_r = dataset.num_r\n",
    "num_pid = dataset.num_pid\n",
    "num_diff = dataset.num_diff\n",
    "collate = pid_diff_collate_fn\n",
    "\n",
    "train_size = int( len(dataset) * train_ratio * (1 - valid_ratio))\n",
    "valid_size = int( len(dataset) * train_ratio * valid_ratio)\n",
    "test_size = len(dataset) - (train_size + valid_size)\n",
    "\n",
    "train_dataset, valid_dataset, test_dataset = random_split(\n",
    "    dataset, [ train_size, valid_size, test_size ]\n",
    "    )\n",
    "\n",
    "train_loader = DataLoader(\n",
    "    train_dataset,\n",
    "    batch_size = batch_size,\n",
    "    shuffle = True, # train_loader use shuffle\n",
    "    collate_fn = collate\n",
    ")\n",
    "valid_loader = DataLoader(\n",
    "    valid_dataset,\n",
    "    batch_size = batch_size,\n",
    "    shuffle = False, # valid_loader don't use shuffle\n",
    "    collate_fn = collate\n",
    ")\n",
    "test_loader = DataLoader(\n",
    "    test_dataset,\n",
    "    batch_size = batch_size,\n",
    "    shuffle = False, # test_loader don't use shuffle\n",
    "    collate_fn = collate\n",
    ")"
   ]
  },
  {
   "cell_type": "code",
   "execution_count": 3,
   "metadata": {},
   "outputs": [],
   "source": [
    "# model\n",
    "import torch\n",
    "import torch.nn as nn\n",
    "import numpy as np\n",
    "import math\n",
    "import torch.nn.functional as F\n",
    "\n",
    "# SeparableConv1D\n",
    "class SeparableConv1D(nn.Module):\n",
    "    def __init__(self, input_filters, output_filters, kernel_size):\n",
    "        super().__init__()\n",
    "\n",
    "        # input_filters = 512 <- hidden_size\n",
    "        # output_filters = 256 <- all_attn_head_size\n",
    "\n",
    "        self.depthwise = nn.Conv1d(input_filters, input_filters, kernel_size=kernel_size, groups=input_filters, padding=kernel_size //2, bias = False)\n",
    "        self.pointwise = nn.Conv1d(input_filters, output_filters, kernel_size=1, bias=False)\n",
    "        self.bias = nn.Parameter(torch.zeros(output_filters, 1))\n",
    "\n",
    "        self.depthwise.weight.data.normal_(mean=0.0, std=0.02)\n",
    "        self.pointwise.weight.data.normal_(mean=0.0, std=0.02)\n",
    "\n",
    "    def forward(self, hidden_states):\n",
    "        # |hidden_states| = (bs, hs, n)\n",
    "\n",
    "        x = self.depthwise(hidden_states)\n",
    "        # |x| = (bs, hs, n)\n",
    "\n",
    "        x = self.pointwise(x)\n",
    "        # |x| = (bs, hs/2(all_attn_h_size), n)\n",
    "\n",
    "        x += self.bias\n",
    "        # |x| = (bs, hs/2(all_attn_h_size), n)\n",
    "        return x\n",
    "\n",
    "# Thank for the Huggingface and Author of AKT\n",
    "# Combined the Monotonic Attention and Span Dynamic Convolutional Attention\n",
    "class MonotonicConvolutionalMultiheadAttention(nn.Module):\n",
    "    # hidden % n_splits == 0\n",
    "    def __init__(self, hidden_size, n_splits, dropout_p, head_ratio=2, conv_kernel_size=9):\n",
    "        super().__init__()\n",
    "        # default: n_splits = 16, head_ratio = 2\n",
    "        \n",
    "        new_num_attention_heads = n_splits // head_ratio\n",
    "        self.num_attention_heads = new_num_attention_heads\n",
    "        # default: self.new_num_attention_heads = 8\n",
    "\n",
    "        self.head_ratio = head_ratio\n",
    "        # default: self.head_ratio = 2\n",
    "\n",
    "        self.conv_kernel_size = conv_kernel_size\n",
    "        # default: self.conv_kernel_size = 9\n",
    "\n",
    "        self.attention_head_size = hidden_size // n_splits\n",
    "        # default: self.attention_head_size = 512//16 = 32\n",
    "\n",
    "        self.all_head_size = self.num_attention_heads * self.attention_head_size\n",
    "        # default: self.all_head_size = 32 * 8 = 256\n",
    "\n",
    "        # linear layers for query, key, value \n",
    "        self.query = nn.Linear(hidden_size, self.all_head_size, bias=False) # 512 -> 256\n",
    "        self.key = nn.Linear(hidden_size, self.all_head_size, bias=False) # 512 -> 256\n",
    "        self.value = nn.Linear(hidden_size, self.all_head_size, bias=False) # 512 -> 256\n",
    "\n",
    "        # layers for span dynamic convolutional attention\n",
    "        self.key_conv_attn_layer = SeparableConv1D(\n",
    "            hidden_size, self.all_head_size, self.conv_kernel_size\n",
    "        )\n",
    "        self.conv_kernel_layer = nn.Linear(self.all_head_size, \n",
    "                                        self.num_attention_heads * self.conv_kernel_size # 8 * 9 = 72\n",
    "                                        )\n",
    "        self.conv_out_layer = nn.Linear(hidden_size, self.all_head_size)\n",
    "\n",
    "        self.unfold = nn.Unfold(\n",
    "            kernel_size=[self.conv_kernel_size, 1], padding=[int((self.conv_kernel_size - 1) / 2), 0]\n",
    "        )\n",
    "        \n",
    "        # this is for the distance function\n",
    "        self.gammas = nn.Parameter(torch.zeros(self.num_attention_heads, 1, 1))\n",
    "\n",
    "        self.dropout = nn.Dropout(dropout_p)\n",
    "\n",
    "    def forward(self, Q, K, V, mask=None):\n",
    "        # |Q| = |K| = |V| = (bs, n, hs)\n",
    "        # |mask| = (bs, n)\n",
    "\n",
    "        batch_size = Q.size(0)\n",
    "\n",
    "        mixed_query_layer = self.query(Q)\n",
    "        mixed_key_layer = self.key(K)\n",
    "        mixed_value_layer = self.value(V)\n",
    "        # |mixed_query_layer| = |mixed_key_layer| = |mixed_value_layer| = (bs, n, hs/2(all_attn_h_size))\n",
    "\n",
    "        mixed_key_conv_attn_layer = self.key_conv_attn_layer(\n",
    "            K.transpose(1, 2) # |hidden_states.transpose(1, 2)| = (bs, hs, n)\n",
    "        )\n",
    "        # |mixed_key_conv_attn_layer| = (bs, hs/2(all_attn_h_size), n)\n",
    "        mixed_key_conv_attn_layer = mixed_key_conv_attn_layer.transpose(1, 2)\n",
    "        # |mixed_key_conv_attn_layer| = (bs, n, hs/2(all_attn_h_size))\n",
    "\n",
    "        query_layer = self.transpose_for_scores(mixed_query_layer)\n",
    "        # |query_layer| = (bs, n_attn_head, n, attn_head_size) = (64, 8, 100, 32)\n",
    "        key_layer = self.transpose_for_scores(mixed_key_layer)\n",
    "        # |query_layer| = (bs, n_attn_head, n, attn_head_size) = (64, 8, 100, 32)\n",
    "        value_layer = self.transpose_for_scores(mixed_value_layer)\n",
    "        # |query_layer| = (bs, n_attn_head, n, attn_head_size) = (64, 8, 100, 32)\n",
    "\n",
    "        ##############\n",
    "        # conv layer #\n",
    "        ##############\n",
    "        # element-wise multiply of conv key and query \n",
    "        conv_attn_layer = torch.multiply(mixed_key_conv_attn_layer, mixed_query_layer)\n",
    "        # |conv_attn_layer| = (bs, n, hs/2(all_attn_h_size))\n",
    "        conv_kernel_layer = self.conv_kernel_layer(conv_attn_layer)\n",
    "        # |conv_kernel_layer| = (bs, n, (n_attn_h * conv_kernel_size) = (64, 100, 8 * 9) = (64, 100, 72)\n",
    "        conv_kernel_layer = torch.reshape(conv_kernel_layer, [-1, self.conv_kernel_size, 1])\n",
    "        # |conv_kernel_layer| = (51200, 9, 1)\n",
    "        conv_kernel_layer = torch.softmax(conv_kernel_layer, dim=1)\n",
    "        # |conv_kernel_layer| = (51200, 9, 1), 각 head별 확률값들을 도출하는 듯\n",
    "\n",
    "        # q X k is matmul with v\n",
    "        conv_out_layer = self.conv_out_layer(V)\n",
    "        # |conv_out_layer| = (bs, n, hs/2(all_attn_h_size))\n",
    "        conv_out_layer = torch.reshape(conv_out_layer, [batch_size, -1, self.all_head_size])\n",
    "        # |conv_out_layer| = (bs, n, hs/2(all_attn_h_size))\n",
    "        conv_out_layer = conv_out_layer.transpose(1, 2).contiguous().unsqueeze(-1)\n",
    "        # |conv_out_layer| = (bs, hs/2(all_attn_h_size), n, 1)\n",
    "        # unfold 참고 -> #https://www.facebook.com/groups/PyTorchKR/posts/1685133764959631/\n",
    "        conv_out_layer = nn.functional.unfold( \n",
    "            conv_out_layer,\n",
    "            kernel_size=[self.conv_kernel_size, 1],\n",
    "            dilation=1,\n",
    "            padding=[(self.conv_kernel_size - 1) // 2, 0],\n",
    "            stride=1,\n",
    "        )\n",
    "        # |conv_out_layer| = (64, 2304, 100)\n",
    "        conv_out_layer = conv_out_layer.transpose(1, 2).reshape(\n",
    "            batch_size, -1, self.all_head_size, self.conv_kernel_size\n",
    "        )\n",
    "        # |conv_out_layer| = (bs, n, hs/2(all_attn_h_size), conv_kernal_size)\n",
    "        conv_out_layer = torch.reshape(conv_out_layer, [-1, self.attention_head_size, self.conv_kernel_size])\n",
    "        # |conv_out_layer|, default = (51200, 32, 9)\n",
    "        # matmul(q X k, v)\n",
    "        conv_out_layer = torch.matmul(conv_out_layer, conv_kernel_layer)\n",
    "        # |conv_out_layer|, default = (51200, 32, 1)\n",
    "        conv_out_layer = torch.reshape(conv_out_layer, [-1, self.all_head_size])\n",
    "        # |conv_out_layer|, default = (6400, 256)\n",
    "\n",
    "        ###################\n",
    "        # self_attn layer #\n",
    "        ###################\n",
    "        attention_scores = torch.matmul(query_layer, key_layer.transpose(-1, -2))\n",
    "        # |attention_scores| = (bs, n_attn_head, n, n), default = (64, 8, 100, 100)\n",
    "        attention_scores = attention_scores / math.sqrt(self.attention_head_size)\n",
    "        # |attention_scores| = (bs, n_attn_head, n, n), default = (64, 8, 100, 100)\n",
    "\n",
    "        #####################\n",
    "        # distance function #\n",
    "        #####################\n",
    "        dist_scores = self.dist_func(attention_scores, mask)\n",
    "        # |dist_scores| = (bs, n_attn_head, n, n), default = (64, 8, 100, 100)\n",
    "        m = nn.Softplus()\n",
    "        # gamma is learnable decay rate parameter\n",
    "        gamma = -1.0 * m(self.gammas).unsqueeze(0)\n",
    "        # Now after do exp(gamma * distance) and then clamp to 1e-5 to 1e-5\n",
    "        total_effect = torch.clamp(\n",
    "            torch.clamp((dist_scores * gamma).exp(), min=1e-5), max=1e5\n",
    "        )\n",
    "        # |total_effect| = (bs, n_attn_head, n, n), default = (64, 8, 100, 100)\n",
    "\n",
    "        attention_scores = attention_scores * total_effect\n",
    "        # |attention_scores| = (bs, n_attn_head, n, n), default = (64, 8, 100, 100)\n",
    "\n",
    "        # |mask| = (bs, n)\n",
    "        attention_mask = self.get_extended_attention_mask(mask)\n",
    "        # |attention_mask| = (bs, n_attn_head, n, n), default = (64, 8, 100, 100)\n",
    "        attention_scores = attention_scores.masked_fill_(attention_mask==0, -1e8)\n",
    "        # |attention_scores| = (bs, n_attn_head, n, n) = (64, 8, 100, 100)\n",
    "\n",
    "        attention_probs = nn.functional.softmax(attention_scores, dim=-1)\n",
    "        # |attention_probs| = (bs, n_attn_head, n, n) = (64, 8, 100, 100)\n",
    "        attention_probs = self.dropout(attention_probs)\n",
    "        # |attention_probs| = (bs, n_attn_head, n, n) = (64, 8, 100, 100)\n",
    "\n",
    "        context_layer = torch.matmul(attention_probs, value_layer)\n",
    "        # |context_layer| = (bs, n_attn_head, n, attn_head_size) = (64, 8, 100, 32)\n",
    "        context_layer = context_layer.permute(0, 2, 1, 3).contiguous()\n",
    "        # |context_layer| = (bs, n, n_attn_head, attn_head_size) = (64, 100, 8, 32)\n",
    "        \n",
    "        #########################################\n",
    "        # concat with conv and self_attn values #\n",
    "        #########################################\n",
    "        conv_out = torch.reshape(conv_out_layer, [batch_size, -1, self.num_attention_heads, self.attention_head_size])\n",
    "        # |conv_out| = (bs, n, n_attn_head, attn_head_size) = (64, 100, 8, 32)\n",
    "        context_layer = torch.cat([context_layer, conv_out], 2)\n",
    "        # |context_layer| = (bs, n, n_attn_head * 2, attn_head_size) = (64, 100, 16, 32)\n",
    "        new_context_layer_shape = context_layer.size()[:-2] + \\\n",
    "             (self.head_ratio * self.all_head_size,)\n",
    "        # new_context_layer_shape = (bs, n, hs)\n",
    "        context_layer = context_layer.view(*new_context_layer_shape)\n",
    "        # |context_layer| = (bs, n, hs)\n",
    "\n",
    "        outputs = context_layer\n",
    "        # |context_layer| = (bs, n, hs)\n",
    "        # if you need attention_probs, add the return\n",
    "        # |attention_probs| = (bs, n_attn_head, n, n) = (64, 8, 100, 100)\n",
    "\n",
    "        # |outputs| = (bs, n, hs)\n",
    "        return outputs, attention_probs\n",
    "\n",
    "    # Thanks for the AKT's author and Upstage\n",
    "    # this is the distance function, this function don't use grad\n",
    "    @torch.no_grad()\n",
    "    def dist_func(self, attention_scores, mask):\n",
    "\n",
    "        scores = attention_scores\n",
    "        bs, head, seqlen = scores.size(0), scores.size(1), scores.size(2)\n",
    "\n",
    "        x1 = torch.arange(seqlen).expand(seqlen, -1)\n",
    "        x2 = x1.transpose(0, 1).contiguous()\n",
    "\n",
    "        attention_mask = self.get_extended_attention_mask(mask)\n",
    "\n",
    "        scores_ = scores.masked_fill_(attention_mask == 0, -1e32)\n",
    "\n",
    "        scores_ = F.softmax(scores_, dim=-1)\n",
    "        scores_ = scores_ * attention_mask.float()\n",
    "\n",
    "        distcum_scores = torch.cumsum(scores_, dim=-1)\n",
    "        disttotal_scores = torch.sum(scores_, dim=-1, keepdim=True)\n",
    "        \"\"\"\n",
    "        >>> x1-x2\n",
    "            tensor([[ 0,  1,  2,  3,  4],\n",
    "                    [-1,  0,  1,  2,  3],\n",
    "                    [-2, -1,  0,  1,  2],\n",
    "                    [-3, -2, -1,  0,  1],\n",
    "                    [-4, -3, -2, -1,  0]])\n",
    "\n",
    "        >>> torch.abs(x1-x2)\n",
    "            tensor([[0, 1, 2, 3, 4],\n",
    "                    [1, 0, 1, 2, 3],\n",
    "                    [2, 1, 0, 1, 2],\n",
    "                    [3, 2, 1, 0, 1],\n",
    "                    [4, 3, 2, 1, 0]])\n",
    "        \"\"\"     \n",
    "        device = distcum_scores.get_device()\n",
    "        position_effect = torch.abs(x1 - x2)[None, None, :, :].type(\n",
    "            torch.FloatTensor\n",
    "        ) \n",
    "        # |position_effect| = (1, 1, seqlen, seqlen)\n",
    "        position_effect = position_effect.to(device)\n",
    "        \n",
    "        # dist_score => d(t, tau)\n",
    "        dist_scores = torch.clamp(\n",
    "            (disttotal_scores - distcum_scores) * position_effect, min=0.0\n",
    "        )\n",
    "\n",
    "        dist_scores = dist_scores.sqrt().detach()\n",
    "\n",
    "        # |dist_scores| = (bs, n_attn_head, n, n), default = (64, 8, 100, 100)\n",
    "        return dist_scores\n",
    "\n",
    "    # this is for attention mask\n",
    "    @torch.no_grad()\n",
    "    def get_extended_attention_mask(self, mask):\n",
    "        # |mask| = (bs, n)\n",
    "        mask_shape = mask.size() + (mask.size(1), self.num_attention_heads)\n",
    "        # mask_shape = (bs, n, n, n_attn_head)\n",
    "        mask_enc = mask.unsqueeze(-1).expand(mask.size(0), mask.size(1), mask.size(1) * self.num_attention_heads).bool()\n",
    "        # |mask_enc| = (bs, n, n * n_attn_head)\n",
    "\n",
    "        mask_enc = mask_enc.view(*mask_shape)\n",
    "        # |mask_enc| = (bs, n, n, n_attn_head), default = (64, 100, 100, 8)\n",
    "\n",
    "        return mask_enc.permute(0, 3, 2, 1)\n",
    "        # |mask_enc| = (bs, n_attn_head, n, n), default = (64, 8, 100, 100)\n",
    "\n",
    "    # for attention, last dim will be divied to n_attn_head, and get a new shape\n",
    "    def transpose_for_scores(self, x):\n",
    "        # |x| = (bs, n, hs/2(all_attn_h_size))\n",
    "\n",
    "        # 마지막 차원을 n_attn_head의 수만큼으로 나눔\n",
    "        new_x_shape = x.size()[:-1] + \\\n",
    "             (self.num_attention_heads, self.attention_head_size)\n",
    "        # |x.size()[:-1]| = (bs, n)\n",
    "        # self.new_num_attention_heads = 8\n",
    "        # self.attention_head_size = 32\n",
    "        # |new_x_shape| = (bs, n, new_num_attention_heads, attention_head_size)\n",
    "\n",
    "        x = x.view(*new_x_shape)\n",
    "        # |x| = (bs, n, n_attn_head, attn_head_size) = (64, 100, 8, 32)\n",
    "\n",
    "        return x.permute(0, 2, 1, 3)\n",
    "        # |x| = (bs, n_attn_head, n, attn_head_size) = (64, 8, 100, 32)\n",
    "\n",
    "\n",
    "class EncoderBlock(nn.Module):\n",
    "\n",
    "    def __init__(\n",
    "        self,\n",
    "        hidden_size, # default = 512\n",
    "        n_splits,\n",
    "        use_leakyrelu,\n",
    "        max_seq_len,\n",
    "        dropout_p=.1,\n",
    "    ):\n",
    "        super().__init__()\n",
    "\n",
    "        self.use_leakyrelu = use_leakyrelu\n",
    "\n",
    "        self.attn = MonotonicConvolutionalMultiheadAttention(hidden_size, n_splits, dropout_p)\n",
    "        self.attn_norm = nn.LayerNorm(hidden_size)\n",
    "        self.attn_dropout = nn.Dropout(dropout_p)\n",
    "\n",
    "        self.fc = nn.Sequential(\n",
    "            nn.Linear(hidden_size, hidden_size * 4),\n",
    "            # if you want to use gelu, then you have to change config option\n",
    "            nn.LeakyReLU() if self.use_leakyrelu else self.gelu(),\n",
    "            nn.Linear(hidden_size * 4, hidden_size),\n",
    "        )\n",
    "        self.fc_norm = nn.LayerNorm(hidden_size)\n",
    "        self.fc_dropout = nn.Dropout(dropout_p)\n",
    "\n",
    "    def forward(self, x, mask, attn_probs):\n",
    "        # |x| = (bs, n, emb_size), torch.float32\n",
    "        # |mask| = (bs, n, n)\n",
    "\n",
    "        # Pre-LN:\n",
    "        z = self.attn_norm(x)\n",
    "        # |z| = (bs, n, emb_size)\n",
    "\n",
    "        attn_outputs, attn_probs = self.attn(Q=z, K=z, V=z, mask=mask)\n",
    "\n",
    "        # x+ means redisual connection\n",
    "        z = x + self.attn_dropout(attn_outputs)\n",
    "        # |z| = (bs, n, hs)\n",
    "\n",
    "        z = z + self.fc_dropout(self.fc(self.fc_norm(z)))\n",
    "        # |z| = (bs, n, hs)\n",
    "\n",
    "        return z, mask, attn_probs\n",
    "\n",
    "    # Thanks for the upstage\n",
    "    # upstage's gelu\n",
    "    def gelu(x):\n",
    "        \"\"\"Upstage said:\n",
    "            Implementation of the gelu activation function.\n",
    "            For information: OpenAI GPT's gelu is slightly different\n",
    "            (and gives slightly different results):\n",
    "            0.5 * x * (1 + torch.tanh(math.sqrt(2 / math.pi) *\n",
    "            (x + 0.044715 * torch.pow(x, 3))))\n",
    "            Also see https://arxiv.org/abs/1606.08415\n",
    "        \"\"\"\n",
    "        return x * 0.5 * (1.0 + torch.erf(x / math.sqrt(2.0)))\n",
    "\n",
    "# Thanks for the Kihyeon Kim\n",
    "class MySequential(nn.Sequential):\n",
    "    # New Sequential function\n",
    "    # this can handle the tuple also\n",
    "    def forward(self, *x):\n",
    "        # nn.Sequential class does not provide multiple input arguments and returns.\n",
    "        # Thus, we need to define new class to solve this issue.\n",
    "        # Note that each block has same function interface.\n",
    "\n",
    "        for module in self._modules.values():\n",
    "            x = module(*x)\n",
    "\n",
    "        return x\n",
    "\n",
    "# This is the main model\n",
    "class MonaConvBert4ktPlusDiff(nn.Module):\n",
    "\n",
    "    def __init__(\n",
    "        self,\n",
    "        num_q,\n",
    "        num_r,\n",
    "        num_pid,\n",
    "        num_diff,\n",
    "        hidden_size,\n",
    "        output_size,\n",
    "        num_head,\n",
    "        num_encoder,\n",
    "        max_seq_len,\n",
    "        device,\n",
    "        use_leakyrelu,\n",
    "        dropout_p=.1,\n",
    "    ):\n",
    "        self.num_q = num_q\n",
    "        self.num_r = num_r + 2 # '+2' is for 1(correct), 0(incorrect), <PAD>, <MASK>\n",
    "        self.num_pid = num_pid\n",
    "        self.num_diff = 101 # hard coding\n",
    "\n",
    "        self.hidden_size = hidden_size\n",
    "        self.output_size = output_size\n",
    "        self.num_head = num_head\n",
    "        self.num_encoder = num_encoder\n",
    "        self.max_seq_len = max_seq_len\n",
    "        self.device = device\n",
    "        self.use_leakyrelu = use_leakyrelu\n",
    "        self.dropout_p = dropout_p\n",
    "\n",
    "        super().__init__()\n",
    "\n",
    "        # question embedding\n",
    "        self.emb_q = nn.Embedding(self.num_q, self.hidden_size).to(self.device)\n",
    "        # response embedding\n",
    "        self.emb_r = nn.Embedding(self.num_r, self.hidden_size).to(self.device)\n",
    "        # positional embedding\n",
    "        self.emb_pid = nn.Embedding(self.num_pid, self.hidden_size).to(self.device)\n",
    "\n",
    "        self.emb_diff = nn.Embedding(self.num_diff, self.hidden_size).to(self.device)\n",
    "\n",
    "        self.emb_p = nn.Embedding(self.max_seq_len, self.hidden_size).to(self.device)\n",
    "        self.emb_dropout = nn.Dropout(self.dropout_p)\n",
    "\n",
    "        # Using MySequential\n",
    "        self.encoder = nn.ModuleList(\n",
    "            [EncoderBlock(\n",
    "                hidden_size,\n",
    "                num_head,\n",
    "                self.use_leakyrelu,\n",
    "                self.max_seq_len,\n",
    "                dropout_p,\n",
    "            ) for _ in range(num_encoder)],\n",
    "        )\n",
    "\n",
    "        self.generator = nn.Sequential(\n",
    "            nn.LayerNorm(hidden_size), # Only for Pre-LN Transformer.\n",
    "            nn.Linear(hidden_size, output_size),\n",
    "            nn.Sigmoid() # Binary\n",
    "        )\n",
    "\n",
    "    # Learnable Positional embedding\n",
    "    def _positional_embedding(self, q):\n",
    "        # |q| = (bs, n)\n",
    "        # |r| = (bs, n)\n",
    "        seq_len = q.size(1)\n",
    "        # seq_len = (n,)\n",
    "        pos = torch.arange(seq_len, dtype=torch.long).unsqueeze(0).expand_as(q).to(self.device)\n",
    "        # |pos| = (bs, n)\n",
    "        \n",
    "        pos_emb = self.emb_p(pos)\n",
    "        # |emb| = (bs, n, hs)\n",
    "\n",
    "        return pos_emb\n",
    "\n",
    "    def forward(self, q, r, pid, diff, mask):\n",
    "        # |q| = (bs, n)\n",
    "        # |r| = (bs, n)\n",
    "        # |mask| = (bs, n)\n",
    "\n",
    "        emb = self.emb_q(q) + self.emb_r(r) + self.emb_pid(pid) + self.emb_diff(diff) + self._positional_embedding(q)\n",
    "        # |emb| = (bs, n, emb_size)\n",
    "\n",
    "        z = self.emb_dropout(emb)\n",
    "        # |z| = (bs, n, emb_size)\n",
    "\n",
    "        # |mask_enc| = (bs, n, n)\n",
    "        # |z| = (bs, n, emb_size)\n",
    "        attn_probs = None\n",
    "\n",
    "        for block in self.encoder:\n",
    "            z, _, attn_probs = block(z, mask, attn_probs)\n",
    "\n",
    "        y_hat = self.generator(z)\n",
    "        #|y_hat| = (bs, n, output_size=1)\n",
    "\n",
    "        return y_hat, attn_probs"
   ]
  },
  {
   "cell_type": "code",
   "execution_count": 4,
   "metadata": {},
   "outputs": [],
   "source": [
    "model = MonaConvBert4ktPlusDiff(\n",
    "    num_q=num_q,\n",
    "    num_r=num_r,\n",
    "    num_pid=num_pid,\n",
    "    num_diff=num_diff,\n",
    "    hidden_size=hidden_size,\n",
    "    output_size=output_size,\n",
    "    num_head=num_head,\n",
    "    num_encoder=num_encoder,\n",
    "    max_seq_len=max_seq_len,\n",
    "    device=device,\n",
    "    use_leakyrelu=use_leakyrelu,\n",
    "    dropout_p=dropout_p\n",
    "    ).to(device)"
   ]
  },
  {
   "cell_type": "code",
   "execution_count": 5,
   "metadata": {},
   "outputs": [],
   "source": [
    "from torch.optim import Adam\n",
    "from torch.nn.functional import binary_cross_entropy\n",
    "\n",
    "optimizer = Adam(model.parameters(), learning_rate)\n",
    "crit = binary_cross_entropy"
   ]
  },
  {
   "cell_type": "code",
   "execution_count": 6,
   "metadata": {},
   "outputs": [],
   "source": [
    "import torch\n",
    "from copy import deepcopy\n",
    "\n",
    "from torch.nn.functional import one_hot\n",
    "from sklearn import metrics\n",
    "import numpy as np\n",
    "from tqdm import tqdm\n",
    "from random import random, randint\n",
    "\n",
    "from utils import EarlyStopping\n",
    "\n",
    "# For Train MLM\n",
    "# 15% <MASK>, 80% of 15% are real <MASK>, 10% of 15% are reverse, 10% of 15% are not changed\n",
    "def Mlm4BertTrain(r_seqs, mask_seqs):\n",
    "    #|r_seqs| = (bs, n)\n",
    "\n",
    "    mlm_r_seqs = []\n",
    "    mlm_idxs = []\n",
    "\n",
    "    # <PAD> is -1\n",
    "    for r_seq, mask_seq in zip(r_seqs, mask_seqs):\n",
    "        r_len = r_seq.size(0)\n",
    "        # real_r_seq: r_seq with no <PAD>\n",
    "        real_r_seq = torch.masked_select(r_seq, mask_seq).cpu()\n",
    "        real_r_seq_len = real_r_seq.size(0)\n",
    "\n",
    "        mlm_idx = np.random.choice(real_r_seq_len, int(real_r_seq_len*0.15), replace=False)\n",
    "\n",
    "        for idx in mlm_idx:\n",
    "            if random() < 0.8: # 15% of 80% are <MASK>\n",
    "                real_r_seq[idx] = 2 # <MASK> is 2\n",
    "            elif random() < 0.5: # 15% of 10% are random among the 0 or 1\n",
    "                real_r_seq[idx] = randint(0, 1)\n",
    "            # 15% of 10% are same with original\n",
    "\n",
    "        # cover the PAD(-1)\n",
    "        pad_len = r_len - real_r_seq_len\n",
    "        # <PAD> is 3\n",
    "        pad_seq = torch.full((1, pad_len), 3).squeeze(0) \n",
    "        # combine the <PAD>\n",
    "        pad_r_seq = torch.cat((real_r_seq, pad_seq), dim=-1)\n",
    "        # append to the mlm_r_seqs\n",
    "        mlm_r_seqs.append(pad_r_seq)\n",
    "\n",
    "        # <MASK> idx bool\n",
    "        # make zero vector with r_len size\n",
    "        mlm_zeros = np.zeros(shape=(r_len, ))\n",
    "        # mlm_idx are 1\n",
    "        mlm_zeros[mlm_idx] = 1\n",
    "        # append to the mlm_idxs\n",
    "        mlm_idxs.append(mlm_zeros)\n",
    "\n",
    "    mlm_r_seqs = torch.stack(mlm_r_seqs)\n",
    "    mlm_idxs = torch.BoolTensor(mlm_idxs)\n",
    "\n",
    "    # mlm_r_seqs: masked r_seqs\n",
    "    # mlm_idx: masked idx\n",
    "    return mlm_r_seqs, mlm_idxs\n",
    "    # |mlm_r_seqs| = (bs, n)\n",
    "    # |mask_seqs| = (bs, n)\n",
    "\n",
    "# For Test MLM\n",
    "# The last of seq will be changed to the <MASK>\n",
    "def Mlm4BertTest(r_seqs, mask_seqs):\n",
    "    #|r_seqs| = (bs, n)\n",
    "\n",
    "    mlm_r_seqs = []\n",
    "    mlm_idxs = []\n",
    "\n",
    "    for r_seq, mask_seq in zip(r_seqs, mask_seqs):\n",
    "        r_len = r_seq.size(0)\n",
    "\n",
    "        real_r_seq = torch.masked_select(r_seq, mask_seq).cpu()\n",
    "        real_r_seq_len = real_r_seq.size(0)\n",
    "\n",
    "        # last index of real_r_seq\n",
    "        mlm_idx = real_r_seq_len - 1\n",
    "        # last index get a <MASK>, <MASK> is 2\n",
    "        real_r_seq[mlm_idx] = 2\n",
    "\n",
    "        pad_len = r_len - real_r_seq_len\n",
    "        pad_seq = torch.full((1, pad_len), 3).squeeze(0) # <PAD> is 3\n",
    "        pad_r_seq = torch.cat((real_r_seq, pad_seq), dim=-1)\n",
    "        mlm_r_seqs.append(pad_r_seq)\n",
    "\n",
    "        mlm_zeros = np.zeros(shape=(r_len, ))\n",
    "        mlm_zeros[mlm_idx] = 1\n",
    "        mlm_idxs.append(mlm_zeros)\n",
    "\n",
    "    mlm_r_seqs = torch.stack(mlm_r_seqs)\n",
    "    mlm_idxs = torch.BoolTensor(mlm_idxs)\n",
    "\n",
    "    return mlm_r_seqs, mlm_idxs\n",
    "    # |mlm_r_seqs| = (bs, n)\n",
    "    # |mask_seqs| = (bs, n)\n",
    "\n",
    "class MonaConvBert4ktPlusDiffTrainer():\n",
    "\n",
    "    def __init__(\n",
    "        self, \n",
    "        model, \n",
    "        optimizer, \n",
    "        n_epochs, \n",
    "        device, \n",
    "        num_q, \n",
    "        crit, \n",
    "        max_seq_len, \n",
    "        grad_acc=False, \n",
    "        grad_acc_iter=4\n",
    "        ):\n",
    "        self.model = model.to(device)\n",
    "        self.optimizer = optimizer\n",
    "        self.n_epochs = n_epochs\n",
    "        self.device = device\n",
    "        self.num_q = num_q\n",
    "        self.crit = crit\n",
    "        self.max_seq_len = max_seq_len\n",
    "        self.grad_acc = grad_acc #gradient accumulation\n",
    "        self.grad_acc_iter = grad_acc_iter\n",
    "    \n",
    "    def _train(self, train_loader):\n",
    "\n",
    "        auc_score = 0\n",
    "        y_trues, y_scores = [], []\n",
    "        loss_list = []\n",
    "\n",
    "        for idx, data in enumerate(tqdm(train_loader)):\n",
    "            self.model.train()\n",
    "            q_seqs, r_seqs, pid_seqs, diff_seqs, mask_seqs = data\n",
    "\n",
    "            q_seqs = q_seqs.to(self.device) # |q_seqs| = (bs, n)\n",
    "            r_seqs = r_seqs.to(self.device) # |r_seqs| = (bs, n)\n",
    "            pid_seqs = pid_seqs.to(self.device) # |pid_seqs| = (bs, n)\n",
    "            diff_seqs = diff_seqs.to(self.device)\n",
    "            mask_seqs = mask_seqs.to(self.device) # |mask_seqs| = (bs, n)\n",
    "\n",
    "            # for correct\n",
    "            real_seqs = r_seqs.clone()\n",
    "\n",
    "            # mlm_r_seqs: for MLM, [MASK] position get 2 / mlm_idx are index of [MASK]\n",
    "            mlm_r_seqs, mlm_idxs = Mlm4BertTrain(r_seqs, mask_seqs)\n",
    "            # |mlm_r_seqs| = (bs, n)\n",
    "            # |mlm_idxs| = (bs, n)\n",
    "            mlm_r_seqs = mlm_r_seqs.to(self.device)\n",
    "            mlm_idxs = mlm_idxs.to(self.device)\n",
    "\n",
    "            y_hat, attn_probs = self.model(\n",
    "                q_seqs.long(), \n",
    "                mlm_r_seqs.long(), # r_seqs with MLM\n",
    "                pid_seqs.long(),\n",
    "                diff_seqs.long(),\n",
    "                mask_seqs.long() # for attn_mask\n",
    "            )\n",
    "            # |y_hat| = (bs, n, output_size=1)\n",
    "\n",
    "            y_hat = y_hat.squeeze()\n",
    "             # |y_hat| = (bs, n)\n",
    "\n",
    "            # predictions\n",
    "            y_hat = torch.masked_select(y_hat, mlm_idxs)\n",
    "            #|y_hat| = (bs * n - n_mlm_idxs)\n",
    "            # real values\n",
    "            correct = torch.masked_select(real_seqs, mlm_idxs)\n",
    "            #|correct| = (bs * n - n_mlm_idxs)\n",
    "\n",
    "            loss = self.crit(y_hat, correct)\n",
    "            # |loss| = (1)\n",
    "\n",
    "            # grad_accumulation = True\n",
    "            if self.grad_acc == True:\n",
    "                loss.backward()\n",
    "                if (idx + 1) % self.grad_acc_iter == 0:\n",
    "                    self.optimizer.step()\n",
    "                    self.optimizer.zero_grad()\n",
    "            # grad_accumulation = False\n",
    "            else:\n",
    "                self.optimizer.zero_grad()\n",
    "                loss.backward()\n",
    "                self.optimizer.step()\n",
    "\n",
    "            y_trues.append(correct)\n",
    "            y_scores.append(y_hat)\n",
    "            loss_list.append(loss)\n",
    "\n",
    "        y_trues = torch.cat(y_trues).detach().cpu().numpy()\n",
    "        y_scores = torch.cat(y_scores).detach().cpu().numpy()\n",
    "\n",
    "        auc_score += metrics.roc_auc_score( y_trues, y_scores )\n",
    "\n",
    "        loss_result = torch.mean(torch.Tensor(loss_list)).detach().cpu().numpy()\n",
    "\n",
    "        return auc_score\n",
    "\n",
    "    def _validate(self, valid_loader):\n",
    "\n",
    "        auc_score = 0\n",
    "        y_trues, y_scores = [], []\n",
    "        loss_list = []\n",
    "\n",
    "        with torch.no_grad():\n",
    "            for data in tqdm(valid_loader):\n",
    "                self.model.eval()\n",
    "                q_seqs, r_seqs, pid_seqs, diff_seqs, mask_seqs = data\n",
    "                \n",
    "                q_seqs = q_seqs.to(self.device)\n",
    "                r_seqs = r_seqs.to(self.device)\n",
    "                pid_seqs = pid_seqs.to(self.device)\n",
    "                diff_seqs = diff_seqs.to(self.device)\n",
    "                mask_seqs = mask_seqs.to(self.device)\n",
    "\n",
    "                real_seqs = r_seqs.clone()\n",
    "\n",
    "                mlm_r_seqs, mlm_idxs = Mlm4BertTest(r_seqs, mask_seqs)\n",
    "\n",
    "                mlm_r_seqs = mlm_r_seqs.to(self.device)\n",
    "                mlm_idxs = mlm_idxs.to(self.device)\n",
    "\n",
    "                y_hat, attn_probs = self.model(\n",
    "                    q_seqs.long(),\n",
    "                    mlm_r_seqs.long(),\n",
    "                    pid_seqs.long(),\n",
    "                    diff_seqs.long(),\n",
    "                    mask_seqs.long()\n",
    "                )\n",
    "\n",
    "                y_hat = y_hat.squeeze()\n",
    "\n",
    "                y_hat = torch.masked_select(y_hat, mlm_idxs)\n",
    "                correct = torch.masked_select(real_seqs, mlm_idxs)\n",
    "\n",
    "                loss = self.crit(y_hat, correct)\n",
    "\n",
    "                y_trues.append(correct)\n",
    "                y_scores.append(y_hat)\n",
    "                loss_list.append(loss)\n",
    "\n",
    "        y_trues = torch.cat(y_trues).detach().cpu().numpy()\n",
    "        y_scores = torch.cat(y_scores).detach().cpu().numpy()\n",
    "\n",
    "        auc_score += metrics.roc_auc_score( y_trues, y_scores )\n",
    "\n",
    "        loss_result = torch.mean(torch.Tensor(loss_list)).detach().cpu().numpy()\n",
    "\n",
    "        return auc_score\n",
    "\n",
    "    def _test(self, test_loader):\n",
    "\n",
    "        auc_score = 0\n",
    "        y_trues, y_scores = [], []\n",
    "        loss_list = []\n",
    "\n",
    "        with torch.no_grad():\n",
    "            for data in tqdm(test_loader):\n",
    "                self.model.eval()\n",
    "                q_seqs, r_seqs, pid_seqs, diff_seqs, mask_seqs = data\n",
    "                \n",
    "                q_seqs = q_seqs.to(self.device)\n",
    "                r_seqs = r_seqs.to(self.device)\n",
    "                pid_seqs = pid_seqs.to(self.device)\n",
    "                diff_seqs = diff_seqs.to(self.device)\n",
    "                mask_seqs = mask_seqs.to(self.device)\n",
    "\n",
    "                real_seqs = r_seqs.clone()\n",
    "\n",
    "                mlm_r_seqs, mlm_idxs = Mlm4BertTest(r_seqs, mask_seqs)\n",
    "\n",
    "                mlm_r_seqs = mlm_r_seqs.to(self.device)\n",
    "                mlm_idxs = mlm_idxs.to(self.device)\n",
    "\n",
    "                y_hat, attn_probs = self.model(\n",
    "                    q_seqs.long(),\n",
    "                    mlm_r_seqs.long(),\n",
    "                    pid_seqs.long(),\n",
    "                    diff_seqs.long(),\n",
    "                    mask_seqs.long()\n",
    "                )\n",
    "\n",
    "                y_hat = y_hat.squeeze()\n",
    "\n",
    "                y_hat = torch.masked_select(y_hat, mlm_idxs)\n",
    "                correct = torch.masked_select(real_seqs, mlm_idxs)\n",
    "\n",
    "                loss = self.crit(y_hat, correct)\n",
    "\n",
    "                y_trues.append(correct)\n",
    "                y_scores.append(y_hat)\n",
    "                loss_list.append(loss)\n",
    "\n",
    "        y_trues = torch.cat(y_trues).detach().cpu().numpy()\n",
    "        y_scores = torch.cat(y_scores).detach().cpu().numpy()\n",
    "\n",
    "        auc_score += metrics.roc_auc_score( y_trues, y_scores )\n",
    "\n",
    "        loss_result = torch.mean(torch.Tensor(loss_list)).detach().cpu().numpy()\n",
    "\n",
    "        return auc_score, attn_probs\n",
    "\n",
    "    # train use the _train, _validate, _test\n",
    "    def train(self, train_loader, valid_loader, test_loader):\n",
    "        \n",
    "        best_valid_score = 0\n",
    "        train_scores = []\n",
    "        valid_scores = []\n",
    "\n",
    "        # early_stopping\n",
    "        early_stopping = EarlyStopping(metric_name=\"AUC\",\n",
    "                                    best_score=best_valid_score)\n",
    "\n",
    "        # Train and Valid Session\n",
    "        for epoch_index in range(self.n_epochs):\n",
    "            \n",
    "            print(\"Epoch(%d/%d) start\" % (\n",
    "                epoch_index + 1,\n",
    "                self.n_epochs\n",
    "            ))\n",
    "\n",
    "            # Training Session\n",
    "            train_score = self._train(train_loader)\n",
    "            valid_score = self._validate(valid_loader)\n",
    "\n",
    "            # train, test record 저장\n",
    "            train_scores.append(train_score)\n",
    "            valid_scores.append(valid_score)\n",
    "\n",
    "            # early stop\n",
    "            train_scores_avg = np.average(train_scores)\n",
    "            valid_scores_avg = np.average(valid_scores)\n",
    "            early_stopping(valid_scores_avg, self.model)\n",
    "            if early_stopping.early_stop:\n",
    "                print(\"Early stopping\")\n",
    "                break\n",
    "\n",
    "            print(\"Epoch(%d/%d) result: train_score=%.4f  valid_score=%.4f\" % (\n",
    "                epoch_index + 1,\n",
    "                self.n_epochs,\n",
    "                train_score,\n",
    "                valid_score\n",
    "            ))\n",
    "\n",
    "\n",
    "        test_score, attn_probs = self._test(test_loader)\n",
    "\n",
    "        return attn_probs"
   ]
  },
  {
   "cell_type": "code",
   "execution_count": 7,
   "metadata": {},
   "outputs": [],
   "source": [
    "trainer = MonaConvBert4ktPlusDiffTrainer(\n",
    "    model=model,\n",
    "    optimizer=optimizer,\n",
    "    n_epochs=n_epochs,\n",
    "    device=device,\n",
    "    num_q=num_q,\n",
    "    crit=crit,\n",
    "    max_seq_len=max_seq_len,\n",
    "    grad_acc=grad_acc,\n",
    "    grad_acc_iter=grad_acc_iter\n",
    ")"
   ]
  },
  {
   "cell_type": "code",
   "execution_count": 8,
   "metadata": {},
   "outputs": [
    {
     "name": "stdout",
     "output_type": "stream",
     "text": [
      "Epoch(1/1000) start\n"
     ]
    },
    {
     "name": "stderr",
     "output_type": "stream",
     "text": [
      "  0%|          | 0/61 [00:00<?, ?it/s]/tmp/ipykernel_426807/248469530.py:54: UserWarning: Creating a tensor from a list of numpy.ndarrays is extremely slow. Please consider converting the list to a single numpy.ndarray with numpy.array() before converting to a tensor. (Triggered internally at  ../torch/csrc/utils/tensor_new.cpp:203.)\n",
      "  mlm_idxs = torch.BoolTensor(mlm_idxs)\n",
      "100%|██████████| 61/61 [00:21<00:00,  2.90it/s]\n",
      "100%|██████████| 7/7 [00:00<00:00,  7.70it/s]\n",
      "/usr/local/lib/python3.8/dist-packages/torch/nn/modules/module.py:1383: UserWarning: positional arguments and argument \"destination\" are deprecated. nn.Module.state_dict will not accept them in the future. Refer to https://pytorch.org/docs/master/generated/torch.nn.Module.html#torch.nn.Module.state_dict for details.\n",
      "  warnings.warn(\n"
     ]
    },
    {
     "name": "stdout",
     "output_type": "stream",
     "text": [
      "Validation loss was updated (0.000000 --> 0.659983).  Saving model ...\n",
      "Epoch(1/1000) result: train_score=0.5222  valid_score=0.6600\n",
      "Epoch(2/1000) start\n"
     ]
    },
    {
     "name": "stderr",
     "output_type": "stream",
     "text": [
      "100%|██████████| 61/61 [00:20<00:00,  3.00it/s]\n",
      "100%|██████████| 7/7 [00:00<00:00,  7.67it/s]\n",
      "/usr/local/lib/python3.8/dist-packages/torch/nn/modules/module.py:1383: UserWarning: positional arguments and argument \"destination\" are deprecated. nn.Module.state_dict will not accept them in the future. Refer to https://pytorch.org/docs/master/generated/torch.nn.Module.html#torch.nn.Module.state_dict for details.\n",
      "  warnings.warn(\n"
     ]
    },
    {
     "name": "stdout",
     "output_type": "stream",
     "text": [
      "Validation loss was updated (0.659983 --> 0.682080).  Saving model ...\n",
      "Epoch(2/1000) result: train_score=0.5338  valid_score=0.7042\n",
      "Epoch(3/1000) start\n"
     ]
    },
    {
     "name": "stderr",
     "output_type": "stream",
     "text": [
      "100%|██████████| 61/61 [00:20<00:00,  2.99it/s]\n",
      "100%|██████████| 7/7 [00:00<00:00,  7.63it/s]\n",
      "/usr/local/lib/python3.8/dist-packages/torch/nn/modules/module.py:1383: UserWarning: positional arguments and argument \"destination\" are deprecated. nn.Module.state_dict will not accept them in the future. Refer to https://pytorch.org/docs/master/generated/torch.nn.Module.html#torch.nn.Module.state_dict for details.\n",
      "  warnings.warn(\n"
     ]
    },
    {
     "name": "stdout",
     "output_type": "stream",
     "text": [
      "Validation loss was updated (0.682080 --> 0.698234).  Saving model ...\n",
      "Epoch(3/1000) result: train_score=0.5435  valid_score=0.7305\n",
      "Epoch(4/1000) start\n"
     ]
    },
    {
     "name": "stderr",
     "output_type": "stream",
     "text": [
      "100%|██████████| 61/61 [00:20<00:00,  2.98it/s]\n",
      "100%|██████████| 7/7 [00:00<00:00,  7.61it/s]\n",
      "/usr/local/lib/python3.8/dist-packages/torch/nn/modules/module.py:1383: UserWarning: positional arguments and argument \"destination\" are deprecated. nn.Module.state_dict will not accept them in the future. Refer to https://pytorch.org/docs/master/generated/torch.nn.Module.html#torch.nn.Module.state_dict for details.\n",
      "  warnings.warn(\n"
     ]
    },
    {
     "name": "stdout",
     "output_type": "stream",
     "text": [
      "Validation loss was updated (0.698234 --> 0.716210).  Saving model ...\n",
      "Epoch(4/1000) result: train_score=0.6224  valid_score=0.7701\n",
      "Epoch(5/1000) start\n"
     ]
    },
    {
     "name": "stderr",
     "output_type": "stream",
     "text": [
      "100%|██████████| 61/61 [00:20<00:00,  2.97it/s]\n",
      "100%|██████████| 7/7 [00:00<00:00,  7.56it/s]\n",
      "/usr/local/lib/python3.8/dist-packages/torch/nn/modules/module.py:1383: UserWarning: positional arguments and argument \"destination\" are deprecated. nn.Module.state_dict will not accept them in the future. Refer to https://pytorch.org/docs/master/generated/torch.nn.Module.html#torch.nn.Module.state_dict for details.\n",
      "  warnings.warn(\n"
     ]
    },
    {
     "name": "stdout",
     "output_type": "stream",
     "text": [
      "Validation loss was updated (0.716210 --> 0.735737).  Saving model ...\n",
      "Epoch(5/1000) result: train_score=0.7370  valid_score=0.8138\n",
      "Epoch(6/1000) start\n"
     ]
    },
    {
     "name": "stderr",
     "output_type": "stream",
     "text": [
      "100%|██████████| 61/61 [00:20<00:00,  2.97it/s]\n",
      "100%|██████████| 7/7 [00:00<00:00,  7.57it/s]\n",
      "/usr/local/lib/python3.8/dist-packages/torch/nn/modules/module.py:1383: UserWarning: positional arguments and argument \"destination\" are deprecated. nn.Module.state_dict will not accept them in the future. Refer to https://pytorch.org/docs/master/generated/torch.nn.Module.html#torch.nn.Module.state_dict for details.\n",
      "  warnings.warn(\n"
     ]
    },
    {
     "name": "stdout",
     "output_type": "stream",
     "text": [
      "Validation loss was updated (0.735737 --> 0.750223).  Saving model ...\n",
      "Epoch(6/1000) result: train_score=0.7592  valid_score=0.8227\n",
      "Epoch(7/1000) start\n"
     ]
    },
    {
     "name": "stderr",
     "output_type": "stream",
     "text": [
      "100%|██████████| 61/61 [00:20<00:00,  2.96it/s]\n",
      "100%|██████████| 7/7 [00:00<00:00,  7.54it/s]\n",
      "/usr/local/lib/python3.8/dist-packages/torch/nn/modules/module.py:1383: UserWarning: positional arguments and argument \"destination\" are deprecated. nn.Module.state_dict will not accept them in the future. Refer to https://pytorch.org/docs/master/generated/torch.nn.Module.html#torch.nn.Module.state_dict for details.\n",
      "  warnings.warn(\n"
     ]
    },
    {
     "name": "stdout",
     "output_type": "stream",
     "text": [
      "Validation loss was updated (0.750223 --> 0.761378).  Saving model ...\n",
      "Epoch(7/1000) result: train_score=0.7768  valid_score=0.8283\n",
      "Epoch(8/1000) start\n"
     ]
    },
    {
     "name": "stderr",
     "output_type": "stream",
     "text": [
      "100%|██████████| 61/61 [00:20<00:00,  2.95it/s]\n",
      "100%|██████████| 7/7 [00:00<00:00,  7.52it/s]\n",
      "/usr/local/lib/python3.8/dist-packages/torch/nn/modules/module.py:1383: UserWarning: positional arguments and argument \"destination\" are deprecated. nn.Module.state_dict will not accept them in the future. Refer to https://pytorch.org/docs/master/generated/torch.nn.Module.html#torch.nn.Module.state_dict for details.\n",
      "  warnings.warn(\n"
     ]
    },
    {
     "name": "stdout",
     "output_type": "stream",
     "text": [
      "Validation loss was updated (0.761378 --> 0.771257).  Saving model ...\n",
      "Epoch(8/1000) result: train_score=0.8037  valid_score=0.8404\n",
      "Epoch(9/1000) start\n"
     ]
    },
    {
     "name": "stderr",
     "output_type": "stream",
     "text": [
      "100%|██████████| 61/61 [00:20<00:00,  2.93it/s]\n",
      "100%|██████████| 7/7 [00:00<00:00,  7.47it/s]\n",
      "/usr/local/lib/python3.8/dist-packages/torch/nn/modules/module.py:1383: UserWarning: positional arguments and argument \"destination\" are deprecated. nn.Module.state_dict will not accept them in the future. Refer to https://pytorch.org/docs/master/generated/torch.nn.Module.html#torch.nn.Module.state_dict for details.\n",
      "  warnings.warn(\n"
     ]
    },
    {
     "name": "stdout",
     "output_type": "stream",
     "text": [
      "Validation loss was updated (0.771257 --> 0.779421).  Saving model ...\n",
      "Epoch(9/1000) result: train_score=0.8095  valid_score=0.8447\n",
      "Epoch(10/1000) start\n"
     ]
    },
    {
     "name": "stderr",
     "output_type": "stream",
     "text": [
      "100%|██████████| 61/61 [00:20<00:00,  2.92it/s]\n",
      "100%|██████████| 7/7 [00:00<00:00,  7.44it/s]\n",
      "/usr/local/lib/python3.8/dist-packages/torch/nn/modules/module.py:1383: UserWarning: positional arguments and argument \"destination\" are deprecated. nn.Module.state_dict will not accept them in the future. Refer to https://pytorch.org/docs/master/generated/torch.nn.Module.html#torch.nn.Module.state_dict for details.\n",
      "  warnings.warn(\n"
     ]
    },
    {
     "name": "stdout",
     "output_type": "stream",
     "text": [
      "Validation loss was updated (0.779421 --> 0.786334).  Saving model ...\n",
      "Epoch(10/1000) result: train_score=0.8191  valid_score=0.8485\n",
      "Epoch(11/1000) start\n"
     ]
    },
    {
     "name": "stderr",
     "output_type": "stream",
     "text": [
      "100%|██████████| 61/61 [00:20<00:00,  2.92it/s]\n",
      "100%|██████████| 7/7 [00:00<00:00,  7.41it/s]\n",
      "/usr/local/lib/python3.8/dist-packages/torch/nn/modules/module.py:1383: UserWarning: positional arguments and argument \"destination\" are deprecated. nn.Module.state_dict will not accept them in the future. Refer to https://pytorch.org/docs/master/generated/torch.nn.Module.html#torch.nn.Module.state_dict for details.\n",
      "  warnings.warn(\n"
     ]
    },
    {
     "name": "stdout",
     "output_type": "stream",
     "text": [
      "Validation loss was updated (0.786334 --> 0.792211).  Saving model ...\n",
      "Epoch(11/1000) result: train_score=0.8211  valid_score=0.8510\n",
      "Epoch(12/1000) start\n"
     ]
    },
    {
     "name": "stderr",
     "output_type": "stream",
     "text": [
      "100%|██████████| 61/61 [00:20<00:00,  2.91it/s]\n",
      "100%|██████████| 7/7 [00:00<00:00,  7.44it/s]\n",
      "/usr/local/lib/python3.8/dist-packages/torch/nn/modules/module.py:1383: UserWarning: positional arguments and argument \"destination\" are deprecated. nn.Module.state_dict will not accept them in the future. Refer to https://pytorch.org/docs/master/generated/torch.nn.Module.html#torch.nn.Module.state_dict for details.\n",
      "  warnings.warn(\n"
     ]
    },
    {
     "name": "stdout",
     "output_type": "stream",
     "text": [
      "Validation loss was updated (0.792211 --> 0.796781).  Saving model ...\n",
      "Epoch(12/1000) result: train_score=0.8257  valid_score=0.8470\n",
      "Epoch(13/1000) start\n"
     ]
    },
    {
     "name": "stderr",
     "output_type": "stream",
     "text": [
      "100%|██████████| 61/61 [00:20<00:00,  2.91it/s]\n",
      "100%|██████████| 7/7 [00:00<00:00,  7.40it/s]\n",
      "/usr/local/lib/python3.8/dist-packages/torch/nn/modules/module.py:1383: UserWarning: positional arguments and argument \"destination\" are deprecated. nn.Module.state_dict will not accept them in the future. Refer to https://pytorch.org/docs/master/generated/torch.nn.Module.html#torch.nn.Module.state_dict for details.\n",
      "  warnings.warn(\n"
     ]
    },
    {
     "name": "stdout",
     "output_type": "stream",
     "text": [
      "Validation loss was updated (0.796781 --> 0.801018).  Saving model ...\n",
      "Epoch(13/1000) result: train_score=0.8304  valid_score=0.8519\n",
      "Epoch(14/1000) start\n"
     ]
    },
    {
     "name": "stderr",
     "output_type": "stream",
     "text": [
      "100%|██████████| 61/61 [00:20<00:00,  2.91it/s]\n",
      "100%|██████████| 7/7 [00:00<00:00,  7.44it/s]\n",
      "/usr/local/lib/python3.8/dist-packages/torch/nn/modules/module.py:1383: UserWarning: positional arguments and argument \"destination\" are deprecated. nn.Module.state_dict will not accept them in the future. Refer to https://pytorch.org/docs/master/generated/torch.nn.Module.html#torch.nn.Module.state_dict for details.\n",
      "  warnings.warn(\n"
     ]
    },
    {
     "name": "stdout",
     "output_type": "stream",
     "text": [
      "Validation loss was updated (0.801018 --> 0.804729).  Saving model ...\n",
      "Epoch(14/1000) result: train_score=0.8294  valid_score=0.8530\n",
      "Epoch(15/1000) start\n"
     ]
    },
    {
     "name": "stderr",
     "output_type": "stream",
     "text": [
      "100%|██████████| 61/61 [00:21<00:00,  2.90it/s]\n",
      "100%|██████████| 7/7 [00:00<00:00,  7.42it/s]\n",
      "/usr/local/lib/python3.8/dist-packages/torch/nn/modules/module.py:1383: UserWarning: positional arguments and argument \"destination\" are deprecated. nn.Module.state_dict will not accept them in the future. Refer to https://pytorch.org/docs/master/generated/torch.nn.Module.html#torch.nn.Module.state_dict for details.\n",
      "  warnings.warn(\n"
     ]
    },
    {
     "name": "stdout",
     "output_type": "stream",
     "text": [
      "Validation loss was updated (0.804729 --> 0.808218).  Saving model ...\n",
      "Epoch(15/1000) result: train_score=0.8315  valid_score=0.8571\n",
      "Epoch(16/1000) start\n"
     ]
    },
    {
     "name": "stderr",
     "output_type": "stream",
     "text": [
      "100%|██████████| 61/61 [00:20<00:00,  2.91it/s]\n",
      "100%|██████████| 7/7 [00:00<00:00,  7.40it/s]\n",
      "/usr/local/lib/python3.8/dist-packages/torch/nn/modules/module.py:1383: UserWarning: positional arguments and argument \"destination\" are deprecated. nn.Module.state_dict will not accept them in the future. Refer to https://pytorch.org/docs/master/generated/torch.nn.Module.html#torch.nn.Module.state_dict for details.\n",
      "  warnings.warn(\n"
     ]
    },
    {
     "name": "stdout",
     "output_type": "stream",
     "text": [
      "Validation loss was updated (0.808218 --> 0.811501).  Saving model ...\n",
      "Epoch(16/1000) result: train_score=0.8348  valid_score=0.8607\n",
      "Epoch(17/1000) start\n"
     ]
    },
    {
     "name": "stderr",
     "output_type": "stream",
     "text": [
      "100%|██████████| 61/61 [00:20<00:00,  2.91it/s]\n",
      "100%|██████████| 7/7 [00:00<00:00,  7.40it/s]\n",
      "/usr/local/lib/python3.8/dist-packages/torch/nn/modules/module.py:1383: UserWarning: positional arguments and argument \"destination\" are deprecated. nn.Module.state_dict will not accept them in the future. Refer to https://pytorch.org/docs/master/generated/torch.nn.Module.html#torch.nn.Module.state_dict for details.\n",
      "  warnings.warn(\n"
     ]
    },
    {
     "name": "stdout",
     "output_type": "stream",
     "text": [
      "Validation loss was updated (0.811501 --> 0.814461).  Saving model ...\n",
      "Epoch(17/1000) result: train_score=0.8361  valid_score=0.8618\n",
      "Epoch(18/1000) start\n"
     ]
    },
    {
     "name": "stderr",
     "output_type": "stream",
     "text": [
      "100%|██████████| 61/61 [00:20<00:00,  2.91it/s]\n",
      "100%|██████████| 7/7 [00:00<00:00,  7.40it/s]\n",
      "/usr/local/lib/python3.8/dist-packages/torch/nn/modules/module.py:1383: UserWarning: positional arguments and argument \"destination\" are deprecated. nn.Module.state_dict will not accept them in the future. Refer to https://pytorch.org/docs/master/generated/torch.nn.Module.html#torch.nn.Module.state_dict for details.\n",
      "  warnings.warn(\n"
     ]
    },
    {
     "name": "stdout",
     "output_type": "stream",
     "text": [
      "Validation loss was updated (0.814461 --> 0.817147).  Saving model ...\n",
      "Epoch(18/1000) result: train_score=0.8427  valid_score=0.8628\n",
      "Epoch(19/1000) start\n"
     ]
    },
    {
     "name": "stderr",
     "output_type": "stream",
     "text": [
      "100%|██████████| 61/61 [00:21<00:00,  2.90it/s]\n",
      "100%|██████████| 7/7 [00:00<00:00,  7.40it/s]\n",
      "/usr/local/lib/python3.8/dist-packages/torch/nn/modules/module.py:1383: UserWarning: positional arguments and argument \"destination\" are deprecated. nn.Module.state_dict will not accept them in the future. Refer to https://pytorch.org/docs/master/generated/torch.nn.Module.html#torch.nn.Module.state_dict for details.\n",
      "  warnings.warn(\n"
     ]
    },
    {
     "name": "stdout",
     "output_type": "stream",
     "text": [
      "Validation loss was updated (0.817147 --> 0.819771).  Saving model ...\n",
      "Epoch(19/1000) result: train_score=0.8402  valid_score=0.8670\n",
      "Epoch(20/1000) start\n"
     ]
    },
    {
     "name": "stderr",
     "output_type": "stream",
     "text": [
      "100%|██████████| 61/61 [00:21<00:00,  2.90it/s]\n",
      "100%|██████████| 7/7 [00:00<00:00,  7.40it/s]\n",
      "/usr/local/lib/python3.8/dist-packages/torch/nn/modules/module.py:1383: UserWarning: positional arguments and argument \"destination\" are deprecated. nn.Module.state_dict will not accept them in the future. Refer to https://pytorch.org/docs/master/generated/torch.nn.Module.html#torch.nn.Module.state_dict for details.\n",
      "  warnings.warn(\n"
     ]
    },
    {
     "name": "stdout",
     "output_type": "stream",
     "text": [
      "Validation loss was updated (0.819771 --> 0.822062).  Saving model ...\n",
      "Epoch(20/1000) result: train_score=0.8420  valid_score=0.8656\n",
      "Epoch(21/1000) start\n"
     ]
    },
    {
     "name": "stderr",
     "output_type": "stream",
     "text": [
      "100%|██████████| 61/61 [00:21<00:00,  2.90it/s]\n",
      "100%|██████████| 7/7 [00:00<00:00,  7.43it/s]\n",
      "/usr/local/lib/python3.8/dist-packages/torch/nn/modules/module.py:1383: UserWarning: positional arguments and argument \"destination\" are deprecated. nn.Module.state_dict will not accept them in the future. Refer to https://pytorch.org/docs/master/generated/torch.nn.Module.html#torch.nn.Module.state_dict for details.\n",
      "  warnings.warn(\n"
     ]
    },
    {
     "name": "stdout",
     "output_type": "stream",
     "text": [
      "Validation loss was updated (0.822062 --> 0.824013).  Saving model ...\n",
      "Epoch(21/1000) result: train_score=0.8414  valid_score=0.8630\n",
      "Epoch(22/1000) start\n"
     ]
    },
    {
     "name": "stderr",
     "output_type": "stream",
     "text": [
      "100%|██████████| 61/61 [00:21<00:00,  2.90it/s]\n",
      "100%|██████████| 7/7 [00:00<00:00,  7.42it/s]\n",
      "/usr/local/lib/python3.8/dist-packages/torch/nn/modules/module.py:1383: UserWarning: positional arguments and argument \"destination\" are deprecated. nn.Module.state_dict will not accept them in the future. Refer to https://pytorch.org/docs/master/generated/torch.nn.Module.html#torch.nn.Module.state_dict for details.\n",
      "  warnings.warn(\n"
     ]
    },
    {
     "name": "stdout",
     "output_type": "stream",
     "text": [
      "Validation loss was updated (0.824013 --> 0.825922).  Saving model ...\n",
      "Epoch(22/1000) result: train_score=0.8443  valid_score=0.8660\n",
      "Epoch(23/1000) start\n"
     ]
    },
    {
     "name": "stderr",
     "output_type": "stream",
     "text": [
      "100%|██████████| 61/61 [00:21<00:00,  2.90it/s]\n",
      "100%|██████████| 7/7 [00:00<00:00,  7.40it/s]\n",
      "/usr/local/lib/python3.8/dist-packages/torch/nn/modules/module.py:1383: UserWarning: positional arguments and argument \"destination\" are deprecated. nn.Module.state_dict will not accept them in the future. Refer to https://pytorch.org/docs/master/generated/torch.nn.Module.html#torch.nn.Module.state_dict for details.\n",
      "  warnings.warn(\n"
     ]
    },
    {
     "name": "stdout",
     "output_type": "stream",
     "text": [
      "Validation loss was updated (0.825922 --> 0.827658).  Saving model ...\n",
      "Epoch(23/1000) result: train_score=0.8496  valid_score=0.8658\n",
      "Epoch(24/1000) start\n"
     ]
    },
    {
     "name": "stderr",
     "output_type": "stream",
     "text": [
      "100%|██████████| 61/61 [00:21<00:00,  2.90it/s]\n",
      "100%|██████████| 7/7 [00:00<00:00,  7.39it/s]\n",
      "/usr/local/lib/python3.8/dist-packages/torch/nn/modules/module.py:1383: UserWarning: positional arguments and argument \"destination\" are deprecated. nn.Module.state_dict will not accept them in the future. Refer to https://pytorch.org/docs/master/generated/torch.nn.Module.html#torch.nn.Module.state_dict for details.\n",
      "  warnings.warn(\n"
     ]
    },
    {
     "name": "stdout",
     "output_type": "stream",
     "text": [
      "Validation loss was updated (0.827658 --> 0.829212).  Saving model ...\n",
      "Epoch(24/1000) result: train_score=0.8486  valid_score=0.8650\n",
      "Epoch(25/1000) start\n"
     ]
    },
    {
     "name": "stderr",
     "output_type": "stream",
     "text": [
      "100%|██████████| 61/61 [00:21<00:00,  2.90it/s]\n",
      "100%|██████████| 7/7 [00:00<00:00,  7.40it/s]\n",
      "/usr/local/lib/python3.8/dist-packages/torch/nn/modules/module.py:1383: UserWarning: positional arguments and argument \"destination\" are deprecated. nn.Module.state_dict will not accept them in the future. Refer to https://pytorch.org/docs/master/generated/torch.nn.Module.html#torch.nn.Module.state_dict for details.\n",
      "  warnings.warn(\n"
     ]
    },
    {
     "name": "stdout",
     "output_type": "stream",
     "text": [
      "Validation loss was updated (0.829212 --> 0.830601).  Saving model ...\n",
      "Epoch(25/1000) result: train_score=0.8547  valid_score=0.8639\n",
      "Epoch(26/1000) start\n"
     ]
    },
    {
     "name": "stderr",
     "output_type": "stream",
     "text": [
      "100%|██████████| 61/61 [00:21<00:00,  2.90it/s]\n",
      "100%|██████████| 7/7 [00:00<00:00,  7.43it/s]\n",
      "/usr/local/lib/python3.8/dist-packages/torch/nn/modules/module.py:1383: UserWarning: positional arguments and argument \"destination\" are deprecated. nn.Module.state_dict will not accept them in the future. Refer to https://pytorch.org/docs/master/generated/torch.nn.Module.html#torch.nn.Module.state_dict for details.\n",
      "  warnings.warn(\n"
     ]
    },
    {
     "name": "stdout",
     "output_type": "stream",
     "text": [
      "Validation loss was updated (0.830601 --> 0.831866).  Saving model ...\n",
      "Epoch(26/1000) result: train_score=0.8563  valid_score=0.8635\n",
      "Epoch(27/1000) start\n"
     ]
    },
    {
     "name": "stderr",
     "output_type": "stream",
     "text": [
      "100%|██████████| 61/61 [00:21<00:00,  2.90it/s]\n",
      "100%|██████████| 7/7 [00:00<00:00,  7.42it/s]\n",
      "/usr/local/lib/python3.8/dist-packages/torch/nn/modules/module.py:1383: UserWarning: positional arguments and argument \"destination\" are deprecated. nn.Module.state_dict will not accept them in the future. Refer to https://pytorch.org/docs/master/generated/torch.nn.Module.html#torch.nn.Module.state_dict for details.\n",
      "  warnings.warn(\n"
     ]
    },
    {
     "name": "stdout",
     "output_type": "stream",
     "text": [
      "Validation loss was updated (0.831866 --> 0.833088).  Saving model ...\n",
      "Epoch(27/1000) result: train_score=0.8584  valid_score=0.8649\n",
      "Epoch(28/1000) start\n"
     ]
    },
    {
     "name": "stderr",
     "output_type": "stream",
     "text": [
      "100%|██████████| 61/61 [00:21<00:00,  2.90it/s]\n",
      "100%|██████████| 7/7 [00:00<00:00,  7.44it/s]\n",
      "/usr/local/lib/python3.8/dist-packages/torch/nn/modules/module.py:1383: UserWarning: positional arguments and argument \"destination\" are deprecated. nn.Module.state_dict will not accept them in the future. Refer to https://pytorch.org/docs/master/generated/torch.nn.Module.html#torch.nn.Module.state_dict for details.\n",
      "  warnings.warn(\n"
     ]
    },
    {
     "name": "stdout",
     "output_type": "stream",
     "text": [
      "Validation loss was updated (0.833088 --> 0.834139).  Saving model ...\n",
      "Epoch(28/1000) result: train_score=0.8612  valid_score=0.8625\n",
      "Epoch(29/1000) start\n"
     ]
    },
    {
     "name": "stderr",
     "output_type": "stream",
     "text": [
      "100%|██████████| 61/61 [00:21<00:00,  2.90it/s]\n",
      "100%|██████████| 7/7 [00:00<00:00,  7.41it/s]\n",
      "/usr/local/lib/python3.8/dist-packages/torch/nn/modules/module.py:1383: UserWarning: positional arguments and argument \"destination\" are deprecated. nn.Module.state_dict will not accept them in the future. Refer to https://pytorch.org/docs/master/generated/torch.nn.Module.html#torch.nn.Module.state_dict for details.\n",
      "  warnings.warn(\n"
     ]
    },
    {
     "name": "stdout",
     "output_type": "stream",
     "text": [
      "Validation loss was updated (0.834139 --> 0.834993).  Saving model ...\n",
      "Epoch(29/1000) result: train_score=0.8623  valid_score=0.8589\n",
      "Epoch(30/1000) start\n"
     ]
    },
    {
     "name": "stderr",
     "output_type": "stream",
     "text": [
      "100%|██████████| 61/61 [00:21<00:00,  2.90it/s]\n",
      "100%|██████████| 7/7 [00:00<00:00,  7.39it/s]\n",
      "/usr/local/lib/python3.8/dist-packages/torch/nn/modules/module.py:1383: UserWarning: positional arguments and argument \"destination\" are deprecated. nn.Module.state_dict will not accept them in the future. Refer to https://pytorch.org/docs/master/generated/torch.nn.Module.html#torch.nn.Module.state_dict for details.\n",
      "  warnings.warn(\n"
     ]
    },
    {
     "name": "stdout",
     "output_type": "stream",
     "text": [
      "Validation loss was updated (0.834993 --> 0.835809).  Saving model ...\n",
      "Epoch(30/1000) result: train_score=0.8662  valid_score=0.8595\n",
      "Epoch(31/1000) start\n"
     ]
    },
    {
     "name": "stderr",
     "output_type": "stream",
     "text": [
      "100%|██████████| 61/61 [00:21<00:00,  2.90it/s]\n",
      "100%|██████████| 7/7 [00:00<00:00,  7.40it/s]\n",
      "/usr/local/lib/python3.8/dist-packages/torch/nn/modules/module.py:1383: UserWarning: positional arguments and argument \"destination\" are deprecated. nn.Module.state_dict will not accept them in the future. Refer to https://pytorch.org/docs/master/generated/torch.nn.Module.html#torch.nn.Module.state_dict for details.\n",
      "  warnings.warn(\n"
     ]
    },
    {
     "name": "stdout",
     "output_type": "stream",
     "text": [
      "Validation loss was updated (0.835809 --> 0.836360).  Saving model ...\n",
      "Epoch(31/1000) result: train_score=0.8686  valid_score=0.8529\n",
      "Epoch(32/1000) start\n"
     ]
    },
    {
     "name": "stderr",
     "output_type": "stream",
     "text": [
      "100%|██████████| 61/61 [00:21<00:00,  2.90it/s]\n",
      "100%|██████████| 7/7 [00:00<00:00,  7.40it/s]\n",
      "/usr/local/lib/python3.8/dist-packages/torch/nn/modules/module.py:1383: UserWarning: positional arguments and argument \"destination\" are deprecated. nn.Module.state_dict will not accept them in the future. Refer to https://pytorch.org/docs/master/generated/torch.nn.Module.html#torch.nn.Module.state_dict for details.\n",
      "  warnings.warn(\n"
     ]
    },
    {
     "name": "stdout",
     "output_type": "stream",
     "text": [
      "Validation loss was updated (0.836360 --> 0.837220).  Saving model ...\n",
      "Epoch(32/1000) result: train_score=0.8703  valid_score=0.8639\n",
      "Epoch(33/1000) start\n"
     ]
    },
    {
     "name": "stderr",
     "output_type": "stream",
     "text": [
      "100%|██████████| 61/61 [00:21<00:00,  2.90it/s]\n",
      "100%|██████████| 7/7 [00:00<00:00,  7.41it/s]\n",
      "/usr/local/lib/python3.8/dist-packages/torch/nn/modules/module.py:1383: UserWarning: positional arguments and argument \"destination\" are deprecated. nn.Module.state_dict will not accept them in the future. Refer to https://pytorch.org/docs/master/generated/torch.nn.Module.html#torch.nn.Module.state_dict for details.\n",
      "  warnings.warn(\n"
     ]
    },
    {
     "name": "stdout",
     "output_type": "stream",
     "text": [
      "Validation loss was updated (0.837220 --> 0.838139).  Saving model ...\n",
      "Epoch(33/1000) result: train_score=0.8721  valid_score=0.8675\n",
      "Epoch(34/1000) start\n"
     ]
    },
    {
     "name": "stderr",
     "output_type": "stream",
     "text": [
      "100%|██████████| 61/61 [00:21<00:00,  2.90it/s]\n",
      "100%|██████████| 7/7 [00:00<00:00,  7.43it/s]\n",
      "/usr/local/lib/python3.8/dist-packages/torch/nn/modules/module.py:1383: UserWarning: positional arguments and argument \"destination\" are deprecated. nn.Module.state_dict will not accept them in the future. Refer to https://pytorch.org/docs/master/generated/torch.nn.Module.html#torch.nn.Module.state_dict for details.\n",
      "  warnings.warn(\n"
     ]
    },
    {
     "name": "stdout",
     "output_type": "stream",
     "text": [
      "Validation loss was updated (0.838139 --> 0.838998).  Saving model ...\n",
      "Epoch(34/1000) result: train_score=0.8781  valid_score=0.8673\n",
      "Epoch(35/1000) start\n"
     ]
    },
    {
     "name": "stderr",
     "output_type": "stream",
     "text": [
      "100%|██████████| 61/61 [00:21<00:00,  2.90it/s]\n",
      "100%|██████████| 7/7 [00:00<00:00,  7.40it/s]\n",
      "/usr/local/lib/python3.8/dist-packages/torch/nn/modules/module.py:1383: UserWarning: positional arguments and argument \"destination\" are deprecated. nn.Module.state_dict will not accept them in the future. Refer to https://pytorch.org/docs/master/generated/torch.nn.Module.html#torch.nn.Module.state_dict for details.\n",
      "  warnings.warn(\n"
     ]
    },
    {
     "name": "stdout",
     "output_type": "stream",
     "text": [
      "Validation loss was updated (0.838998 --> 0.839727).  Saving model ...\n",
      "Epoch(35/1000) result: train_score=0.8763  valid_score=0.8645\n",
      "Epoch(36/1000) start\n"
     ]
    },
    {
     "name": "stderr",
     "output_type": "stream",
     "text": [
      "100%|██████████| 61/61 [00:21<00:00,  2.90it/s]\n",
      "100%|██████████| 7/7 [00:00<00:00,  7.39it/s]\n",
      "/usr/local/lib/python3.8/dist-packages/torch/nn/modules/module.py:1383: UserWarning: positional arguments and argument \"destination\" are deprecated. nn.Module.state_dict will not accept them in the future. Refer to https://pytorch.org/docs/master/generated/torch.nn.Module.html#torch.nn.Module.state_dict for details.\n",
      "  warnings.warn(\n"
     ]
    },
    {
     "name": "stdout",
     "output_type": "stream",
     "text": [
      "Validation loss was updated (0.839727 --> 0.840347).  Saving model ...\n",
      "Epoch(36/1000) result: train_score=0.8855  valid_score=0.8620\n",
      "Epoch(37/1000) start\n"
     ]
    },
    {
     "name": "stderr",
     "output_type": "stream",
     "text": [
      "100%|██████████| 61/61 [00:20<00:00,  2.91it/s]\n",
      "100%|██████████| 7/7 [00:00<00:00,  7.41it/s]\n",
      "/usr/local/lib/python3.8/dist-packages/torch/nn/modules/module.py:1383: UserWarning: positional arguments and argument \"destination\" are deprecated. nn.Module.state_dict will not accept them in the future. Refer to https://pytorch.org/docs/master/generated/torch.nn.Module.html#torch.nn.Module.state_dict for details.\n",
      "  warnings.warn(\n"
     ]
    },
    {
     "name": "stdout",
     "output_type": "stream",
     "text": [
      "Validation loss was updated (0.840347 --> 0.840639).  Saving model ...\n",
      "Epoch(37/1000) result: train_score=0.8863  valid_score=0.8512\n",
      "Epoch(38/1000) start\n"
     ]
    },
    {
     "name": "stderr",
     "output_type": "stream",
     "text": [
      "100%|██████████| 61/61 [00:20<00:00,  2.91it/s]\n",
      "100%|██████████| 7/7 [00:00<00:00,  7.41it/s]\n",
      "/usr/local/lib/python3.8/dist-packages/torch/nn/modules/module.py:1383: UserWarning: positional arguments and argument \"destination\" are deprecated. nn.Module.state_dict will not accept them in the future. Refer to https://pytorch.org/docs/master/generated/torch.nn.Module.html#torch.nn.Module.state_dict for details.\n",
      "  warnings.warn(\n"
     ]
    },
    {
     "name": "stdout",
     "output_type": "stream",
     "text": [
      "Validation loss was updated (0.840639 --> 0.840951).  Saving model ...\n",
      "Epoch(38/1000) result: train_score=0.8910  valid_score=0.8525\n",
      "Epoch(39/1000) start\n"
     ]
    },
    {
     "name": "stderr",
     "output_type": "stream",
     "text": [
      "100%|██████████| 61/61 [00:21<00:00,  2.90it/s]\n",
      "100%|██████████| 7/7 [00:00<00:00,  7.40it/s]\n",
      "/usr/local/lib/python3.8/dist-packages/torch/nn/modules/module.py:1383: UserWarning: positional arguments and argument \"destination\" are deprecated. nn.Module.state_dict will not accept them in the future. Refer to https://pytorch.org/docs/master/generated/torch.nn.Module.html#torch.nn.Module.state_dict for details.\n",
      "  warnings.warn(\n"
     ]
    },
    {
     "name": "stdout",
     "output_type": "stream",
     "text": [
      "Validation loss was updated (0.840951 --> 0.841238).  Saving model ...\n",
      "Epoch(39/1000) result: train_score=0.8950  valid_score=0.8522\n",
      "Epoch(40/1000) start\n"
     ]
    },
    {
     "name": "stderr",
     "output_type": "stream",
     "text": [
      "100%|██████████| 61/61 [00:21<00:00,  2.90it/s]\n",
      "100%|██████████| 7/7 [00:00<00:00,  7.45it/s]\n",
      "/usr/local/lib/python3.8/dist-packages/torch/nn/modules/module.py:1383: UserWarning: positional arguments and argument \"destination\" are deprecated. nn.Module.state_dict will not accept them in the future. Refer to https://pytorch.org/docs/master/generated/torch.nn.Module.html#torch.nn.Module.state_dict for details.\n",
      "  warnings.warn(\n"
     ]
    },
    {
     "name": "stdout",
     "output_type": "stream",
     "text": [
      "Validation loss was updated (0.841238 --> 0.841654).  Saving model ...\n",
      "Epoch(40/1000) result: train_score=0.8957  valid_score=0.8579\n",
      "Epoch(41/1000) start\n"
     ]
    },
    {
     "name": "stderr",
     "output_type": "stream",
     "text": [
      "100%|██████████| 61/61 [00:21<00:00,  2.90it/s]\n",
      "100%|██████████| 7/7 [00:00<00:00,  7.40it/s]\n",
      "/usr/local/lib/python3.8/dist-packages/torch/nn/modules/module.py:1383: UserWarning: positional arguments and argument \"destination\" are deprecated. nn.Module.state_dict will not accept them in the future. Refer to https://pytorch.org/docs/master/generated/torch.nn.Module.html#torch.nn.Module.state_dict for details.\n",
      "  warnings.warn(\n"
     ]
    },
    {
     "name": "stdout",
     "output_type": "stream",
     "text": [
      "Validation loss was updated (0.841654 --> 0.841980).  Saving model ...\n",
      "Epoch(41/1000) result: train_score=0.9014  valid_score=0.8550\n",
      "Epoch(42/1000) start\n"
     ]
    },
    {
     "name": "stderr",
     "output_type": "stream",
     "text": [
      "100%|██████████| 61/61 [00:21<00:00,  2.90it/s]\n",
      "100%|██████████| 7/7 [00:00<00:00,  7.42it/s]\n",
      "/usr/local/lib/python3.8/dist-packages/torch/nn/modules/module.py:1383: UserWarning: positional arguments and argument \"destination\" are deprecated. nn.Module.state_dict will not accept them in the future. Refer to https://pytorch.org/docs/master/generated/torch.nn.Module.html#torch.nn.Module.state_dict for details.\n",
      "  warnings.warn(\n"
     ]
    },
    {
     "name": "stdout",
     "output_type": "stream",
     "text": [
      "Validation loss was updated (0.841980 --> 0.842448).  Saving model ...\n",
      "Epoch(42/1000) result: train_score=0.8994  valid_score=0.8616\n",
      "Epoch(43/1000) start\n"
     ]
    },
    {
     "name": "stderr",
     "output_type": "stream",
     "text": [
      "100%|██████████| 61/61 [00:21<00:00,  2.90it/s]\n",
      "100%|██████████| 7/7 [00:00<00:00,  7.41it/s]\n",
      "/usr/local/lib/python3.8/dist-packages/torch/nn/modules/module.py:1383: UserWarning: positional arguments and argument \"destination\" are deprecated. nn.Module.state_dict will not accept them in the future. Refer to https://pytorch.org/docs/master/generated/torch.nn.Module.html#torch.nn.Module.state_dict for details.\n",
      "  warnings.warn(\n"
     ]
    },
    {
     "name": "stdout",
     "output_type": "stream",
     "text": [
      "Validation loss was updated (0.842448 --> 0.842765).  Saving model ...\n",
      "Epoch(43/1000) result: train_score=0.9052  valid_score=0.8561\n",
      "Epoch(44/1000) start\n"
     ]
    },
    {
     "name": "stderr",
     "output_type": "stream",
     "text": [
      "100%|██████████| 61/61 [00:21<00:00,  2.90it/s]\n",
      "100%|██████████| 7/7 [00:00<00:00,  7.41it/s]\n",
      "/usr/local/lib/python3.8/dist-packages/torch/nn/modules/module.py:1383: UserWarning: positional arguments and argument \"destination\" are deprecated. nn.Module.state_dict will not accept them in the future. Refer to https://pytorch.org/docs/master/generated/torch.nn.Module.html#torch.nn.Module.state_dict for details.\n",
      "  warnings.warn(\n"
     ]
    },
    {
     "name": "stdout",
     "output_type": "stream",
     "text": [
      "Validation loss was updated (0.842765 --> 0.843144).  Saving model ...\n",
      "Epoch(44/1000) result: train_score=0.9048  valid_score=0.8594\n",
      "Epoch(45/1000) start\n"
     ]
    },
    {
     "name": "stderr",
     "output_type": "stream",
     "text": [
      "100%|██████████| 61/61 [00:20<00:00,  2.91it/s]\n",
      "100%|██████████| 7/7 [00:00<00:00,  7.44it/s]\n",
      "/usr/local/lib/python3.8/dist-packages/torch/nn/modules/module.py:1383: UserWarning: positional arguments and argument \"destination\" are deprecated. nn.Module.state_dict will not accept them in the future. Refer to https://pytorch.org/docs/master/generated/torch.nn.Module.html#torch.nn.Module.state_dict for details.\n",
      "  warnings.warn(\n"
     ]
    },
    {
     "name": "stdout",
     "output_type": "stream",
     "text": [
      "Validation loss was updated (0.843144 --> 0.843379).  Saving model ...\n",
      "Epoch(45/1000) result: train_score=0.9076  valid_score=0.8537\n",
      "Epoch(46/1000) start\n"
     ]
    },
    {
     "name": "stderr",
     "output_type": "stream",
     "text": [
      "100%|██████████| 61/61 [00:21<00:00,  2.90it/s]\n",
      "100%|██████████| 7/7 [00:00<00:00,  7.42it/s]\n",
      "/usr/local/lib/python3.8/dist-packages/torch/nn/modules/module.py:1383: UserWarning: positional arguments and argument \"destination\" are deprecated. nn.Module.state_dict will not accept them in the future. Refer to https://pytorch.org/docs/master/generated/torch.nn.Module.html#torch.nn.Module.state_dict for details.\n",
      "  warnings.warn(\n"
     ]
    },
    {
     "name": "stdout",
     "output_type": "stream",
     "text": [
      "Validation loss was updated (0.843379 --> 0.843605).  Saving model ...\n",
      "Epoch(46/1000) result: train_score=0.9060  valid_score=0.8538\n",
      "Epoch(47/1000) start\n"
     ]
    },
    {
     "name": "stderr",
     "output_type": "stream",
     "text": [
      "100%|██████████| 61/61 [00:21<00:00,  2.90it/s]\n",
      "100%|██████████| 7/7 [00:00<00:00,  7.41it/s]\n"
     ]
    },
    {
     "name": "stdout",
     "output_type": "stream",
     "text": [
      "EarlyStopping counter: 1 out of 10\n",
      "Epoch(47/1000) result: train_score=0.9132  valid_score=0.8424\n",
      "Epoch(48/1000) start\n"
     ]
    },
    {
     "name": "stderr",
     "output_type": "stream",
     "text": [
      "100%|██████████| 61/61 [00:21<00:00,  2.90it/s]\n",
      "100%|██████████| 7/7 [00:00<00:00,  7.40it/s]\n",
      "/usr/local/lib/python3.8/dist-packages/torch/nn/modules/module.py:1383: UserWarning: positional arguments and argument \"destination\" are deprecated. nn.Module.state_dict will not accept them in the future. Refer to https://pytorch.org/docs/master/generated/torch.nn.Module.html#torch.nn.Module.state_dict for details.\n",
      "  warnings.warn(\n"
     ]
    },
    {
     "name": "stdout",
     "output_type": "stream",
     "text": [
      "Validation loss was updated (0.843605 --> 0.843841).  Saving model ...\n",
      "Epoch(48/1000) result: train_score=0.9126  valid_score=0.8561\n",
      "Epoch(49/1000) start\n"
     ]
    },
    {
     "name": "stderr",
     "output_type": "stream",
     "text": [
      "100%|██████████| 61/61 [00:21<00:00,  2.90it/s]\n",
      "100%|██████████| 7/7 [00:00<00:00,  7.40it/s]\n",
      "/usr/local/lib/python3.8/dist-packages/torch/nn/modules/module.py:1383: UserWarning: positional arguments and argument \"destination\" are deprecated. nn.Module.state_dict will not accept them in the future. Refer to https://pytorch.org/docs/master/generated/torch.nn.Module.html#torch.nn.Module.state_dict for details.\n",
      "  warnings.warn(\n"
     ]
    },
    {
     "name": "stdout",
     "output_type": "stream",
     "text": [
      "Validation loss was updated (0.843841 --> 0.843889).  Saving model ...\n",
      "Epoch(49/1000) result: train_score=0.9135  valid_score=0.8462\n",
      "Epoch(50/1000) start\n"
     ]
    },
    {
     "name": "stderr",
     "output_type": "stream",
     "text": [
      "100%|██████████| 61/61 [00:21<00:00,  2.90it/s]\n",
      "100%|██████████| 7/7 [00:00<00:00,  7.40it/s]\n",
      "/usr/local/lib/python3.8/dist-packages/torch/nn/modules/module.py:1383: UserWarning: positional arguments and argument \"destination\" are deprecated. nn.Module.state_dict will not accept them in the future. Refer to https://pytorch.org/docs/master/generated/torch.nn.Module.html#torch.nn.Module.state_dict for details.\n",
      "  warnings.warn(\n"
     ]
    },
    {
     "name": "stdout",
     "output_type": "stream",
     "text": [
      "Validation loss was updated (0.843889 --> 0.843895).  Saving model ...\n",
      "Epoch(50/1000) result: train_score=0.9180  valid_score=0.8442\n",
      "Epoch(51/1000) start\n"
     ]
    },
    {
     "name": "stderr",
     "output_type": "stream",
     "text": [
      "100%|██████████| 61/61 [00:21<00:00,  2.90it/s]\n",
      "100%|██████████| 7/7 [00:00<00:00,  7.40it/s]\n"
     ]
    },
    {
     "name": "stdout",
     "output_type": "stream",
     "text": [
      "EarlyStopping counter: 1 out of 10\n",
      "Epoch(51/1000) result: train_score=0.9204  valid_score=0.8411\n",
      "Epoch(52/1000) start\n"
     ]
    },
    {
     "name": "stderr",
     "output_type": "stream",
     "text": [
      "100%|██████████| 61/61 [00:21<00:00,  2.90it/s]\n",
      "100%|██████████| 7/7 [00:00<00:00,  7.42it/s]\n",
      "/usr/local/lib/python3.8/dist-packages/torch/nn/modules/module.py:1383: UserWarning: positional arguments and argument \"destination\" are deprecated. nn.Module.state_dict will not accept them in the future. Refer to https://pytorch.org/docs/master/generated/torch.nn.Module.html#torch.nn.Module.state_dict for details.\n",
      "  warnings.warn(\n"
     ]
    },
    {
     "name": "stdout",
     "output_type": "stream",
     "text": [
      "Validation loss was updated (0.843895 --> 0.843921).  Saving model ...\n",
      "Epoch(52/1000) result: train_score=0.9241  valid_score=0.8480\n",
      "Epoch(53/1000) start\n"
     ]
    },
    {
     "name": "stderr",
     "output_type": "stream",
     "text": [
      "100%|██████████| 61/61 [00:20<00:00,  2.91it/s]\n",
      "100%|██████████| 7/7 [00:00<00:00,  7.44it/s]\n",
      "/usr/local/lib/python3.8/dist-packages/torch/nn/modules/module.py:1383: UserWarning: positional arguments and argument \"destination\" are deprecated. nn.Module.state_dict will not accept them in the future. Refer to https://pytorch.org/docs/master/generated/torch.nn.Module.html#torch.nn.Module.state_dict for details.\n",
      "  warnings.warn(\n"
     ]
    },
    {
     "name": "stdout",
     "output_type": "stream",
     "text": [
      "Validation loss was updated (0.843921 --> 0.843965).  Saving model ...\n",
      "Epoch(53/1000) result: train_score=0.9259  valid_score=0.8463\n",
      "Epoch(54/1000) start\n"
     ]
    },
    {
     "name": "stderr",
     "output_type": "stream",
     "text": [
      "100%|██████████| 61/61 [00:21<00:00,  2.90it/s]\n",
      "100%|██████████| 7/7 [00:00<00:00,  7.40it/s]\n"
     ]
    },
    {
     "name": "stdout",
     "output_type": "stream",
     "text": [
      "EarlyStopping counter: 1 out of 10\n",
      "Epoch(54/1000) result: train_score=0.9282  valid_score=0.8437\n",
      "Epoch(55/1000) start\n"
     ]
    },
    {
     "name": "stderr",
     "output_type": "stream",
     "text": [
      "100%|██████████| 61/61 [00:21<00:00,  2.90it/s]\n",
      "100%|██████████| 7/7 [00:00<00:00,  7.38it/s]\n"
     ]
    },
    {
     "name": "stdout",
     "output_type": "stream",
     "text": [
      "EarlyStopping counter: 2 out of 10\n",
      "Epoch(55/1000) result: train_score=0.9280  valid_score=0.8439\n",
      "Epoch(56/1000) start\n"
     ]
    },
    {
     "name": "stderr",
     "output_type": "stream",
     "text": [
      "100%|██████████| 61/61 [00:21<00:00,  2.90it/s]\n",
      "100%|██████████| 7/7 [00:00<00:00,  7.39it/s]\n"
     ]
    },
    {
     "name": "stdout",
     "output_type": "stream",
     "text": [
      "EarlyStopping counter: 3 out of 10\n",
      "Epoch(56/1000) result: train_score=0.9299  valid_score=0.8436\n",
      "Epoch(57/1000) start\n"
     ]
    },
    {
     "name": "stderr",
     "output_type": "stream",
     "text": [
      "100%|██████████| 61/61 [00:21<00:00,  2.90it/s]\n",
      "100%|██████████| 7/7 [00:00<00:00,  7.40it/s]\n"
     ]
    },
    {
     "name": "stdout",
     "output_type": "stream",
     "text": [
      "EarlyStopping counter: 4 out of 10\n",
      "Epoch(57/1000) result: train_score=0.9323  valid_score=0.8411\n",
      "Epoch(58/1000) start\n"
     ]
    },
    {
     "name": "stderr",
     "output_type": "stream",
     "text": [
      "100%|██████████| 61/61 [00:21<00:00,  2.90it/s]\n",
      "100%|██████████| 7/7 [00:00<00:00,  7.39it/s]\n"
     ]
    },
    {
     "name": "stdout",
     "output_type": "stream",
     "text": [
      "EarlyStopping counter: 5 out of 10\n",
      "Epoch(58/1000) result: train_score=0.9348  valid_score=0.8305\n",
      "Epoch(59/1000) start\n"
     ]
    },
    {
     "name": "stderr",
     "output_type": "stream",
     "text": [
      "100%|██████████| 61/61 [00:21<00:00,  2.90it/s]\n",
      "100%|██████████| 7/7 [00:00<00:00,  7.39it/s]\n"
     ]
    },
    {
     "name": "stdout",
     "output_type": "stream",
     "text": [
      "EarlyStopping counter: 6 out of 10\n",
      "Epoch(59/1000) result: train_score=0.9361  valid_score=0.8373\n",
      "Epoch(60/1000) start\n"
     ]
    },
    {
     "name": "stderr",
     "output_type": "stream",
     "text": [
      "100%|██████████| 61/61 [00:21<00:00,  2.90it/s]\n",
      "100%|██████████| 7/7 [00:00<00:00,  7.41it/s]\n"
     ]
    },
    {
     "name": "stdout",
     "output_type": "stream",
     "text": [
      "EarlyStopping counter: 7 out of 10\n",
      "Epoch(60/1000) result: train_score=0.9366  valid_score=0.8356\n",
      "Epoch(61/1000) start\n"
     ]
    },
    {
     "name": "stderr",
     "output_type": "stream",
     "text": [
      "100%|██████████| 61/61 [00:21<00:00,  2.90it/s]\n",
      "100%|██████████| 7/7 [00:00<00:00,  7.39it/s]\n"
     ]
    },
    {
     "name": "stdout",
     "output_type": "stream",
     "text": [
      "EarlyStopping counter: 8 out of 10\n",
      "Epoch(61/1000) result: train_score=0.9384  valid_score=0.8362\n",
      "Epoch(62/1000) start\n"
     ]
    },
    {
     "name": "stderr",
     "output_type": "stream",
     "text": [
      "100%|██████████| 61/61 [00:21<00:00,  2.90it/s]\n",
      "100%|██████████| 7/7 [00:00<00:00,  7.42it/s]\n"
     ]
    },
    {
     "name": "stdout",
     "output_type": "stream",
     "text": [
      "EarlyStopping counter: 9 out of 10\n",
      "Epoch(62/1000) result: train_score=0.9423  valid_score=0.8227\n",
      "Epoch(63/1000) start\n"
     ]
    },
    {
     "name": "stderr",
     "output_type": "stream",
     "text": [
      "100%|██████████| 61/61 [00:21<00:00,  2.90it/s]\n",
      "100%|██████████| 7/7 [00:00<00:00,  7.40it/s]\n"
     ]
    },
    {
     "name": "stdout",
     "output_type": "stream",
     "text": [
      "EarlyStopping counter: 10 out of 10\n",
      "Early stopping\n"
     ]
    },
    {
     "name": "stderr",
     "output_type": "stream",
     "text": [
      "100%|██████████| 17/17 [00:02<00:00,  7.19it/s]\n"
     ]
    },
    {
     "data": {
      "text/plain": [
       "torch.Size([57, 8, 100, 100])"
      ]
     },
     "execution_count": 8,
     "metadata": {},
     "output_type": "execute_result"
    }
   ],
   "source": [
    "attn_probs = trainer.train(train_loader, valid_loader, test_loader)\n",
    "attn_probs.size()"
   ]
  },
  {
   "cell_type": "code",
   "execution_count": 9,
   "metadata": {},
   "outputs": [
    {
     "data": {
      "text/plain": [
       "torch.Size([100, 100])"
      ]
     },
     "execution_count": 9,
     "metadata": {},
     "output_type": "execute_result"
    }
   ],
   "source": [
    "attn_probs[0][0].size()"
   ]
  },
  {
   "cell_type": "code",
   "execution_count": 23,
   "metadata": {},
   "outputs": [
    {
     "data": {
      "text/plain": [
       "<matplotlib.colorbar.Colorbar at 0x7f39d263e1f0>"
      ]
     },
     "execution_count": 23,
     "metadata": {},
     "output_type": "execute_result"
    },
    {
     "data": {
      "image/png": "[encoded data removed]",
      "text/plain": [
       "<Figure size 432x288 with 2 Axes>"
      ]
     },
     "metadata": {
      "needs_background": "light"
     },
     "output_type": "display_data"
    }
   ],
   "source": [
    "# 시각화\n",
    "\n",
    "import matplotlib.pyplot as plt\n",
    "\n",
    "score = attn_probs[0][0]\n",
    "score = score.detach().cpu().numpy()\n",
    "\n",
    "plt.viridis()\n",
    "plt.imshow(score)\n",
    "plt.colorbar()"
   ]
  },
  {
   "cell_type": "code",
   "execution_count": 26,
   "metadata": {},
   "outputs": [
    {
     "data": {
      "image/png": "[encoded data removed]",
      "text/plain": [
       "<Figure size 432x288 with 8 Axes>"
      ]
     },
     "metadata": {
      "needs_background": "light"
     },
     "output_type": "display_data"
    },
    {
     "data": {
      "text/plain": [
       "<Figure size 1440x576 with 0 Axes>"
      ]
     },
     "metadata": {},
     "output_type": "display_data"
    }
   ],
   "source": [
    "for i in range(8):\n",
    "    score = attn_probs[0][i]\n",
    "    score = score.detach().cpu().numpy()\n",
    "    plt.subplot(2,4,i+1)\n",
    "    plt.viridis()\n",
    "    plt.imshow(score)\n",
    "    \n",
    "\n",
    "plt.figure(figsize=(20, 8))\n",
    "plt.show()"
   ]
  },
  {
   "cell_type": "code",
   "execution_count": 13,
   "metadata": {},
   "outputs": [],
   "source": [
    "import pickle\n",
    "\n",
    "attn_path = \"../visual_records/attn_data.pkl\"\n",
    "\n",
    "# pickfile save\n",
    "with open(attn_path, \"wb\") as f:\n",
    "    pickle.dump(attn_probs, f)\n"
   ]
  },
  {
   "cell_type": "code",
   "execution_count": 14,
   "metadata": {},
   "outputs": [
    {
     "data": {
      "text/plain": [
       "tensor([[[[7.6582e-34, 2.3946e-15, 1.0785e-12,  ..., 7.8275e-34,\n",
       "           3.7626e-33, 0.0000e+00],\n",
       "          [1.1454e-16, 2.3884e-25, 1.2208e-14,  ..., 1.0138e-30,\n",
       "           5.3702e-30, 0.0000e+00],\n",
       "          [1.2647e-13, 1.6880e-14, 6.2945e-28,  ..., 4.6295e-32,\n",
       "           2.5103e-31, 0.0000e+00],\n",
       "          ...,\n",
       "          [1.9167e-02, 1.9410e-02, 1.9280e-02,  ..., 9.0014e-34,\n",
       "           4.2550e-33, 0.0000e+00],\n",
       "          [1.8811e-02, 1.9039e-02, 1.8917e-02,  ..., 1.6532e-33,\n",
       "           7.6494e-33, 0.0000e+00],\n",
       "          [1.7949e-02, 1.8124e-02, 1.8026e-02,  ..., 3.7908e-30,\n",
       "           1.2420e-29, 0.0000e+00]],\n",
       "\n",
       "         [[7.0147e-13, 2.2313e-09, 1.5930e-07,  ..., 1.0178e-13,\n",
       "           2.7705e-14, 0.0000e+00],\n",
       "          [1.5196e-05, 1.2326e-11, 6.1090e-07,  ..., 4.5778e-09,\n",
       "           1.0178e-09, 0.0000e+00],\n",
       "          [4.4431e-05, 1.4020e-07, 1.9412e-12,  ..., 4.5401e-10,\n",
       "           1.0898e-10, 0.0000e+00],\n",
       "          ...,\n",
       "          [1.7883e-02, 1.7672e-02, 1.7661e-02,  ..., 3.1899e-14,\n",
       "           9.6200e-15, 0.0000e+00],\n",
       "          [1.7680e-02, 1.7478e-02, 1.7469e-02,  ..., 8.7589e-14,\n",
       "           2.5722e-14, 0.0000e+00],\n",
       "          [1.7936e-02, 1.7750e-02, 1.7735e-02,  ..., 5.4656e-16,\n",
       "           1.7722e-16, 0.0000e+00]],\n",
       "\n",
       "         [[2.9427e-43, 4.0622e-22, 1.1107e-17,  ..., 1.1771e-42,\n",
       "           9.3046e-43, 0.0000e+00],\n",
       "          [3.6566e-20, 6.6301e-38, 1.2124e-20,  ..., 3.0227e-37,\n",
       "           2.0543e-37, 0.0000e+00],\n",
       "          [1.4449e-16, 3.7482e-21, 8.4095e-41,  ..., 2.3632e-39,\n",
       "           1.6421e-39, 0.0000e+00],\n",
       "          ...,\n",
       "          [2.1025e-02, 2.1016e-02, 2.0864e-02,  ..., 1.5358e-42,\n",
       "           1.1813e-42, 0.0000e+00],\n",
       "          [2.0578e-02, 2.0559e-02, 2.0420e-02,  ..., 4.5570e-42,\n",
       "           3.3533e-42, 0.0000e+00],\n",
       "          [1.9459e-02, 1.9499e-02, 1.9378e-02,  ..., 6.2241e-38,\n",
       "           5.4397e-38, 0.0000e+00]],\n",
       "\n",
       "         ...,\n",
       "\n",
       "         [[0.0000e+00, 0.0000e+00, 0.0000e+00,  ..., 0.0000e+00,\n",
       "           0.0000e+00, 0.0000e+00],\n",
       "          [0.0000e+00, 1.0394e-34, 0.0000e+00,  ..., 0.0000e+00,\n",
       "           0.0000e+00, 0.0000e+00],\n",
       "          [0.0000e+00, 0.0000e+00, 5.1848e-44,  ..., 0.0000e+00,\n",
       "           0.0000e+00, 0.0000e+00],\n",
       "          ...,\n",
       "          [0.0000e+00, 0.0000e+00, 0.0000e+00,  ..., 0.0000e+00,\n",
       "           0.0000e+00, 0.0000e+00],\n",
       "          [0.0000e+00, 0.0000e+00, 0.0000e+00,  ..., 0.0000e+00,\n",
       "           0.0000e+00, 0.0000e+00],\n",
       "          [0.0000e+00, 0.0000e+00, 0.0000e+00,  ..., 0.0000e+00,\n",
       "           0.0000e+00, 0.0000e+00]],\n",
       "\n",
       "         [[9.2350e-21, 7.2945e-12, 1.4265e-09,  ..., 4.8250e-21,\n",
       "           9.6573e-22, 0.0000e+00],\n",
       "          [5.5150e-06, 2.9573e-10, 2.2801e-06,  ..., 1.3130e-08,\n",
       "           6.0081e-10, 0.0000e+00],\n",
       "          [7.5233e-06, 2.3245e-07, 1.6884e-12,  ..., 6.2100e-11,\n",
       "           3.5058e-12, 0.0000e+00],\n",
       "          ...,\n",
       "          [1.8254e-02, 1.8191e-02, 1.8150e-02,  ..., 1.2074e-20,\n",
       "           3.8413e-21, 0.0000e+00],\n",
       "          [1.7932e-02, 1.7873e-02, 1.7836e-02,  ..., 1.4944e-19,\n",
       "           4.6899e-20, 0.0000e+00],\n",
       "          [1.8353e-02, 1.8290e-02, 1.8241e-02,  ..., 6.5489e-26,\n",
       "           1.5288e-26, 0.0000e+00]],\n",
       "\n",
       "         [[0.0000e+00, 0.0000e+00, 0.0000e+00,  ..., 0.0000e+00,\n",
       "           0.0000e+00, 0.0000e+00],\n",
       "          [0.0000e+00, 4.4485e-40, 0.0000e+00,  ..., 0.0000e+00,\n",
       "           0.0000e+00, 0.0000e+00],\n",
       "          [0.0000e+00, 0.0000e+00, 0.0000e+00,  ..., 0.0000e+00,\n",
       "           0.0000e+00, 0.0000e+00],\n",
       "          ...,\n",
       "          [0.0000e+00, 0.0000e+00, 0.0000e+00,  ..., 0.0000e+00,\n",
       "           0.0000e+00, 0.0000e+00],\n",
       "          [0.0000e+00, 0.0000e+00, 0.0000e+00,  ..., 0.0000e+00,\n",
       "           0.0000e+00, 0.0000e+00],\n",
       "          [0.0000e+00, 0.0000e+00, 0.0000e+00,  ..., 0.0000e+00,\n",
       "           0.0000e+00, 0.0000e+00]]],\n",
       "\n",
       "\n",
       "        [[[5.6591e-30, 2.0349e-14, 5.5551e-12,  ..., 2.2583e-29,\n",
       "           2.4454e-27, 0.0000e+00],\n",
       "          [1.8129e-15, 2.0893e-27, 1.7503e-15,  ..., 3.4940e-29,\n",
       "           5.8044e-27, 0.0000e+00],\n",
       "          [2.3315e-12, 5.7931e-15, 8.8966e-32,  ..., 7.6910e-31,\n",
       "           1.3896e-28, 0.0000e+00],\n",
       "          ...,\n",
       "          [3.9060e-02, 3.9226e-02, 3.8816e-02,  ..., 3.1035e-32,\n",
       "           6.2422e-30, 0.0000e+00],\n",
       "          [3.8815e-02, 3.8976e-02, 3.8599e-02,  ..., 7.7149e-31,\n",
       "           1.3397e-28, 0.0000e+00],\n",
       "          [3.8306e-02, 3.8397e-02, 3.8083e-02,  ..., 6.5341e-29,\n",
       "           4.4568e-27, 0.0000e+00]],\n",
       "\n",
       "         [[2.6963e-12, 4.8352e-10, 3.6534e-07,  ..., 1.3239e-15,\n",
       "           1.1577e-17, 0.0000e+00],\n",
       "          [1.6699e-05, 2.0825e-13, 8.9246e-07,  ..., 1.2328e-11,\n",
       "           1.6614e-13, 0.0000e+00],\n",
       "          [1.7557e-05, 3.1837e-09, 1.3648e-13,  ..., 4.6444e-14,\n",
       "           4.1772e-16, 0.0000e+00],\n",
       "          ...,\n",
       "          [2.1314e-02, 2.0980e-02, 2.1104e-02,  ..., 2.0600e-13,\n",
       "           2.3063e-15, 0.0000e+00],\n",
       "          [2.0253e-02, 1.9972e-02, 2.0082e-02,  ..., 2.6742e-11,\n",
       "           3.8590e-13, 0.0000e+00],\n",
       "          [2.1728e-02, 2.1399e-02, 2.1512e-02,  ..., 4.0060e-16,\n",
       "           4.4540e-18, 0.0000e+00]],\n",
       "\n",
       "         [[2.0538e-36, 1.1993e-19, 4.7640e-15,  ..., 2.7989e-39,\n",
       "           4.6283e-39, 0.0000e+00],\n",
       "          [1.4670e-17, 8.1484e-39, 2.0598e-19,  ..., 1.3000e-38,\n",
       "           6.0542e-39, 0.0000e+00],\n",
       "          [2.6939e-14, 1.1654e-20, 2.5732e-41,  ..., 2.1314e-41,\n",
       "           2.1929e-41, 0.0000e+00],\n",
       "          ...,\n",
       "          [4.0945e-02, 4.0423e-02, 4.0251e-02,  ..., 1.4854e-43,\n",
       "           1.4013e-43, 0.0000e+00],\n",
       "          [4.0797e-02, 4.0239e-02, 4.0133e-02,  ..., 1.0846e-40,\n",
       "           4.9485e-41, 0.0000e+00],\n",
       "          [4.0246e-02, 3.9967e-02, 3.9756e-02,  ..., 2.6720e-38,\n",
       "           7.0796e-38, 0.0000e+00]],\n",
       "\n",
       "         ...,\n",
       "\n",
       "         [[0.0000e+00, 0.0000e+00, 0.0000e+00,  ..., 0.0000e+00,\n",
       "           5.9976e-43, 0.0000e+00],\n",
       "          [0.0000e+00, 0.0000e+00, 0.0000e+00,  ..., 0.0000e+00,\n",
       "           0.0000e+00, 0.0000e+00],\n",
       "          [0.0000e+00, 0.0000e+00, 0.0000e+00,  ..., 0.0000e+00,\n",
       "           0.0000e+00, 0.0000e+00],\n",
       "          ...,\n",
       "          [0.0000e+00, 0.0000e+00, 0.0000e+00,  ..., 0.0000e+00,\n",
       "           0.0000e+00, 0.0000e+00],\n",
       "          [0.0000e+00, 0.0000e+00, 0.0000e+00,  ..., 0.0000e+00,\n",
       "           0.0000e+00, 0.0000e+00],\n",
       "          [0.0000e+00, 0.0000e+00, 0.0000e+00,  ..., 0.0000e+00,\n",
       "           3.5814e-37, 0.0000e+00]],\n",
       "\n",
       "         [[1.0983e-20, 1.3755e-12, 1.8592e-09,  ..., 4.5304e-23,\n",
       "           5.8899e-24, 0.0000e+00],\n",
       "          [9.4393e-07, 1.7226e-13, 1.6154e-07,  ..., 1.0139e-12,\n",
       "           1.1892e-13, 0.0000e+00],\n",
       "          [1.8002e-07, 8.4605e-11, 2.5148e-19,  ..., 2.1570e-19,\n",
       "           3.4850e-20, 0.0000e+00],\n",
       "          ...,\n",
       "          [2.7377e-02, 2.7170e-02, 2.7173e-02,  ..., 2.5280e-18,\n",
       "           6.3642e-19, 0.0000e+00],\n",
       "          [2.3351e-02, 2.3220e-02, 2.3224e-02,  ..., 4.3299e-13,\n",
       "           1.5094e-13, 0.0000e+00],\n",
       "          [3.4065e-02, 3.3735e-02, 3.3743e-02,  ..., 2.7958e-26,\n",
       "           3.0038e-27, 0.0000e+00]],\n",
       "\n",
       "         [[0.0000e+00, 0.0000e+00, 0.0000e+00,  ..., 0.0000e+00,\n",
       "           0.0000e+00, 0.0000e+00],\n",
       "          [0.0000e+00, 0.0000e+00, 0.0000e+00,  ..., 0.0000e+00,\n",
       "           0.0000e+00, 0.0000e+00],\n",
       "          [0.0000e+00, 0.0000e+00, 0.0000e+00,  ..., 0.0000e+00,\n",
       "           0.0000e+00, 0.0000e+00],\n",
       "          ...,\n",
       "          [0.0000e+00, 0.0000e+00, 0.0000e+00,  ..., 0.0000e+00,\n",
       "           0.0000e+00, 0.0000e+00],\n",
       "          [0.0000e+00, 0.0000e+00, 0.0000e+00,  ..., 0.0000e+00,\n",
       "           0.0000e+00, 0.0000e+00],\n",
       "          [0.0000e+00, 0.0000e+00, 0.0000e+00,  ..., 0.0000e+00,\n",
       "           3.8676e-43, 0.0000e+00]]],\n",
       "\n",
       "\n",
       "        [[[9.9439e-34, 1.0988e-10, 2.2097e-11,  ..., 2.4364e-28,\n",
       "           1.7096e-29, 0.0000e+00],\n",
       "          [2.0504e-12, 2.1111e-12, 6.2056e-10,  ..., 1.3909e-18,\n",
       "           2.4574e-19, 0.0000e+00],\n",
       "          [2.0175e-12, 2.7885e-09, 1.8543e-22,  ..., 2.6740e-24,\n",
       "           2.6806e-25, 0.0000e+00],\n",
       "          ...,\n",
       "          [1.8728e-02, 1.9338e-02, 1.8912e-02,  ..., 5.0587e-26,\n",
       "           4.4343e-27, 0.0000e+00],\n",
       "          [1.8552e-02, 1.9151e-02, 1.8736e-02,  ..., 1.2137e-26,\n",
       "           1.0040e-27, 0.0000e+00],\n",
       "          [1.8450e-02, 1.9009e-02, 1.8610e-02,  ..., 1.5965e-27,\n",
       "           1.3119e-28, 0.0000e+00]],\n",
       "\n",
       "         [[1.9435e-12, 3.4420e-08, 7.9358e-07,  ..., 2.0433e-15,\n",
       "           2.1902e-15, 0.0000e+00],\n",
       "          [2.6977e-03, 1.7077e-06, 2.8509e-04,  ..., 9.4895e-06,\n",
       "           7.1826e-06, 0.0000e+00],\n",
       "          [5.8018e-04, 6.1656e-06, 5.6707e-10,  ..., 8.8734e-10,\n",
       "           9.3440e-10, 0.0000e+00],\n",
       "          ...,\n",
       "          [2.7667e-02, 2.7435e-02, 2.7395e-02,  ..., 9.8130e-12,\n",
       "           1.1987e-11, 0.0000e+00],\n",
       "          [2.7992e-02, 2.7760e-02, 2.7717e-02,  ..., 2.9500e-12,\n",
       "           3.5585e-12, 0.0000e+00],\n",
       "          [2.9848e-02, 2.9660e-02, 2.9534e-02,  ..., 9.7911e-18,\n",
       "           9.5728e-18, 0.0000e+00]],\n",
       "\n",
       "         [[6.0256e-44, 1.3702e-17, 1.1110e-16,  ..., 7.7422e-42,\n",
       "           8.7861e-43, 0.0000e+00],\n",
       "          [1.4372e-13, 4.1968e-22, 1.2646e-13,  ..., 3.6530e-26,\n",
       "           1.4751e-26, 0.0000e+00],\n",
       "          [4.7466e-15, 6.8800e-16, 4.5585e-35,  ..., 9.6769e-36,\n",
       "           2.4550e-36, 0.0000e+00],\n",
       "          ...,\n",
       "          [2.0857e-02, 2.1131e-02, 2.0679e-02,  ..., 3.1249e-38,\n",
       "           6.7808e-39, 0.0000e+00],\n",
       "          [2.0613e-02, 2.0901e-02, 2.0458e-02,  ..., 3.0820e-39,\n",
       "           6.0625e-40, 0.0000e+00],\n",
       "          [2.0240e-02, 2.0707e-02, 2.0235e-02,  ..., 9.4402e-40,\n",
       "           1.0093e-40, 0.0000e+00]],\n",
       "\n",
       "         ...,\n",
       "\n",
       "         [[0.0000e+00, 8.5108e-37, 0.0000e+00,  ..., 1.6440e-33,\n",
       "           4.6632e-39, 0.0000e+00],\n",
       "          [0.0000e+00, 9.7672e-01, 2.9567e-43,  ..., 2.6109e-26,\n",
       "           4.1004e-31, 0.0000e+00],\n",
       "          [0.0000e+00, 1.7286e-39, 1.4549e-22,  ..., 2.7526e-32,\n",
       "           5.9528e-38, 0.0000e+00],\n",
       "          ...,\n",
       "          [0.0000e+00, 0.0000e+00, 0.0000e+00,  ..., 3.3519e-34,\n",
       "           5.0696e-40, 0.0000e+00],\n",
       "          [0.0000e+00, 0.0000e+00, 0.0000e+00,  ..., 1.2729e-34,\n",
       "           1.7443e-40, 0.0000e+00],\n",
       "          [0.0000e+00, 0.0000e+00, 0.0000e+00,  ..., 8.6613e-30,\n",
       "           1.4121e-34, 0.0000e+00]],\n",
       "\n",
       "         [[5.2656e-20, 1.8666e-09, 9.9181e-09,  ..., 4.4991e-20,\n",
       "           8.6384e-21, 0.0000e+00],\n",
       "          [4.4835e-02, 4.5585e-02, 2.3477e-02,  ..., 2.4093e-02,\n",
       "           3.2554e-01, 0.0000e+00],\n",
       "          [3.2374e-04, 1.1831e-04, 9.1193e-08,  ..., 2.4805e-06,\n",
       "           5.9381e-08, 0.0000e+00],\n",
       "          ...,\n",
       "          [2.2050e-02, 2.2052e-02, 2.1964e-02,  ..., 2.0142e-10,\n",
       "           1.5835e-10, 0.0000e+00],\n",
       "          [2.3092e-02, 2.3096e-02, 2.2991e-02,  ..., 1.4535e-11,\n",
       "           7.5376e-12, 0.0000e+00],\n",
       "          [2.3845e-02, 2.3805e-02, 2.3511e-02,  ..., 1.0777e-24,\n",
       "           2.7977e-25, 0.0000e+00]],\n",
       "\n",
       "         [[0.0000e+00, 0.0000e+00, 0.0000e+00,  ..., 3.6300e-39,\n",
       "           8.4078e-45, 0.0000e+00],\n",
       "          [0.0000e+00, 7.8641e-03, 2.2066e-40,  ..., 9.0491e-29,\n",
       "           1.3711e-32, 0.0000e+00],\n",
       "          [0.0000e+00, 8.4078e-45, 4.7328e-27,  ..., 6.1255e-36,\n",
       "           6.9461e-41, 0.0000e+00],\n",
       "          ...,\n",
       "          [0.0000e+00, 0.0000e+00, 0.0000e+00,  ..., 1.8445e-37,\n",
       "           1.1379e-42, 0.0000e+00],\n",
       "          [0.0000e+00, 0.0000e+00, 0.0000e+00,  ..., 5.1639e-38,\n",
       "           2.5083e-43, 0.0000e+00],\n",
       "          [0.0000e+00, 0.0000e+00, 0.0000e+00,  ..., 4.9412e-36,\n",
       "           2.5462e-41, 0.0000e+00]]],\n",
       "\n",
       "\n",
       "        ...,\n",
       "\n",
       "\n",
       "        [[[1.2583e-13, 4.3803e-04, 6.1590e-02,  ..., 0.0000e+00,\n",
       "           0.0000e+00, 0.0000e+00],\n",
       "          [8.6419e-03, 1.4076e-11, 6.2929e-03,  ..., 0.0000e+00,\n",
       "           0.0000e+00, 0.0000e+00],\n",
       "          [9.7722e-01, 5.1618e-03, 1.2523e-11,  ..., 0.0000e+00,\n",
       "           0.0000e+00, 0.0000e+00],\n",
       "          ...,\n",
       "          [2.1738e-01, 2.1511e-01, 2.1089e-01,  ..., 0.0000e+00,\n",
       "           0.0000e+00, 0.0000e+00],\n",
       "          [2.1673e-01, 2.1467e-01, 2.1076e-01,  ..., 0.0000e+00,\n",
       "           0.0000e+00, 0.0000e+00],\n",
       "          [2.1595e-01, 2.1403e-01, 2.1039e-01,  ..., 0.0000e+00,\n",
       "           0.0000e+00, 0.0000e+00]],\n",
       "\n",
       "         [[1.4245e-03, 2.3292e-01, 4.0696e-01,  ..., 0.0000e+00,\n",
       "           0.0000e+00, 0.0000e+00],\n",
       "          [8.1012e-01, 6.4796e-04, 6.8351e-02,  ..., 0.0000e+00,\n",
       "           0.0000e+00, 0.0000e+00],\n",
       "          [9.5597e-01, 3.7557e-02, 7.5757e-05,  ..., 0.0000e+00,\n",
       "           0.0000e+00, 0.0000e+00],\n",
       "          ...,\n",
       "          [3.4220e-01, 2.9688e-01, 2.2644e-01,  ..., 0.0000e+00,\n",
       "           0.0000e+00, 0.0000e+00],\n",
       "          [3.3667e-01, 2.9404e-01, 2.2785e-01,  ..., 0.0000e+00,\n",
       "           0.0000e+00, 0.0000e+00],\n",
       "          [3.3465e-01, 2.9215e-01, 2.2811e-01,  ..., 0.0000e+00,\n",
       "           0.0000e+00, 0.0000e+00]],\n",
       "\n",
       "         [[2.7534e-14, 8.3357e-04, 1.3857e-01,  ..., 0.0000e+00,\n",
       "           0.0000e+00, 0.0000e+00],\n",
       "          [1.6856e-02, 2.2544e-11, 1.8055e-02,  ..., 0.0000e+00,\n",
       "           0.0000e+00, 0.0000e+00],\n",
       "          [9.9130e-01, 6.3980e-03, 4.5361e-12,  ..., 0.0000e+00,\n",
       "           0.0000e+00, 0.0000e+00],\n",
       "          ...,\n",
       "          [2.3744e-01, 2.3480e-01, 2.3141e-01,  ..., 0.0000e+00,\n",
       "           0.0000e+00, 0.0000e+00],\n",
       "          [2.3723e-01, 2.3485e-01, 2.3186e-01,  ..., 0.0000e+00,\n",
       "           0.0000e+00, 0.0000e+00],\n",
       "          [2.3695e-01, 2.3472e-01, 2.3198e-01,  ..., 0.0000e+00,\n",
       "           0.0000e+00, 0.0000e+00]],\n",
       "\n",
       "         ...,\n",
       "\n",
       "         [[2.1889e-24, 2.1054e-08, 7.2320e-04,  ..., 0.0000e+00,\n",
       "           0.0000e+00, 0.0000e+00],\n",
       "          [1.2483e-06, 1.1478e-21, 7.8294e-06,  ..., 0.0000e+00,\n",
       "           0.0000e+00, 0.0000e+00],\n",
       "          [4.7418e-01, 8.6558e-05, 1.7240e-18,  ..., 0.0000e+00,\n",
       "           0.0000e+00, 0.0000e+00],\n",
       "          ...,\n",
       "          [2.0697e-01, 2.0643e-01, 2.0664e-01,  ..., 0.0000e+00,\n",
       "           0.0000e+00, 0.0000e+00],\n",
       "          [2.0684e-01, 2.0630e-01, 2.0651e-01,  ..., 0.0000e+00,\n",
       "           0.0000e+00, 0.0000e+00],\n",
       "          [2.0684e-01, 2.0632e-01, 2.0652e-01,  ..., 0.0000e+00,\n",
       "           0.0000e+00, 0.0000e+00]],\n",
       "\n",
       "         [[7.5120e-08, 6.5376e-02, 5.7220e-01,  ..., 0.0000e+00,\n",
       "           0.0000e+00, 0.0000e+00],\n",
       "          [7.3573e-01, 7.8591e-07, 7.1693e-02,  ..., 0.0000e+00,\n",
       "           0.0000e+00, 0.0000e+00],\n",
       "          [9.9055e-01, 9.0688e-03, 1.9534e-08,  ..., 0.0000e+00,\n",
       "           0.0000e+00, 0.0000e+00],\n",
       "          ...,\n",
       "          [2.9833e-01, 2.8205e-01, 2.5308e-01,  ..., 0.0000e+00,\n",
       "           0.0000e+00, 0.0000e+00],\n",
       "          [2.9948e-01, 2.8303e-01, 2.5396e-01,  ..., 0.0000e+00,\n",
       "           0.0000e+00, 0.0000e+00],\n",
       "          [3.0111e-01, 2.8439e-01, 2.5502e-01,  ..., 0.0000e+00,\n",
       "           0.0000e+00, 0.0000e+00]],\n",
       "\n",
       "         [[3.9810e-23, 7.0646e-08, 8.3228e-05,  ..., 0.0000e+00,\n",
       "           0.0000e+00, 0.0000e+00],\n",
       "          [3.0969e-08, 3.1944e-17, 2.6004e-06,  ..., 0.0000e+00,\n",
       "           0.0000e+00, 0.0000e+00],\n",
       "          [8.5220e-04, 3.8637e-05, 2.3510e-15,  ..., 0.0000e+00,\n",
       "           0.0000e+00, 0.0000e+00],\n",
       "          ...,\n",
       "          [1.9837e-01, 1.9990e-01, 1.9965e-01,  ..., 0.0000e+00,\n",
       "           0.0000e+00, 0.0000e+00],\n",
       "          [1.9837e-01, 1.9990e-01, 1.9965e-01,  ..., 0.0000e+00,\n",
       "           0.0000e+00, 0.0000e+00],\n",
       "          [1.9840e-01, 1.9990e-01, 1.9965e-01,  ..., 0.0000e+00,\n",
       "           0.0000e+00, 0.0000e+00]]],\n",
       "\n",
       "\n",
       "        [[[3.9741e-10, 1.1264e-05, 4.9387e-07,  ..., 2.5775e-16,\n",
       "           1.8166e-16, 0.0000e+00],\n",
       "          [1.5935e-05, 9.9614e-11, 3.0542e-09,  ..., 1.0159e-16,\n",
       "           7.0600e-17, 0.0000e+00],\n",
       "          [1.0116e-05, 7.7343e-08, 2.7275e-25,  ..., 6.0687e-24,\n",
       "           3.4681e-24, 0.0000e+00],\n",
       "          ...,\n",
       "          [4.2974e-02, 4.2842e-02, 4.1604e-02,  ..., 4.9355e-25,\n",
       "           2.8850e-25, 0.0000e+00],\n",
       "          [4.2781e-02, 4.2654e-02, 4.1458e-02,  ..., 3.1136e-25,\n",
       "           1.8133e-25, 0.0000e+00],\n",
       "          [4.2866e-02, 4.2738e-02, 4.1567e-02,  ..., 1.6912e-26,\n",
       "           9.4408e-27, 0.0000e+00]],\n",
       "\n",
       "         [[4.3239e-06, 3.4192e-04, 2.1129e-03,  ..., 2.4663e-05,\n",
       "           1.5612e-05, 0.0000e+00],\n",
       "          [2.7942e-04, 2.6241e-06, 7.3823e-04,  ..., 1.2968e-05,\n",
       "           8.4672e-06, 0.0000e+00],\n",
       "          [4.0568e-05, 2.3225e-06, 6.2873e-11,  ..., 2.4987e-11,\n",
       "           1.8670e-11, 0.0000e+00],\n",
       "          ...,\n",
       "          [3.6350e-02, 3.6315e-02, 3.6332e-02,  ..., 2.8683e-11,\n",
       "           2.1916e-11, 0.0000e+00],\n",
       "          [3.6271e-02, 3.6237e-02, 3.6257e-02,  ..., 2.7995e-11,\n",
       "           2.1246e-11, 0.0000e+00],\n",
       "          [3.9142e-02, 3.9081e-02, 3.8962e-02,  ..., 1.8157e-17,\n",
       "           1.1920e-17, 0.0000e+00]],\n",
       "\n",
       "         [[6.9457e-21, 5.6023e-11, 5.3665e-10,  ..., 5.1940e-25,\n",
       "           4.3732e-25, 0.0000e+00],\n",
       "          [5.8118e-11, 1.2650e-21, 2.4249e-13,  ..., 1.1919e-25,\n",
       "           9.7850e-26, 0.0000e+00],\n",
       "          [2.8549e-10, 3.5036e-14, 3.4014e-37,  ..., 2.5652e-36,\n",
       "           1.3291e-36, 0.0000e+00],\n",
       "          ...,\n",
       "          [4.5416e-02, 4.5214e-02, 4.4121e-02,  ..., 2.2657e-37,\n",
       "           1.2908e-37, 0.0000e+00],\n",
       "          [4.5136e-02, 4.4943e-02, 4.3890e-02,  ..., 1.1850e-37,\n",
       "           6.7151e-38, 0.0000e+00],\n",
       "          [4.3852e-02, 4.3672e-02, 4.2451e-02,  ..., 1.3832e-38,\n",
       "           5.1115e-39, 0.0000e+00]],\n",
       "\n",
       "         ...,\n",
       "\n",
       "         [[6.9008e-01, 1.5432e-35, 0.0000e+00,  ..., 5.5554e-26,\n",
       "           1.3955e-27, 0.0000e+00],\n",
       "          [5.8120e-35, 7.4874e-02, 0.0000e+00,  ..., 4.2539e-26,\n",
       "           1.0155e-27, 0.0000e+00],\n",
       "          [0.0000e+00, 3.9292e-42, 1.1876e-41,  ..., 3.4735e-34,\n",
       "           4.0137e-36, 0.0000e+00],\n",
       "          ...,\n",
       "          [0.0000e+00, 0.0000e+00, 0.0000e+00,  ..., 2.8124e-33,\n",
       "           3.3702e-35, 0.0000e+00],\n",
       "          [0.0000e+00, 0.0000e+00, 0.0000e+00,  ..., 2.5413e-33,\n",
       "           3.0394e-35, 0.0000e+00],\n",
       "          [0.0000e+00, 0.0000e+00, 0.0000e+00,  ..., 1.7841e-28,\n",
       "           5.8504e-30, 0.0000e+00]],\n",
       "\n",
       "         [[5.0511e-02, 1.1270e-02, 1.3692e-02,  ..., 2.2582e-02,\n",
       "           5.9179e-01, 0.0000e+00],\n",
       "          [1.2446e-02, 4.3091e-02, 2.7080e-02,  ..., 2.7054e-02,\n",
       "           3.0256e-01, 0.0000e+00],\n",
       "          [2.4309e-04, 2.0734e-05, 2.6012e-11,  ..., 1.1726e-10,\n",
       "           2.3490e-11, 0.0000e+00],\n",
       "          ...,\n",
       "          [3.5512e-02, 3.5478e-02, 3.5336e-02,  ..., 1.0690e-09,\n",
       "           9.2005e-10, 0.0000e+00],\n",
       "          [3.6102e-02, 3.6068e-02, 3.5922e-02,  ..., 5.6801e-10,\n",
       "           3.9757e-10, 0.0000e+00],\n",
       "          [4.2154e-02, 4.2046e-02, 4.1524e-02,  ..., 1.3567e-24,\n",
       "           5.0079e-25, 0.0000e+00]],\n",
       "\n",
       "         [[2.4680e-03, 1.4924e-31, 0.0000e+00,  ..., 1.2709e-28,\n",
       "           3.6442e-29, 0.0000e+00],\n",
       "          [5.8069e-32, 1.2375e-04, 0.0000e+00,  ..., 3.3307e-29,\n",
       "           9.3335e-30, 0.0000e+00],\n",
       "          [0.0000e+00, 0.0000e+00, 0.0000e+00,  ..., 5.8664e-39,\n",
       "           1.1333e-39, 0.0000e+00],\n",
       "          ...,\n",
       "          [0.0000e+00, 0.0000e+00, 0.0000e+00,  ..., 9.9018e-38,\n",
       "           2.0244e-38, 0.0000e+00],\n",
       "          [0.0000e+00, 0.0000e+00, 0.0000e+00,  ..., 1.0160e-37,\n",
       "           2.1542e-38, 0.0000e+00],\n",
       "          [0.0000e+00, 0.0000e+00, 0.0000e+00,  ..., 6.1795e-36,\n",
       "           1.4703e-36, 0.0000e+00]]],\n",
       "\n",
       "\n",
       "        [[[5.0628e-25, 2.1075e-10, 4.5172e-06,  ..., 0.0000e+00,\n",
       "           0.0000e+00, 0.0000e+00],\n",
       "          [3.3293e-09, 3.4243e-25, 6.7643e-09,  ..., 0.0000e+00,\n",
       "           0.0000e+00, 0.0000e+00],\n",
       "          [4.2018e-04, 3.0814e-08, 7.2911e-22,  ..., 0.0000e+00,\n",
       "           0.0000e+00, 0.0000e+00],\n",
       "          ...,\n",
       "          [1.4603e-01, 1.4532e-01, 1.4377e-01,  ..., 0.0000e+00,\n",
       "           0.0000e+00, 0.0000e+00],\n",
       "          [1.4583e-01, 1.4515e-01, 1.4362e-01,  ..., 0.0000e+00,\n",
       "           0.0000e+00, 0.0000e+00],\n",
       "          [1.4561e-01, 1.4495e-01, 1.4347e-01,  ..., 0.0000e+00,\n",
       "           0.0000e+00, 0.0000e+00]],\n",
       "\n",
       "         [[1.0341e-07, 1.7112e-02, 9.6394e-02,  ..., 0.0000e+00,\n",
       "           0.0000e+00, 0.0000e+00],\n",
       "          [2.4322e-01, 8.9414e-07, 1.7214e-02,  ..., 0.0000e+00,\n",
       "           0.0000e+00, 0.0000e+00],\n",
       "          [9.6623e-01, 2.0319e-02, 6.5438e-08,  ..., 0.0000e+00,\n",
       "           0.0000e+00, 0.0000e+00],\n",
       "          ...,\n",
       "          [2.4677e-01, 2.2757e-01, 2.2174e-01,  ..., 0.0000e+00,\n",
       "           0.0000e+00, 0.0000e+00],\n",
       "          [2.4607e-01, 2.2720e-01, 2.2148e-01,  ..., 0.0000e+00,\n",
       "           0.0000e+00, 0.0000e+00],\n",
       "          [2.4533e-01, 2.2679e-01, 2.2117e-01,  ..., 0.0000e+00,\n",
       "           0.0000e+00, 0.0000e+00]],\n",
       "\n",
       "         [[1.3445e-31, 1.5890e-11, 1.0042e-06,  ..., 0.0000e+00,\n",
       "           0.0000e+00, 0.0000e+00],\n",
       "          [4.0155e-10, 6.6552e-31, 8.9610e-11,  ..., 0.0000e+00,\n",
       "           0.0000e+00, 0.0000e+00],\n",
       "          [2.6088e-02, 8.4964e-08, 1.8891e-27,  ..., 0.0000e+00,\n",
       "           0.0000e+00, 0.0000e+00],\n",
       "          ...,\n",
       "          [1.6288e-01, 1.5954e-01, 1.5371e-01,  ..., 0.0000e+00,\n",
       "           0.0000e+00, 0.0000e+00],\n",
       "          [1.6092e-01, 1.5794e-01, 1.5246e-01,  ..., 0.0000e+00,\n",
       "           0.0000e+00, 0.0000e+00],\n",
       "          [1.5894e-01, 1.5630e-01, 1.5121e-01,  ..., 0.0000e+00,\n",
       "           0.0000e+00, 0.0000e+00]],\n",
       "\n",
       "         ...,\n",
       "\n",
       "         [[3.1538e-22, 1.3574e-27, 2.2051e-20,  ..., 0.0000e+00,\n",
       "           0.0000e+00, 0.0000e+00],\n",
       "          [2.4444e-25, 7.4674e-26, 3.4083e-17,  ..., 0.0000e+00,\n",
       "           0.0000e+00, 0.0000e+00],\n",
       "          [4.3481e-28, 6.0834e-29, 2.9219e-06,  ..., 0.0000e+00,\n",
       "           0.0000e+00, 0.0000e+00],\n",
       "          ...,\n",
       "          [2.0263e-19, 2.0081e-19, 2.1114e-19,  ..., 0.0000e+00,\n",
       "           0.0000e+00, 0.0000e+00],\n",
       "          [1.7232e-18, 1.7085e-18, 1.7915e-18,  ..., 0.0000e+00,\n",
       "           0.0000e+00, 0.0000e+00],\n",
       "          [1.1399e-17, 1.1306e-17, 1.1827e-17,  ..., 0.0000e+00,\n",
       "           0.0000e+00, 0.0000e+00]],\n",
       "\n",
       "         [[1.2455e-10, 3.5611e-03, 1.0293e-01,  ..., 0.0000e+00,\n",
       "           0.0000e+00, 0.0000e+00],\n",
       "          [7.6571e-02, 6.2052e-10, 1.1209e-02,  ..., 0.0000e+00,\n",
       "           0.0000e+00, 0.0000e+00],\n",
       "          [9.6463e-01, 1.0841e-02, 6.2712e-09,  ..., 0.0000e+00,\n",
       "           0.0000e+00, 0.0000e+00],\n",
       "          ...,\n",
       "          [2.3456e-01, 2.2381e-01, 2.1394e-01,  ..., 0.0000e+00,\n",
       "           0.0000e+00, 0.0000e+00],\n",
       "          [2.3484e-01, 2.2426e-01, 2.1460e-01,  ..., 0.0000e+00,\n",
       "           0.0000e+00, 0.0000e+00],\n",
       "          [2.3487e-01, 2.2451e-01, 2.1500e-01,  ..., 0.0000e+00,\n",
       "           0.0000e+00, 0.0000e+00]],\n",
       "\n",
       "         [[2.1265e-28, 0.0000e+00, 5.0560e-41,  ..., 0.0000e+00,\n",
       "           0.0000e+00, 0.0000e+00],\n",
       "          [9.8091e-45, 4.4288e-35, 2.2744e-35,  ..., 0.0000e+00,\n",
       "           0.0000e+00, 0.0000e+00],\n",
       "          [5.6052e-45, 1.2612e-44, 2.7878e-10,  ..., 0.0000e+00,\n",
       "           0.0000e+00, 0.0000e+00],\n",
       "          ...,\n",
       "          [0.0000e+00, 0.0000e+00, 0.0000e+00,  ..., 0.0000e+00,\n",
       "           0.0000e+00, 0.0000e+00],\n",
       "          [0.0000e+00, 0.0000e+00, 0.0000e+00,  ..., 0.0000e+00,\n",
       "           0.0000e+00, 0.0000e+00],\n",
       "          [0.0000e+00, 0.0000e+00, 0.0000e+00,  ..., 0.0000e+00,\n",
       "           0.0000e+00, 0.0000e+00]]]], device='cuda:0')"
      ]
     },
     "execution_count": 14,
     "metadata": {},
     "output_type": "execute_result"
    }
   ],
   "source": [
    "# pickfile load\n",
    "with open(attn_path, \"rb\") as f:\n",
    "    attn_probs2 = pickle.load(f)"
   ]
  },
  {
   "cell_type": "code",
   "execution_count": null,
   "metadata": {},
   "outputs": [],
   "source": []
  }
 ],
 "metadata": {
  "kernelspec": {
   "display_name": "Python 3.8.10 64-bit",
   "language": "python",
   "name": "python3"
  },
  "language_info": {
   "codemirror_mode": {
    "name": "ipython",
    "version": 3
   },
   "file_extension": ".py",
   "mimetype": "text/x-python",
   "name": "python",
   "nbconvert_exporter": "python",
   "pygments_lexer": "ipython3",
   "version": "3.8.10"
  },
  "orig_nbformat": 4,
  "vscode": {
   "interpreter": {
    "hash": "31f2aee4e71d21fbe5cf8b01ff0e069b9275f58929596ceb00d14d90e3e16cd6"
   }
  }
 },
 "nbformat": 4,
 "nbformat_minor": 2
}
