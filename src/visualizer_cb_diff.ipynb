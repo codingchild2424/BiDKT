{
 "cells": [
  {
   "cell_type": "code",
   "execution_count": 1,
   "metadata": {},
   "outputs": [],
   "source": [
    "# config\n",
    "import torch\n",
    "import torch.nn as nn\n",
    "\n",
    "# hyperparameters\n",
    "gpu_id = 0 if torch.cuda.is_available() else -1\n",
    "device = torch.device('cpu') if gpu_id < 0 else torch.device('cuda:%d' % gpu_id)\n",
    "max_seq_len = 100\n",
    "train_ratio = .8\n",
    "valid_ratio = .1\n",
    "hidden_size = 512\n",
    "output_size = 1\n",
    "num_head = 16\n",
    "num_encoder = 12\n",
    "use_leakyrelu = True\n",
    "dropout_p = .1\n",
    "learning_rate = 0.001\n",
    "grad_acc = True\n",
    "grad_acc_iter = 8\n",
    "\n",
    "batch_size = 64\n",
    "n_epochs = 1000"
   ]
  },
  {
   "cell_type": "code",
   "execution_count": 2,
   "metadata": {},
   "outputs": [],
   "source": [
    "# dataloader\n",
    "from dataloaders.assist2009_pid_diff_loader import ASSIST2009_PID_DIFF\n",
    "from utils import pid_diff_collate_fn\n",
    "from torch.utils.data import DataLoader, random_split\n",
    "\n",
    "dataset = ASSIST2009_PID_DIFF(max_seq_len)\n",
    "num_q = dataset.num_q\n",
    "num_r = dataset.num_r\n",
    "num_pid = dataset.num_pid\n",
    "num_diff = dataset.num_diff\n",
    "collate = pid_diff_collate_fn\n",
    "\n",
    "train_size = int( len(dataset) * train_ratio * (1 - valid_ratio))\n",
    "valid_size = int( len(dataset) * train_ratio * valid_ratio)\n",
    "test_size = len(dataset) - (train_size + valid_size)\n",
    "\n",
    "train_dataset, valid_dataset, test_dataset = random_split(\n",
    "    dataset, [ train_size, valid_size, test_size ]\n",
    "    )\n",
    "\n",
    "train_loader = DataLoader(\n",
    "    train_dataset,\n",
    "    batch_size = batch_size,\n",
    "    shuffle = True, # train_loader use shuffle\n",
    "    collate_fn = collate\n",
    ")\n",
    "valid_loader = DataLoader(\n",
    "    valid_dataset,\n",
    "    batch_size = batch_size,\n",
    "    shuffle = False, # valid_loader don't use shuffle\n",
    "    collate_fn = collate\n",
    ")\n",
    "test_loader = DataLoader(\n",
    "    test_dataset,\n",
    "    batch_size = batch_size,\n",
    "    shuffle = False, # test_loader don't use shuffle\n",
    "    collate_fn = collate\n",
    ")"
   ]
  },
  {
   "cell_type": "code",
   "execution_count": 3,
   "metadata": {},
   "outputs": [],
   "source": [
    "# model\n",
    "import torch\n",
    "import torch.nn as nn\n",
    "import numpy as np\n",
    "import math\n",
    "import torch.nn.functional as F\n",
    "\n",
    "# SeparableConv1D\n",
    "class SeparableConv1D(nn.Module):\n",
    "    def __init__(self, input_filters, output_filters, kernel_size):\n",
    "        super().__init__()\n",
    "\n",
    "        # input_filters = 512 <- hidden_size\n",
    "        # output_filters = 256 <- all_attn_head_size\n",
    "\n",
    "        self.depthwise = nn.Conv1d(input_filters, input_filters, kernel_size=kernel_size, groups=input_filters, padding=kernel_size //2, bias = False)\n",
    "        self.pointwise = nn.Conv1d(input_filters, output_filters, kernel_size=1, bias=False)\n",
    "        self.bias = nn.Parameter(torch.zeros(output_filters, 1))\n",
    "\n",
    "        self.depthwise.weight.data.normal_(mean=0.0, std=0.02)\n",
    "        self.pointwise.weight.data.normal_(mean=0.0, std=0.02)\n",
    "\n",
    "    def forward(self, hidden_states):\n",
    "        # |hidden_states| = (bs, hs, n)\n",
    "\n",
    "        x = self.depthwise(hidden_states)\n",
    "        # |x| = (bs, hs, n)\n",
    "\n",
    "        x = self.pointwise(x)\n",
    "        # |x| = (bs, hs/2(all_attn_h_size), n)\n",
    "\n",
    "        x += self.bias\n",
    "        # |x| = (bs, hs/2(all_attn_h_size), n)\n",
    "        return x\n",
    "\n",
    "# Thank for the Huggingface and Author of AKT\n",
    "# Combined the Monotonic Attention and Span Dynamic Convolutional Attention\n",
    "class ConvolutionalMultiheadAttention(nn.Module):\n",
    "    # hidden % n_splits == 0\n",
    "    def __init__(self, hidden_size, n_splits, dropout_p, head_ratio=2, conv_kernel_size=9):\n",
    "        super().__init__()\n",
    "        # default: n_splits = 16, head_ratio = 2\n",
    "        \n",
    "        new_num_attention_heads = n_splits // head_ratio\n",
    "        self.num_attention_heads = new_num_attention_heads\n",
    "        # default: self.new_num_attention_heads = 8\n",
    "\n",
    "        self.head_ratio = head_ratio\n",
    "        # default: self.head_ratio = 2\n",
    "\n",
    "        self.conv_kernel_size = conv_kernel_size\n",
    "        # default: self.conv_kernel_size = 9\n",
    "\n",
    "        self.attention_head_size = hidden_size // n_splits\n",
    "        # default: self.attention_head_size = 512//16 = 32\n",
    "\n",
    "        self.all_head_size = self.num_attention_heads * self.attention_head_size\n",
    "        # default: self.all_head_size = 32 * 8 = 256\n",
    "\n",
    "        # linear layers for query, key, value \n",
    "        self.query = nn.Linear(hidden_size, self.all_head_size, bias=False) # 512 -> 256\n",
    "        self.key = nn.Linear(hidden_size, self.all_head_size, bias=False) # 512 -> 256\n",
    "        self.value = nn.Linear(hidden_size, self.all_head_size, bias=False) # 512 -> 256\n",
    "\n",
    "        # layers for span dynamic convolutional attention\n",
    "        self.key_conv_attn_layer = SeparableConv1D(\n",
    "            hidden_size, self.all_head_size, self.conv_kernel_size\n",
    "        )\n",
    "        self.conv_kernel_layer = nn.Linear(self.all_head_size, \n",
    "                                        self.num_attention_heads * self.conv_kernel_size # 8 * 9 = 72\n",
    "                                        )\n",
    "        self.conv_out_layer = nn.Linear(hidden_size, self.all_head_size)\n",
    "\n",
    "        self.unfold = nn.Unfold(\n",
    "            kernel_size=[self.conv_kernel_size, 1], padding=[int((self.conv_kernel_size - 1) / 2), 0]\n",
    "        )\n",
    "        \n",
    "        # this is for the distance function\n",
    "        self.gammas = nn.Parameter(torch.zeros(self.num_attention_heads, 1, 1))\n",
    "\n",
    "        self.dropout = nn.Dropout(dropout_p)\n",
    "\n",
    "    def forward(self, Q, K, V, mask=None):\n",
    "        # |Q| = |K| = |V| = (bs, n, hs)\n",
    "        # |mask| = (bs, n)\n",
    "\n",
    "        batch_size = Q.size(0)\n",
    "\n",
    "        mixed_query_layer = self.query(Q)\n",
    "        mixed_key_layer = self.key(K)\n",
    "        mixed_value_layer = self.value(V)\n",
    "        # |mixed_query_layer| = |mixed_key_layer| = |mixed_value_layer| = (bs, n, hs/2(all_attn_h_size))\n",
    "\n",
    "        mixed_key_conv_attn_layer = self.key_conv_attn_layer(\n",
    "            K.transpose(1, 2) # |hidden_states.transpose(1, 2)| = (bs, hs, n)\n",
    "        )\n",
    "        # |mixed_key_conv_attn_layer| = (bs, hs/2(all_attn_h_size), n)\n",
    "        mixed_key_conv_attn_layer = mixed_key_conv_attn_layer.transpose(1, 2)\n",
    "        # |mixed_key_conv_attn_layer| = (bs, n, hs/2(all_attn_h_size))\n",
    "\n",
    "        query_layer = self.transpose_for_scores(mixed_query_layer)\n",
    "        # |query_layer| = (bs, n_attn_head, n, attn_head_size) = (64, 8, 100, 32)\n",
    "        key_layer = self.transpose_for_scores(mixed_key_layer)\n",
    "        # |query_layer| = (bs, n_attn_head, n, attn_head_size) = (64, 8, 100, 32)\n",
    "        value_layer = self.transpose_for_scores(mixed_value_layer)\n",
    "        # |query_layer| = (bs, n_attn_head, n, attn_head_size) = (64, 8, 100, 32)\n",
    "\n",
    "        ##############\n",
    "        # conv layer #\n",
    "        ##############\n",
    "        # element-wise multiply of conv key and query \n",
    "        conv_attn_layer = torch.multiply(mixed_key_conv_attn_layer, mixed_query_layer)\n",
    "        # |conv_attn_layer| = (bs, n, hs/2(all_attn_h_size))\n",
    "        conv_kernel_layer = self.conv_kernel_layer(conv_attn_layer)\n",
    "        # |conv_kernel_layer| = (bs, n, (n_attn_h * conv_kernel_size) = (64, 100, 8 * 9) = (64, 100, 72)\n",
    "        conv_kernel_layer = torch.reshape(conv_kernel_layer, [-1, self.conv_kernel_size, 1])\n",
    "        # |conv_kernel_layer| = (51200, 9, 1)\n",
    "        conv_kernel_layer = torch.softmax(conv_kernel_layer, dim=1)\n",
    "        # |conv_kernel_layer| = (51200, 9, 1), 각 head별 확률값들을 도출하는 듯\n",
    "\n",
    "        # q X k is matmul with v\n",
    "        conv_out_layer = self.conv_out_layer(V)\n",
    "        # |conv_out_layer| = (bs, n, hs/2(all_attn_h_size))\n",
    "        conv_out_layer = torch.reshape(conv_out_layer, [batch_size, -1, self.all_head_size])\n",
    "        # |conv_out_layer| = (bs, n, hs/2(all_attn_h_size))\n",
    "        conv_out_layer = conv_out_layer.transpose(1, 2).contiguous().unsqueeze(-1)\n",
    "        # |conv_out_layer| = (bs, hs/2(all_attn_h_size), n, 1)\n",
    "        # unfold 참고 -> #https://www.facebook.com/groups/PyTorchKR/posts/1685133764959631/\n",
    "        conv_out_layer = nn.functional.unfold( \n",
    "            conv_out_layer,\n",
    "            kernel_size=[self.conv_kernel_size, 1],\n",
    "            dilation=1,\n",
    "            padding=[(self.conv_kernel_size - 1) // 2, 0],\n",
    "            stride=1,\n",
    "        )\n",
    "        # |conv_out_layer| = (64, 2304, 100)\n",
    "        conv_out_layer = conv_out_layer.transpose(1, 2).reshape(\n",
    "            batch_size, -1, self.all_head_size, self.conv_kernel_size\n",
    "        )\n",
    "        # |conv_out_layer| = (bs, n, hs/2(all_attn_h_size), conv_kernal_size)\n",
    "        conv_out_layer = torch.reshape(conv_out_layer, [-1, self.attention_head_size, self.conv_kernel_size])\n",
    "        # |conv_out_layer|, default = (51200, 32, 9)\n",
    "        # matmul(q X k, v)\n",
    "        conv_out_layer = torch.matmul(conv_out_layer, conv_kernel_layer)\n",
    "        # |conv_out_layer|, default = (51200, 32, 1)\n",
    "        conv_out_layer = torch.reshape(conv_out_layer, [-1, self.all_head_size])\n",
    "        # |conv_out_layer|, default = (6400, 256)\n",
    "\n",
    "        ###################\n",
    "        # self_attn layer #\n",
    "        ###################\n",
    "        attention_scores = torch.matmul(query_layer, key_layer.transpose(-1, -2))\n",
    "        # |attention_scores| = (bs, n_attn_head, n, n), default = (64, 8, 100, 100)\n",
    "        attention_scores = attention_scores / math.sqrt(self.attention_head_size)\n",
    "        # |attention_scores| = (bs, n_attn_head, n, n), default = (64, 8, 100, 100)\n",
    "\n",
    "        # |mask| = (bs, n)\n",
    "        attention_mask = self.get_extended_attention_mask(mask)\n",
    "        # |attention_mask| = (bs, n_attn_head, n, n), default = (64, 8, 100, 100)\n",
    "        attention_scores = attention_scores.masked_fill_(attention_mask==0, -1e8)\n",
    "        # |attention_scores| = (bs, n_attn_head, n, n) = (64, 8, 100, 100)\n",
    "\n",
    "        attention_probs = nn.functional.softmax(attention_scores, dim=-1)\n",
    "        # |attention_probs| = (bs, n_attn_head, n, n) = (64, 8, 100, 100)\n",
    "        attention_probs = self.dropout(attention_probs)\n",
    "        # |attention_probs| = (bs, n_attn_head, n, n) = (64, 8, 100, 100)\n",
    "\n",
    "        context_layer = torch.matmul(attention_probs, value_layer)\n",
    "        # |context_layer| = (bs, n_attn_head, n, attn_head_size) = (64, 8, 100, 32)\n",
    "        context_layer = context_layer.permute(0, 2, 1, 3).contiguous()\n",
    "        # |context_layer| = (bs, n, n_attn_head, attn_head_size) = (64, 100, 8, 32)\n",
    "        \n",
    "        #########################################\n",
    "        # concat with conv and self_attn values #\n",
    "        #########################################\n",
    "        conv_out = torch.reshape(conv_out_layer, [batch_size, -1, self.num_attention_heads, self.attention_head_size])\n",
    "        # |conv_out| = (bs, n, n_attn_head, attn_head_size) = (64, 100, 8, 32)\n",
    "        context_layer = torch.cat([context_layer, conv_out], 2)\n",
    "        # |context_layer| = (bs, n, n_attn_head * 2, attn_head_size) = (64, 100, 16, 32)\n",
    "        new_context_layer_shape = context_layer.size()[:-2] + \\\n",
    "             (self.head_ratio * self.all_head_size,)\n",
    "        # new_context_layer_shape = (bs, n, hs)\n",
    "        context_layer = context_layer.view(*new_context_layer_shape)\n",
    "        # |context_layer| = (bs, n, hs)\n",
    "\n",
    "        outputs = context_layer\n",
    "        # |context_layer| = (bs, n, hs)\n",
    "        # if you need attention_probs, add the return\n",
    "        # |attention_probs| = (bs, n_attn_head, n, n) = (64, 8, 100, 100)\n",
    "\n",
    "        # |outputs| = (bs, n, hs)\n",
    "        return outputs, attention_probs\n",
    "\n",
    "    # Thanks for the AKT's author and Upstage\n",
    "    # this is the distance function, this function don't use grad\n",
    "    @torch.no_grad()\n",
    "    def dist_func(self, attention_scores, mask):\n",
    "\n",
    "        scores = attention_scores\n",
    "        bs, head, seqlen = scores.size(0), scores.size(1), scores.size(2)\n",
    "\n",
    "        x1 = torch.arange(seqlen).expand(seqlen, -1)\n",
    "        x2 = x1.transpose(0, 1).contiguous()\n",
    "\n",
    "        attention_mask = self.get_extended_attention_mask(mask)\n",
    "\n",
    "        scores_ = scores.masked_fill_(attention_mask == 0, -1e32)\n",
    "\n",
    "        scores_ = F.softmax(scores_, dim=-1)\n",
    "        scores_ = scores_ * attention_mask.float()\n",
    "\n",
    "        distcum_scores = torch.cumsum(scores_, dim=-1)\n",
    "        disttotal_scores = torch.sum(scores_, dim=-1, keepdim=True)\n",
    "        \"\"\"\n",
    "        >>> x1-x2\n",
    "            tensor([[ 0,  1,  2,  3,  4],\n",
    "                    [-1,  0,  1,  2,  3],\n",
    "                    [-2, -1,  0,  1,  2],\n",
    "                    [-3, -2, -1,  0,  1],\n",
    "                    [-4, -3, -2, -1,  0]])\n",
    "\n",
    "        >>> torch.abs(x1-x2)\n",
    "            tensor([[0, 1, 2, 3, 4],\n",
    "                    [1, 0, 1, 2, 3],\n",
    "                    [2, 1, 0, 1, 2],\n",
    "                    [3, 2, 1, 0, 1],\n",
    "                    [4, 3, 2, 1, 0]])\n",
    "        \"\"\"     \n",
    "        device = distcum_scores.get_device()\n",
    "        position_effect = torch.abs(x1 - x2)[None, None, :, :].type(\n",
    "            torch.FloatTensor\n",
    "        ) \n",
    "        # |position_effect| = (1, 1, seqlen, seqlen)\n",
    "        position_effect = position_effect.to(device)\n",
    "        \n",
    "        # dist_score => d(t, tau)\n",
    "        dist_scores = torch.clamp(\n",
    "            (disttotal_scores - distcum_scores) * position_effect, min=0.0\n",
    "        )\n",
    "\n",
    "        dist_scores = dist_scores.sqrt().detach()\n",
    "\n",
    "        # |dist_scores| = (bs, n_attn_head, n, n), default = (64, 8, 100, 100)\n",
    "        return dist_scores\n",
    "\n",
    "    # this is for attention mask\n",
    "    @torch.no_grad()\n",
    "    def get_extended_attention_mask(self, mask):\n",
    "        # |mask| = (bs, n)\n",
    "        mask_shape = mask.size() + (mask.size(1), self.num_attention_heads)\n",
    "        # mask_shape = (bs, n, n, n_attn_head)\n",
    "        mask_enc = mask.unsqueeze(-1).expand(mask.size(0), mask.size(1), mask.size(1) * self.num_attention_heads).bool()\n",
    "        # |mask_enc| = (bs, n, n * n_attn_head)\n",
    "\n",
    "        mask_enc = mask_enc.view(*mask_shape)\n",
    "        # |mask_enc| = (bs, n, n, n_attn_head), default = (64, 100, 100, 8)\n",
    "\n",
    "        return mask_enc.permute(0, 3, 2, 1)\n",
    "        # |mask_enc| = (bs, n_attn_head, n, n), default = (64, 8, 100, 100)\n",
    "\n",
    "    # for attention, last dim will be divied to n_attn_head, and get a new shape\n",
    "    def transpose_for_scores(self, x):\n",
    "        # |x| = (bs, n, hs/2(all_attn_h_size))\n",
    "\n",
    "        # 마지막 차원을 n_attn_head의 수만큼으로 나눔\n",
    "        new_x_shape = x.size()[:-1] + \\\n",
    "             (self.num_attention_heads, self.attention_head_size)\n",
    "        # |x.size()[:-1]| = (bs, n)\n",
    "        # self.new_num_attention_heads = 8\n",
    "        # self.attention_head_size = 32\n",
    "        # |new_x_shape| = (bs, n, new_num_attention_heads, attention_head_size)\n",
    "\n",
    "        x = x.view(*new_x_shape)\n",
    "        # |x| = (bs, n, n_attn_head, attn_head_size) = (64, 100, 8, 32)\n",
    "\n",
    "        return x.permute(0, 2, 1, 3)\n",
    "        # |x| = (bs, n_attn_head, n, attn_head_size) = (64, 8, 100, 32)\n",
    "\n",
    "\n",
    "class EncoderBlock(nn.Module):\n",
    "\n",
    "    def __init__(\n",
    "        self,\n",
    "        hidden_size, # default = 512\n",
    "        n_splits,\n",
    "        use_leakyrelu,\n",
    "        max_seq_len,\n",
    "        dropout_p=.1,\n",
    "    ):\n",
    "        super().__init__()\n",
    "\n",
    "        self.use_leakyrelu = use_leakyrelu\n",
    "\n",
    "        self.attn = ConvolutionalMultiheadAttention(hidden_size, n_splits, dropout_p)\n",
    "        self.attn_norm = nn.LayerNorm(hidden_size)\n",
    "        self.attn_dropout = nn.Dropout(dropout_p)\n",
    "\n",
    "        self.fc = nn.Sequential(\n",
    "            nn.Linear(hidden_size, hidden_size * 4),\n",
    "            # if you want to use gelu, then you have to change config option\n",
    "            nn.LeakyReLU() if self.use_leakyrelu else self.gelu(),\n",
    "            nn.Linear(hidden_size * 4, hidden_size),\n",
    "        )\n",
    "        self.fc_norm = nn.LayerNorm(hidden_size)\n",
    "        self.fc_dropout = nn.Dropout(dropout_p)\n",
    "\n",
    "    def forward(self, x, mask, attn_outputs, attn_probs):\n",
    "        # |x| = (bs, n, emb_size), torch.float32\n",
    "        # |mask| = (bs, n, n)\n",
    "\n",
    "        # Pre-LN:\n",
    "        z = self.attn_norm(x)\n",
    "        # |z| = (bs, n, emb_size)\n",
    "\n",
    "        attn_outputs, attn_probs = self.attn(Q=z, K=z, V=z, mask=mask)\n",
    "\n",
    "        # x+ means redisual connection\n",
    "        z = x + self.attn_dropout(attn_outputs)\n",
    "        # |z| = (bs, n, hs)\n",
    "\n",
    "        z = z + self.fc_dropout(self.fc(self.fc_norm(z)))\n",
    "        # |z| = (bs, n, hs)\n",
    "\n",
    "        return z, mask, attn_outputs, attn_probs\n",
    "\n",
    "    # Thanks for the upstage\n",
    "    # upstage's gelu\n",
    "    def gelu(x):\n",
    "        \"\"\"Upstage said:\n",
    "            Implementation of the gelu activation function.\n",
    "            For information: OpenAI GPT's gelu is slightly different\n",
    "            (and gives slightly different results):\n",
    "            0.5 * x * (1 + torch.tanh(math.sqrt(2 / math.pi) *\n",
    "            (x + 0.044715 * torch.pow(x, 3))))\n",
    "            Also see https://arxiv.org/abs/1606.08415\n",
    "        \"\"\"\n",
    "        return x * 0.5 * (1.0 + torch.erf(x / math.sqrt(2.0)))\n",
    "\n",
    "# Thanks for the Kihyeon Kim\n",
    "class MySequential(nn.Sequential):\n",
    "    # New Sequential function\n",
    "    # this can handle the tuple also\n",
    "    def forward(self, *x):\n",
    "        # nn.Sequential class does not provide multiple input arguments and returns.\n",
    "        # Thus, we need to define new class to solve this issue.\n",
    "        # Note that each block has same function interface.\n",
    "\n",
    "        for module in self._modules.values():\n",
    "            x = module(*x)\n",
    "\n",
    "        return x\n",
    "\n",
    "# This is the main model\n",
    "class MonaConvBert4ktPlusDiff(nn.Module):\n",
    "\n",
    "    def __init__(\n",
    "        self,\n",
    "        num_q,\n",
    "        num_r,\n",
    "        num_pid,\n",
    "        num_diff,\n",
    "        hidden_size,\n",
    "        output_size,\n",
    "        num_head,\n",
    "        num_encoder,\n",
    "        max_seq_len,\n",
    "        device,\n",
    "        use_leakyrelu,\n",
    "        dropout_p=.1,\n",
    "    ):\n",
    "        self.num_q = num_q\n",
    "        self.num_r = num_r + 2 # '+2' is for 1(correct), 0(incorrect), <PAD>, <MASK>\n",
    "        self.num_pid = num_pid\n",
    "        self.num_diff = 101 # hard coding\n",
    "\n",
    "        self.hidden_size = hidden_size\n",
    "        self.output_size = output_size\n",
    "        self.num_head = num_head\n",
    "        self.num_encoder = num_encoder\n",
    "        self.max_seq_len = max_seq_len\n",
    "        self.device = device\n",
    "        self.use_leakyrelu = use_leakyrelu\n",
    "        self.dropout_p = dropout_p\n",
    "\n",
    "        super().__init__()\n",
    "\n",
    "        # question embedding\n",
    "        self.emb_q = nn.Embedding(self.num_q, self.hidden_size).to(self.device)\n",
    "        # response embedding\n",
    "        self.emb_r = nn.Embedding(self.num_r, self.hidden_size).to(self.device)\n",
    "        # positional embedding\n",
    "        self.emb_pid = nn.Embedding(self.num_pid, self.hidden_size).to(self.device)\n",
    "\n",
    "        self.emb_diff = nn.Embedding(self.num_diff, self.hidden_size).to(self.device)\n",
    "\n",
    "        self.emb_p = nn.Embedding(self.max_seq_len, self.hidden_size).to(self.device)\n",
    "        self.emb_dropout = nn.Dropout(self.dropout_p)\n",
    "\n",
    "        # Using MySequential\n",
    "        self.encoder = nn.ModuleList(\n",
    "            [EncoderBlock(\n",
    "                hidden_size,\n",
    "                num_head,\n",
    "                self.use_leakyrelu,\n",
    "                self.max_seq_len,\n",
    "                dropout_p,\n",
    "            ) for _ in range(num_encoder)],\n",
    "        )\n",
    "\n",
    "        self.generator = nn.Sequential(\n",
    "            nn.LayerNorm(hidden_size), # Only for Pre-LN Transformer.\n",
    "            nn.Linear(hidden_size, output_size),\n",
    "            nn.Sigmoid() # Binary\n",
    "        )\n",
    "\n",
    "        # linear for dimension reduction for attn_outputs\n",
    "        # |outputs| = (bs, n, hs)\n",
    "        self.dr_linear = nn.Linear(hidden_size, max_seq_len)\n",
    "\n",
    "    # Learnable Positional embedding\n",
    "    def _positional_embedding(self, q):\n",
    "        # |q| = (bs, n)\n",
    "        # |r| = (bs, n)\n",
    "        seq_len = q.size(1)\n",
    "        # seq_len = (n,)\n",
    "        pos = torch.arange(seq_len, dtype=torch.long).unsqueeze(0).expand_as(q).to(self.device)\n",
    "        # |pos| = (bs, n)\n",
    "        \n",
    "        pos_emb = self.emb_p(pos)\n",
    "        # |emb| = (bs, n, hs)\n",
    "\n",
    "        return pos_emb\n",
    "\n",
    "    def forward(self, q, r, pid, diff, mask):\n",
    "        # |q| = (bs, n)\n",
    "        # |r| = (bs, n)\n",
    "        # |mask| = (bs, n)\n",
    "\n",
    "        emb = self.emb_q(q) + self.emb_r(r) + self.emb_pid(pid) + self.emb_diff(diff) + self._positional_embedding(q)\n",
    "        # |emb| = (bs, n, emb_size)\n",
    "\n",
    "        z = self.emb_dropout(emb)\n",
    "        # |z| = (bs, n, emb_size)\n",
    "\n",
    "        # |mask_enc| = (bs, n, n)\n",
    "        # |z| = (bs, n, emb_size)\n",
    "        attn_probs = None\n",
    "        attn_outputs = None\n",
    "\n",
    "        for block in self.encoder:\n",
    "            z, _, attn_outputs, attn_probs = block(z, mask, attn_outputs, attn_probs)\n",
    "\n",
    "        y_hat = self.generator(z)\n",
    "        #|y_hat| = (bs, n, output_size=1)\n",
    "\n",
    "        attn_outputs = self.dr_linear(attn_outputs)\n",
    "\n",
    "        return y_hat, attn_outputs, attn_probs, emb, self.emb_q(q), self.emb_pid(pid), self.emb_diff(diff)"
   ]
  },
  {
   "cell_type": "code",
   "execution_count": 4,
   "metadata": {},
   "outputs": [],
   "source": [
    "model = MonaConvBert4ktPlusDiff(\n",
    "    num_q=num_q,\n",
    "    num_r=num_r,\n",
    "    num_pid=num_pid,\n",
    "    num_diff=num_diff,\n",
    "    hidden_size=hidden_size,\n",
    "    output_size=output_size,\n",
    "    num_head=num_head,\n",
    "    num_encoder=num_encoder,\n",
    "    max_seq_len=max_seq_len,\n",
    "    device=device,\n",
    "    use_leakyrelu=use_leakyrelu,\n",
    "    dropout_p=dropout_p\n",
    "    ).to(device)"
   ]
  },
  {
   "cell_type": "code",
   "execution_count": 5,
   "metadata": {},
   "outputs": [],
   "source": [
    "from torch.optim import Adam\n",
    "from torch.nn.functional import binary_cross_entropy\n",
    "\n",
    "optimizer = Adam(model.parameters(), learning_rate)\n",
    "crit = binary_cross_entropy"
   ]
  },
  {
   "cell_type": "code",
   "execution_count": 6,
   "metadata": {},
   "outputs": [],
   "source": [
    "import torch\n",
    "from copy import deepcopy\n",
    "\n",
    "from torch.nn.functional import one_hot\n",
    "from sklearn import metrics\n",
    "import numpy as np\n",
    "from tqdm import tqdm\n",
    "from random import random, randint\n",
    "\n",
    "from utils import EarlyStopping\n",
    "\n",
    "# For Train MLM\n",
    "# 15% <MASK>, 80% of 15% are real <MASK>, 10% of 15% are reverse, 10% of 15% are not changed\n",
    "def Mlm4BertTrain(r_seqs, mask_seqs):\n",
    "    #|r_seqs| = (bs, n)\n",
    "\n",
    "    mlm_r_seqs = []\n",
    "    mlm_idxs = []\n",
    "\n",
    "    # <PAD> is -1\n",
    "    for r_seq, mask_seq in zip(r_seqs, mask_seqs):\n",
    "        r_len = r_seq.size(0)\n",
    "        # real_r_seq: r_seq with no <PAD>\n",
    "        real_r_seq = torch.masked_select(r_seq, mask_seq).cpu()\n",
    "        real_r_seq_len = real_r_seq.size(0)\n",
    "\n",
    "        mlm_idx = np.random.choice(real_r_seq_len, int(real_r_seq_len*0.15), replace=False)\n",
    "\n",
    "        for idx in mlm_idx:\n",
    "            if random() < 0.8: # 15% of 80% are <MASK>\n",
    "                real_r_seq[idx] = 2 # <MASK> is 2\n",
    "            elif random() < 0.5: # 15% of 10% are random among the 0 or 1\n",
    "                real_r_seq[idx] = randint(0, 1)\n",
    "            # 15% of 10% are same with original\n",
    "\n",
    "        # cover the PAD(-1)\n",
    "        pad_len = r_len - real_r_seq_len\n",
    "        # <PAD> is 3\n",
    "        pad_seq = torch.full((1, pad_len), 3).squeeze(0) \n",
    "        # combine the <PAD>\n",
    "        pad_r_seq = torch.cat((real_r_seq, pad_seq), dim=-1)\n",
    "        # append to the mlm_r_seqs\n",
    "        mlm_r_seqs.append(pad_r_seq)\n",
    "\n",
    "        # <MASK> idx bool\n",
    "        # make zero vector with r_len size\n",
    "        mlm_zeros = np.zeros(shape=(r_len, ))\n",
    "        # mlm_idx are 1\n",
    "        mlm_zeros[mlm_idx] = 1\n",
    "        # append to the mlm_idxs\n",
    "        mlm_idxs.append(mlm_zeros)\n",
    "\n",
    "    mlm_r_seqs = torch.stack(mlm_r_seqs)\n",
    "    mlm_idxs = torch.BoolTensor(mlm_idxs)\n",
    "\n",
    "    # mlm_r_seqs: masked r_seqs\n",
    "    # mlm_idx: masked idx\n",
    "    return mlm_r_seqs, mlm_idxs\n",
    "    # |mlm_r_seqs| = (bs, n)\n",
    "    # |mask_seqs| = (bs, n)\n",
    "\n",
    "# For Test MLM\n",
    "# The last of seq will be changed to the <MASK>\n",
    "def Mlm4BertTest(r_seqs, mask_seqs):\n",
    "    #|r_seqs| = (bs, n)\n",
    "\n",
    "    mlm_r_seqs = []\n",
    "    mlm_idxs = []\n",
    "\n",
    "    for r_seq, mask_seq in zip(r_seqs, mask_seqs):\n",
    "        r_len = r_seq.size(0)\n",
    "\n",
    "        real_r_seq = torch.masked_select(r_seq, mask_seq).cpu()\n",
    "        real_r_seq_len = real_r_seq.size(0)\n",
    "\n",
    "        # last index of real_r_seq\n",
    "        mlm_idx = real_r_seq_len - 1\n",
    "        # last index get a <MASK>, <MASK> is 2\n",
    "        real_r_seq[mlm_idx] = 2\n",
    "\n",
    "        pad_len = r_len - real_r_seq_len\n",
    "        pad_seq = torch.full((1, pad_len), 3).squeeze(0) # <PAD> is 3\n",
    "        pad_r_seq = torch.cat((real_r_seq, pad_seq), dim=-1)\n",
    "        mlm_r_seqs.append(pad_r_seq)\n",
    "\n",
    "        mlm_zeros = np.zeros(shape=(r_len, ))\n",
    "        mlm_zeros[mlm_idx] = 1\n",
    "        mlm_idxs.append(mlm_zeros)\n",
    "\n",
    "    mlm_r_seqs = torch.stack(mlm_r_seqs)\n",
    "    mlm_idxs = torch.BoolTensor(mlm_idxs)\n",
    "\n",
    "    return mlm_r_seqs, mlm_idxs\n",
    "    # |mlm_r_seqs| = (bs, n)\n",
    "    # |mask_seqs| = (bs, n)\n",
    "\n",
    "class MonaConvBert4ktPlusDiffTrainer():\n",
    "\n",
    "    def __init__(\n",
    "        self, \n",
    "        model, \n",
    "        optimizer, \n",
    "        n_epochs, \n",
    "        device, \n",
    "        num_q, \n",
    "        crit, \n",
    "        max_seq_len, \n",
    "        grad_acc=False, \n",
    "        grad_acc_iter=4\n",
    "        ):\n",
    "        self.model = model.to(device)\n",
    "        self.optimizer = optimizer\n",
    "        self.n_epochs = n_epochs\n",
    "        self.device = device\n",
    "        self.num_q = num_q\n",
    "        self.crit = crit\n",
    "        self.max_seq_len = max_seq_len\n",
    "        self.grad_acc = grad_acc #gradient accumulation\n",
    "        self.grad_acc_iter = grad_acc_iter\n",
    "    \n",
    "    def _train(self, train_loader):\n",
    "\n",
    "        auc_score = 0\n",
    "        y_trues, y_scores = [], []\n",
    "        loss_list = []\n",
    "\n",
    "        for idx, data in enumerate(tqdm(train_loader)):\n",
    "            self.model.train()\n",
    "            q_seqs, r_seqs, pid_seqs, diff_seqs, mask_seqs = data\n",
    "\n",
    "            q_seqs = q_seqs.to(self.device) # |q_seqs| = (bs, n)\n",
    "            r_seqs = r_seqs.to(self.device) # |r_seqs| = (bs, n)\n",
    "            pid_seqs = pid_seqs.to(self.device) # |pid_seqs| = (bs, n)\n",
    "            diff_seqs = diff_seqs.to(self.device)\n",
    "            mask_seqs = mask_seqs.to(self.device) # |mask_seqs| = (bs, n)\n",
    "\n",
    "            # for correct\n",
    "            real_seqs = r_seqs.clone()\n",
    "\n",
    "            # mlm_r_seqs: for MLM, [MASK] position get 2 / mlm_idx are index of [MASK]\n",
    "            mlm_r_seqs, mlm_idxs = Mlm4BertTrain(r_seqs, mask_seqs)\n",
    "            # |mlm_r_seqs| = (bs, n)\n",
    "            # |mlm_idxs| = (bs, n)\n",
    "            mlm_r_seqs = mlm_r_seqs.to(self.device)\n",
    "            mlm_idxs = mlm_idxs.to(self.device)\n",
    "\n",
    "            y_hat, attn_outputs, attn_probs, emb, emb_q, emb_pid, emb_diff = self.model(\n",
    "                q_seqs.long(), \n",
    "                mlm_r_seqs.long(), # r_seqs with MLM\n",
    "                pid_seqs.long(),\n",
    "                diff_seqs.long(),\n",
    "                mask_seqs.long() # for attn_mask\n",
    "            )\n",
    "            # |y_hat| = (bs, n, output_size=1)\n",
    "\n",
    "            y_hat = y_hat.squeeze()\n",
    "             # |y_hat| = (bs, n)\n",
    "\n",
    "            # predictions\n",
    "            y_hat = torch.masked_select(y_hat, mlm_idxs)\n",
    "            #|y_hat| = (bs * n - n_mlm_idxs)\n",
    "            # real values\n",
    "            correct = torch.masked_select(real_seqs, mlm_idxs)\n",
    "            #|correct| = (bs * n - n_mlm_idxs)\n",
    "\n",
    "            loss = self.crit(y_hat, correct)\n",
    "            # |loss| = (1)\n",
    "\n",
    "            # grad_accumulation = True\n",
    "            if self.grad_acc == True:\n",
    "                loss.backward()\n",
    "                if (idx + 1) % self.grad_acc_iter == 0:\n",
    "                    self.optimizer.step()\n",
    "                    self.optimizer.zero_grad()\n",
    "            # grad_accumulation = False\n",
    "            else:\n",
    "                self.optimizer.zero_grad()\n",
    "                loss.backward()\n",
    "                self.optimizer.step()\n",
    "\n",
    "            y_trues.append(correct)\n",
    "            y_scores.append(y_hat)\n",
    "            loss_list.append(loss)\n",
    "\n",
    "        y_trues = torch.cat(y_trues).detach().cpu().numpy()\n",
    "        y_scores = torch.cat(y_scores).detach().cpu().numpy()\n",
    "\n",
    "        auc_score += metrics.roc_auc_score( y_trues, y_scores )\n",
    "\n",
    "        loss_result = torch.mean(torch.Tensor(loss_list)).detach().cpu().numpy()\n",
    "\n",
    "        return auc_score\n",
    "\n",
    "    def _validate(self, valid_loader):\n",
    "\n",
    "        auc_score = 0\n",
    "        y_trues, y_scores = [], []\n",
    "        loss_list = []\n",
    "\n",
    "        with torch.no_grad():\n",
    "            for data in tqdm(valid_loader):\n",
    "                self.model.eval()\n",
    "                q_seqs, r_seqs, pid_seqs, diff_seqs, mask_seqs = data\n",
    "                \n",
    "                q_seqs = q_seqs.to(self.device)\n",
    "                r_seqs = r_seqs.to(self.device)\n",
    "                pid_seqs = pid_seqs.to(self.device)\n",
    "                diff_seqs = diff_seqs.to(self.device)\n",
    "                mask_seqs = mask_seqs.to(self.device)\n",
    "\n",
    "                real_seqs = r_seqs.clone()\n",
    "\n",
    "                mlm_r_seqs, mlm_idxs = Mlm4BertTest(r_seqs, mask_seqs)\n",
    "\n",
    "                mlm_r_seqs = mlm_r_seqs.to(self.device)\n",
    "                mlm_idxs = mlm_idxs.to(self.device)\n",
    "\n",
    "                y_hat, attn_outputs, attn_probs, emb, emb_q, emb_pid, emb_diff = self.model(\n",
    "                    q_seqs.long(),\n",
    "                    mlm_r_seqs.long(),\n",
    "                    pid_seqs.long(),\n",
    "                    diff_seqs.long(),\n",
    "                    mask_seqs.long()\n",
    "                )\n",
    "\n",
    "                y_hat = y_hat.squeeze()\n",
    "\n",
    "                y_hat = torch.masked_select(y_hat, mlm_idxs)\n",
    "                correct = torch.masked_select(real_seqs, mlm_idxs)\n",
    "\n",
    "                loss = self.crit(y_hat, correct)\n",
    "\n",
    "                y_trues.append(correct)\n",
    "                y_scores.append(y_hat)\n",
    "                loss_list.append(loss)\n",
    "\n",
    "        y_trues = torch.cat(y_trues).detach().cpu().numpy()\n",
    "        y_scores = torch.cat(y_scores).detach().cpu().numpy()\n",
    "\n",
    "        auc_score += metrics.roc_auc_score( y_trues, y_scores )\n",
    "\n",
    "        loss_result = torch.mean(torch.Tensor(loss_list)).detach().cpu().numpy()\n",
    "\n",
    "        return auc_score\n",
    "\n",
    "    def _test(self, test_loader):\n",
    "\n",
    "        auc_score = 0\n",
    "        y_trues, y_scores = [], []\n",
    "        loss_list = []\n",
    "\n",
    "        with torch.no_grad():\n",
    "            for data in tqdm(test_loader):\n",
    "                self.model.eval()\n",
    "                q_seqs, r_seqs, pid_seqs, diff_seqs, mask_seqs = data\n",
    "                \n",
    "                q_seqs = q_seqs.to(self.device)\n",
    "                r_seqs = r_seqs.to(self.device)\n",
    "                pid_seqs = pid_seqs.to(self.device)\n",
    "                diff_seqs = diff_seqs.to(self.device)\n",
    "                mask_seqs = mask_seqs.to(self.device)\n",
    "\n",
    "                real_seqs = r_seqs.clone()\n",
    "\n",
    "                mlm_r_seqs, mlm_idxs = Mlm4BertTest(r_seqs, mask_seqs)\n",
    "\n",
    "                mlm_r_seqs = mlm_r_seqs.to(self.device)\n",
    "                mlm_idxs = mlm_idxs.to(self.device)\n",
    "\n",
    "                y_hat, attn_outputs, attn_probs, emb, emb_q, emb_pid, emb_diff = self.model(\n",
    "                    q_seqs.long(),\n",
    "                    mlm_r_seqs.long(),\n",
    "                    pid_seqs.long(),\n",
    "                    diff_seqs.long(),\n",
    "                    mask_seqs.long()\n",
    "                )\n",
    "\n",
    "                y_hat = y_hat.squeeze()\n",
    "\n",
    "                y_hat = torch.masked_select(y_hat, mlm_idxs)\n",
    "                correct = torch.masked_select(real_seqs, mlm_idxs)\n",
    "\n",
    "                loss = self.crit(y_hat, correct)\n",
    "\n",
    "                y_trues.append(correct)\n",
    "                y_scores.append(y_hat)\n",
    "                loss_list.append(loss)\n",
    "\n",
    "        y_trues = torch.cat(y_trues).detach().cpu().numpy()\n",
    "        y_scores = torch.cat(y_scores).detach().cpu().numpy()\n",
    "\n",
    "        auc_score += metrics.roc_auc_score( y_trues, y_scores )\n",
    "\n",
    "        loss_result = torch.mean(torch.Tensor(loss_list)).detach().cpu().numpy()\n",
    "\n",
    "        return auc_score, attn_outputs, attn_probs, emb, emb_q, emb_pid, emb_diff\n",
    "\n",
    "    # train use the _train, _validate, _test\n",
    "    def train(self, train_loader, valid_loader, test_loader):\n",
    "        \n",
    "        best_valid_score = 0\n",
    "        train_scores = []\n",
    "        valid_scores = []\n",
    "\n",
    "        # early_stopping\n",
    "        early_stopping = EarlyStopping(metric_name=\"AUC\",\n",
    "                                    best_score=best_valid_score)\n",
    "\n",
    "        # Train and Valid Session\n",
    "        for epoch_index in range(self.n_epochs):\n",
    "            \n",
    "            print(\"Epoch(%d/%d) start\" % (\n",
    "                epoch_index + 1,\n",
    "                self.n_epochs\n",
    "            ))\n",
    "\n",
    "            # Training Session\n",
    "            train_score = self._train(train_loader)\n",
    "            valid_score = self._validate(valid_loader)\n",
    "\n",
    "            # train, test record 저장\n",
    "            train_scores.append(train_score)\n",
    "            valid_scores.append(valid_score)\n",
    "\n",
    "            # early stop\n",
    "            train_scores_avg = np.average(train_scores)\n",
    "            valid_scores_avg = np.average(valid_scores)\n",
    "            early_stopping(valid_scores_avg, self.model)\n",
    "            if early_stopping.early_stop:\n",
    "                print(\"Early stopping\")\n",
    "                break\n",
    "\n",
    "            print(\"Epoch(%d/%d) result: train_score=%.4f  valid_score=%.4f\" % (\n",
    "                epoch_index + 1,\n",
    "                self.n_epochs,\n",
    "                train_score,\n",
    "                valid_score\n",
    "            ))\n",
    "\n",
    "\n",
    "        test_score, attn_outputs, attn_probs, emb, emb_q, emb_pid, emb_diff = self._test(test_loader)\n",
    "\n",
    "        return attn_outputs, attn_probs, emb, emb_q, emb_pid, emb_diff"
   ]
  },
  {
   "cell_type": "code",
   "execution_count": 7,
   "metadata": {},
   "outputs": [],
   "source": [
    "trainer = MonaConvBert4ktPlusDiffTrainer(\n",
    "    model=model,\n",
    "    optimizer=optimizer,\n",
    "    n_epochs=n_epochs,\n",
    "    device=device,\n",
    "    num_q=num_q,\n",
    "    crit=crit,\n",
    "    max_seq_len=max_seq_len,\n",
    "    grad_acc=grad_acc,\n",
    "    grad_acc_iter=grad_acc_iter\n",
    ")"
   ]
  },
  {
   "cell_type": "code",
   "execution_count": 8,
   "metadata": {},
   "outputs": [
    {
     "name": "stdout",
     "output_type": "stream",
     "text": [
      "Epoch(1/1000) start\n"
     ]
    },
    {
     "name": "stderr",
     "output_type": "stream",
     "text": [
      "  0%|          | 0/61 [00:00<?, ?it/s]/tmp/ipykernel_630777/1521629514.py:54: UserWarning: Creating a tensor from a list of numpy.ndarrays is extremely slow. Please consider converting the list to a single numpy.ndarray with numpy.array() before converting to a tensor. (Triggered internally at  ../torch/csrc/utils/tensor_new.cpp:203.)\n",
      "  mlm_idxs = torch.BoolTensor(mlm_idxs)\n",
      "100%|██████████| 61/61 [00:18<00:00,  3.21it/s]\n",
      "100%|██████████| 7/7 [00:00<00:00,  9.25it/s]\n",
      "/usr/local/lib/python3.8/dist-packages/torch/nn/modules/module.py:1383: UserWarning: positional arguments and argument \"destination\" are deprecated. nn.Module.state_dict will not accept them in the future. Refer to https://pytorch.org/docs/master/generated/torch.nn.Module.html#torch.nn.Module.state_dict for details.\n",
      "  warnings.warn(\n"
     ]
    },
    {
     "name": "stdout",
     "output_type": "stream",
     "text": [
      "Validation loss was updated (0.000000 --> 0.652728).  Saving model ...\n",
      "Epoch(1/1000) result: train_score=0.5196  valid_score=0.6527\n",
      "Epoch(2/1000) start\n"
     ]
    },
    {
     "name": "stderr",
     "output_type": "stream",
     "text": [
      "100%|██████████| 61/61 [00:18<00:00,  3.35it/s]\n",
      "100%|██████████| 7/7 [00:00<00:00,  9.15it/s]\n",
      "/usr/local/lib/python3.8/dist-packages/torch/nn/modules/module.py:1383: UserWarning: positional arguments and argument \"destination\" are deprecated. nn.Module.state_dict will not accept them in the future. Refer to https://pytorch.org/docs/master/generated/torch.nn.Module.html#torch.nn.Module.state_dict for details.\n",
      "  warnings.warn(\n"
     ]
    },
    {
     "name": "stdout",
     "output_type": "stream",
     "text": [
      "Validation loss was updated (0.652728 --> 0.661337).  Saving model ...\n",
      "Epoch(2/1000) result: train_score=0.5228  valid_score=0.6699\n",
      "Epoch(3/1000) start\n"
     ]
    },
    {
     "name": "stderr",
     "output_type": "stream",
     "text": [
      "100%|██████████| 61/61 [00:18<00:00,  3.34it/s]\n",
      "100%|██████████| 7/7 [00:00<00:00,  9.11it/s]\n",
      "/usr/local/lib/python3.8/dist-packages/torch/nn/modules/module.py:1383: UserWarning: positional arguments and argument \"destination\" are deprecated. nn.Module.state_dict will not accept them in the future. Refer to https://pytorch.org/docs/master/generated/torch.nn.Module.html#torch.nn.Module.state_dict for details.\n",
      "  warnings.warn(\n"
     ]
    },
    {
     "name": "stdout",
     "output_type": "stream",
     "text": [
      "Validation loss was updated (0.661337 --> 0.666495).  Saving model ...\n",
      "Epoch(3/1000) result: train_score=0.5418  valid_score=0.6768\n",
      "Epoch(4/1000) start\n"
     ]
    },
    {
     "name": "stderr",
     "output_type": "stream",
     "text": [
      "100%|██████████| 61/61 [00:18<00:00,  3.32it/s]\n",
      "100%|██████████| 7/7 [00:00<00:00,  9.13it/s]\n",
      "/usr/local/lib/python3.8/dist-packages/torch/nn/modules/module.py:1383: UserWarning: positional arguments and argument \"destination\" are deprecated. nn.Module.state_dict will not accept them in the future. Refer to https://pytorch.org/docs/master/generated/torch.nn.Module.html#torch.nn.Module.state_dict for details.\n",
      "  warnings.warn(\n"
     ]
    },
    {
     "name": "stdout",
     "output_type": "stream",
     "text": [
      "Validation loss was updated (0.666495 --> 0.679087).  Saving model ...\n",
      "Epoch(4/1000) result: train_score=0.6067  valid_score=0.7169\n",
      "Epoch(5/1000) start\n"
     ]
    },
    {
     "name": "stderr",
     "output_type": "stream",
     "text": [
      "100%|██████████| 61/61 [00:18<00:00,  3.31it/s]\n",
      "100%|██████████| 7/7 [00:00<00:00,  9.07it/s]\n",
      "/usr/local/lib/python3.8/dist-packages/torch/nn/modules/module.py:1383: UserWarning: positional arguments and argument \"destination\" are deprecated. nn.Module.state_dict will not accept them in the future. Refer to https://pytorch.org/docs/master/generated/torch.nn.Module.html#torch.nn.Module.state_dict for details.\n",
      "  warnings.warn(\n"
     ]
    },
    {
     "name": "stdout",
     "output_type": "stream",
     "text": [
      "Validation loss was updated (0.679087 --> 0.693909).  Saving model ...\n",
      "Epoch(5/1000) result: train_score=0.7386  valid_score=0.7532\n",
      "Epoch(6/1000) start\n"
     ]
    },
    {
     "name": "stderr",
     "output_type": "stream",
     "text": [
      "100%|██████████| 61/61 [00:18<00:00,  3.30it/s]\n",
      "100%|██████████| 7/7 [00:00<00:00,  9.07it/s]\n",
      "/usr/local/lib/python3.8/dist-packages/torch/nn/modules/module.py:1383: UserWarning: positional arguments and argument \"destination\" are deprecated. nn.Module.state_dict will not accept them in the future. Refer to https://pytorch.org/docs/master/generated/torch.nn.Module.html#torch.nn.Module.state_dict for details.\n",
      "  warnings.warn(\n"
     ]
    },
    {
     "name": "stdout",
     "output_type": "stream",
     "text": [
      "Validation loss was updated (0.693909 --> 0.708207).  Saving model ...\n",
      "Epoch(6/1000) result: train_score=0.7682  valid_score=0.7797\n",
      "Epoch(7/1000) start\n"
     ]
    },
    {
     "name": "stderr",
     "output_type": "stream",
     "text": [
      "100%|██████████| 61/61 [00:18<00:00,  3.28it/s]\n",
      "100%|██████████| 7/7 [00:00<00:00,  8.98it/s]\n",
      "/usr/local/lib/python3.8/dist-packages/torch/nn/modules/module.py:1383: UserWarning: positional arguments and argument \"destination\" are deprecated. nn.Module.state_dict will not accept them in the future. Refer to https://pytorch.org/docs/master/generated/torch.nn.Module.html#torch.nn.Module.state_dict for details.\n",
      "  warnings.warn(\n"
     ]
    },
    {
     "name": "stdout",
     "output_type": "stream",
     "text": [
      "Validation loss was updated (0.708207 --> 0.719908).  Saving model ...\n",
      "Epoch(7/1000) result: train_score=0.7664  valid_score=0.7901\n",
      "Epoch(8/1000) start\n"
     ]
    },
    {
     "name": "stderr",
     "output_type": "stream",
     "text": [
      "100%|██████████| 61/61 [00:18<00:00,  3.26it/s]\n",
      "100%|██████████| 7/7 [00:00<00:00,  8.94it/s]\n",
      "/usr/local/lib/python3.8/dist-packages/torch/nn/modules/module.py:1383: UserWarning: positional arguments and argument \"destination\" are deprecated. nn.Module.state_dict will not accept them in the future. Refer to https://pytorch.org/docs/master/generated/torch.nn.Module.html#torch.nn.Module.state_dict for details.\n",
      "  warnings.warn(\n"
     ]
    },
    {
     "name": "stdout",
     "output_type": "stream",
     "text": [
      "Validation loss was updated (0.719908 --> 0.729836).  Saving model ...\n",
      "Epoch(8/1000) result: train_score=0.7959  valid_score=0.7993\n",
      "Epoch(9/1000) start\n"
     ]
    },
    {
     "name": "stderr",
     "output_type": "stream",
     "text": [
      "100%|██████████| 61/61 [00:18<00:00,  3.25it/s]\n",
      "100%|██████████| 7/7 [00:00<00:00,  8.90it/s]\n",
      "/usr/local/lib/python3.8/dist-packages/torch/nn/modules/module.py:1383: UserWarning: positional arguments and argument \"destination\" are deprecated. nn.Module.state_dict will not accept them in the future. Refer to https://pytorch.org/docs/master/generated/torch.nn.Module.html#torch.nn.Module.state_dict for details.\n",
      "  warnings.warn(\n"
     ]
    },
    {
     "name": "stdout",
     "output_type": "stream",
     "text": [
      "Validation loss was updated (0.729836 --> 0.738290).  Saving model ...\n",
      "Epoch(9/1000) result: train_score=0.8089  valid_score=0.8059\n",
      "Epoch(10/1000) start\n"
     ]
    },
    {
     "name": "stderr",
     "output_type": "stream",
     "text": [
      "100%|██████████| 61/61 [00:18<00:00,  3.24it/s]\n",
      "100%|██████████| 7/7 [00:00<00:00,  8.90it/s]\n",
      "/usr/local/lib/python3.8/dist-packages/torch/nn/modules/module.py:1383: UserWarning: positional arguments and argument \"destination\" are deprecated. nn.Module.state_dict will not accept them in the future. Refer to https://pytorch.org/docs/master/generated/torch.nn.Module.html#torch.nn.Module.state_dict for details.\n",
      "  warnings.warn(\n"
     ]
    },
    {
     "name": "stdout",
     "output_type": "stream",
     "text": [
      "Validation loss was updated (0.738290 --> 0.746058).  Saving model ...\n",
      "Epoch(10/1000) result: train_score=0.8168  valid_score=0.8160\n",
      "Epoch(11/1000) start\n"
     ]
    },
    {
     "name": "stderr",
     "output_type": "stream",
     "text": [
      "100%|██████████| 61/61 [00:18<00:00,  3.24it/s]\n",
      "100%|██████████| 7/7 [00:00<00:00,  8.93it/s]\n",
      "/usr/local/lib/python3.8/dist-packages/torch/nn/modules/module.py:1383: UserWarning: positional arguments and argument \"destination\" are deprecated. nn.Module.state_dict will not accept them in the future. Refer to https://pytorch.org/docs/master/generated/torch.nn.Module.html#torch.nn.Module.state_dict for details.\n",
      "  warnings.warn(\n"
     ]
    },
    {
     "name": "stdout",
     "output_type": "stream",
     "text": [
      "Validation loss was updated (0.746058 --> 0.753312).  Saving model ...\n",
      "Epoch(11/1000) result: train_score=0.8263  valid_score=0.8258\n",
      "Epoch(12/1000) start\n"
     ]
    },
    {
     "name": "stderr",
     "output_type": "stream",
     "text": [
      "100%|██████████| 61/61 [00:18<00:00,  3.24it/s]\n",
      "100%|██████████| 7/7 [00:00<00:00,  8.91it/s]\n",
      "/usr/local/lib/python3.8/dist-packages/torch/nn/modules/module.py:1383: UserWarning: positional arguments and argument \"destination\" are deprecated. nn.Module.state_dict will not accept them in the future. Refer to https://pytorch.org/docs/master/generated/torch.nn.Module.html#torch.nn.Module.state_dict for details.\n",
      "  warnings.warn(\n"
     ]
    },
    {
     "name": "stdout",
     "output_type": "stream",
     "text": [
      "Validation loss was updated (0.753312 --> 0.759546).  Saving model ...\n",
      "Epoch(12/1000) result: train_score=0.8291  valid_score=0.8281\n",
      "Epoch(13/1000) start\n"
     ]
    },
    {
     "name": "stderr",
     "output_type": "stream",
     "text": [
      "100%|██████████| 61/61 [00:18<00:00,  3.23it/s]\n",
      "100%|██████████| 7/7 [00:00<00:00,  8.87it/s]\n",
      "/usr/local/lib/python3.8/dist-packages/torch/nn/modules/module.py:1383: UserWarning: positional arguments and argument \"destination\" are deprecated. nn.Module.state_dict will not accept them in the future. Refer to https://pytorch.org/docs/master/generated/torch.nn.Module.html#torch.nn.Module.state_dict for details.\n",
      "  warnings.warn(\n"
     ]
    },
    {
     "name": "stdout",
     "output_type": "stream",
     "text": [
      "Validation loss was updated (0.759546 --> 0.765118).  Saving model ...\n",
      "Epoch(13/1000) result: train_score=0.8314  valid_score=0.8320\n",
      "Epoch(14/1000) start\n"
     ]
    },
    {
     "name": "stderr",
     "output_type": "stream",
     "text": [
      "100%|██████████| 61/61 [00:18<00:00,  3.23it/s]\n",
      "100%|██████████| 7/7 [00:00<00:00,  8.87it/s]\n",
      "/usr/local/lib/python3.8/dist-packages/torch/nn/modules/module.py:1383: UserWarning: positional arguments and argument \"destination\" are deprecated. nn.Module.state_dict will not accept them in the future. Refer to https://pytorch.org/docs/master/generated/torch.nn.Module.html#torch.nn.Module.state_dict for details.\n",
      "  warnings.warn(\n"
     ]
    },
    {
     "name": "stdout",
     "output_type": "stream",
     "text": [
      "Validation loss was updated (0.765118 --> 0.770079).  Saving model ...\n",
      "Epoch(14/1000) result: train_score=0.8314  valid_score=0.8346\n",
      "Epoch(15/1000) start\n"
     ]
    },
    {
     "name": "stderr",
     "output_type": "stream",
     "text": [
      "100%|██████████| 61/61 [00:18<00:00,  3.23it/s]\n",
      "100%|██████████| 7/7 [00:00<00:00,  8.88it/s]\n",
      "/usr/local/lib/python3.8/dist-packages/torch/nn/modules/module.py:1383: UserWarning: positional arguments and argument \"destination\" are deprecated. nn.Module.state_dict will not accept them in the future. Refer to https://pytorch.org/docs/master/generated/torch.nn.Module.html#torch.nn.Module.state_dict for details.\n",
      "  warnings.warn(\n"
     ]
    },
    {
     "name": "stdout",
     "output_type": "stream",
     "text": [
      "Validation loss was updated (0.770079 --> 0.774283).  Saving model ...\n",
      "Epoch(15/1000) result: train_score=0.8369  valid_score=0.8331\n",
      "Epoch(16/1000) start\n"
     ]
    },
    {
     "name": "stderr",
     "output_type": "stream",
     "text": [
      "100%|██████████| 61/61 [00:18<00:00,  3.23it/s]\n",
      "100%|██████████| 7/7 [00:00<00:00,  8.88it/s]\n",
      "/usr/local/lib/python3.8/dist-packages/torch/nn/modules/module.py:1383: UserWarning: positional arguments and argument \"destination\" are deprecated. nn.Module.state_dict will not accept them in the future. Refer to https://pytorch.org/docs/master/generated/torch.nn.Module.html#torch.nn.Module.state_dict for details.\n",
      "  warnings.warn(\n"
     ]
    },
    {
     "name": "stdout",
     "output_type": "stream",
     "text": [
      "Validation loss was updated (0.774283 --> 0.777982).  Saving model ...\n",
      "Epoch(16/1000) result: train_score=0.8366  valid_score=0.8335\n",
      "Epoch(17/1000) start\n"
     ]
    },
    {
     "name": "stderr",
     "output_type": "stream",
     "text": [
      "100%|██████████| 61/61 [00:18<00:00,  3.23it/s]\n",
      "100%|██████████| 7/7 [00:00<00:00,  8.90it/s]\n",
      "/usr/local/lib/python3.8/dist-packages/torch/nn/modules/module.py:1383: UserWarning: positional arguments and argument \"destination\" are deprecated. nn.Module.state_dict will not accept them in the future. Refer to https://pytorch.org/docs/master/generated/torch.nn.Module.html#torch.nn.Module.state_dict for details.\n",
      "  warnings.warn(\n"
     ]
    },
    {
     "name": "stdout",
     "output_type": "stream",
     "text": [
      "Validation loss was updated (0.777982 --> 0.781361).  Saving model ...\n",
      "Epoch(17/1000) result: train_score=0.8398  valid_score=0.8354\n",
      "Epoch(18/1000) start\n"
     ]
    },
    {
     "name": "stderr",
     "output_type": "stream",
     "text": [
      "100%|██████████| 61/61 [00:18<00:00,  3.23it/s]\n",
      "100%|██████████| 7/7 [00:00<00:00,  8.85it/s]\n",
      "/usr/local/lib/python3.8/dist-packages/torch/nn/modules/module.py:1383: UserWarning: positional arguments and argument \"destination\" are deprecated. nn.Module.state_dict will not accept them in the future. Refer to https://pytorch.org/docs/master/generated/torch.nn.Module.html#torch.nn.Module.state_dict for details.\n",
      "  warnings.warn(\n"
     ]
    },
    {
     "name": "stdout",
     "output_type": "stream",
     "text": [
      "Validation loss was updated (0.781361 --> 0.784484).  Saving model ...\n",
      "Epoch(18/1000) result: train_score=0.8424  valid_score=0.8376\n",
      "Epoch(19/1000) start\n"
     ]
    },
    {
     "name": "stderr",
     "output_type": "stream",
     "text": [
      "100%|██████████| 61/61 [00:18<00:00,  3.22it/s]\n",
      "100%|██████████| 7/7 [00:00<00:00,  8.94it/s]\n",
      "/usr/local/lib/python3.8/dist-packages/torch/nn/modules/module.py:1383: UserWarning: positional arguments and argument \"destination\" are deprecated. nn.Module.state_dict will not accept them in the future. Refer to https://pytorch.org/docs/master/generated/torch.nn.Module.html#torch.nn.Module.state_dict for details.\n",
      "  warnings.warn(\n"
     ]
    },
    {
     "name": "stdout",
     "output_type": "stream",
     "text": [
      "Validation loss was updated (0.784484 --> 0.787320).  Saving model ...\n",
      "Epoch(19/1000) result: train_score=0.8416  valid_score=0.8384\n",
      "Epoch(20/1000) start\n"
     ]
    },
    {
     "name": "stderr",
     "output_type": "stream",
     "text": [
      "100%|██████████| 61/61 [00:18<00:00,  3.22it/s]\n",
      "100%|██████████| 7/7 [00:00<00:00,  8.88it/s]\n",
      "/usr/local/lib/python3.8/dist-packages/torch/nn/modules/module.py:1383: UserWarning: positional arguments and argument \"destination\" are deprecated. nn.Module.state_dict will not accept them in the future. Refer to https://pytorch.org/docs/master/generated/torch.nn.Module.html#torch.nn.Module.state_dict for details.\n",
      "  warnings.warn(\n"
     ]
    },
    {
     "name": "stdout",
     "output_type": "stream",
     "text": [
      "Validation loss was updated (0.787320 --> 0.789966).  Saving model ...\n",
      "Epoch(20/1000) result: train_score=0.8442  valid_score=0.8403\n",
      "Epoch(21/1000) start\n"
     ]
    },
    {
     "name": "stderr",
     "output_type": "stream",
     "text": [
      "100%|██████████| 61/61 [00:18<00:00,  3.22it/s]\n",
      "100%|██████████| 7/7 [00:00<00:00,  8.87it/s]\n",
      "/usr/local/lib/python3.8/dist-packages/torch/nn/modules/module.py:1383: UserWarning: positional arguments and argument \"destination\" are deprecated. nn.Module.state_dict will not accept them in the future. Refer to https://pytorch.org/docs/master/generated/torch.nn.Module.html#torch.nn.Module.state_dict for details.\n",
      "  warnings.warn(\n"
     ]
    },
    {
     "name": "stdout",
     "output_type": "stream",
     "text": [
      "Validation loss was updated (0.789966 --> 0.792210).  Saving model ...\n",
      "Epoch(21/1000) result: train_score=0.8477  valid_score=0.8371\n",
      "Epoch(22/1000) start\n"
     ]
    },
    {
     "name": "stderr",
     "output_type": "stream",
     "text": [
      "100%|██████████| 61/61 [00:18<00:00,  3.22it/s]\n",
      "100%|██████████| 7/7 [00:00<00:00,  8.86it/s]\n",
      "/usr/local/lib/python3.8/dist-packages/torch/nn/modules/module.py:1383: UserWarning: positional arguments and argument \"destination\" are deprecated. nn.Module.state_dict will not accept them in the future. Refer to https://pytorch.org/docs/master/generated/torch.nn.Module.html#torch.nn.Module.state_dict for details.\n",
      "  warnings.warn(\n"
     ]
    },
    {
     "name": "stdout",
     "output_type": "stream",
     "text": [
      "Validation loss was updated (0.792210 --> 0.794346).  Saving model ...\n",
      "Epoch(22/1000) result: train_score=0.8476  valid_score=0.8392\n",
      "Epoch(23/1000) start\n"
     ]
    },
    {
     "name": "stderr",
     "output_type": "stream",
     "text": [
      "100%|██████████| 61/61 [00:18<00:00,  3.22it/s]\n",
      "100%|██████████| 7/7 [00:00<00:00,  8.87it/s]\n",
      "/usr/local/lib/python3.8/dist-packages/torch/nn/modules/module.py:1383: UserWarning: positional arguments and argument \"destination\" are deprecated. nn.Module.state_dict will not accept them in the future. Refer to https://pytorch.org/docs/master/generated/torch.nn.Module.html#torch.nn.Module.state_dict for details.\n",
      "  warnings.warn(\n"
     ]
    },
    {
     "name": "stdout",
     "output_type": "stream",
     "text": [
      "Validation loss was updated (0.794346 --> 0.796416).  Saving model ...\n",
      "Epoch(23/1000) result: train_score=0.8513  valid_score=0.8420\n",
      "Epoch(24/1000) start\n"
     ]
    },
    {
     "name": "stderr",
     "output_type": "stream",
     "text": [
      "100%|██████████| 61/61 [00:18<00:00,  3.22it/s]\n",
      "100%|██████████| 7/7 [00:00<00:00,  8.90it/s]\n",
      "/usr/local/lib/python3.8/dist-packages/torch/nn/modules/module.py:1383: UserWarning: positional arguments and argument \"destination\" are deprecated. nn.Module.state_dict will not accept them in the future. Refer to https://pytorch.org/docs/master/generated/torch.nn.Module.html#torch.nn.Module.state_dict for details.\n",
      "  warnings.warn(\n"
     ]
    },
    {
     "name": "stdout",
     "output_type": "stream",
     "text": [
      "Validation loss was updated (0.796416 --> 0.798166).  Saving model ...\n",
      "Epoch(24/1000) result: train_score=0.8506  valid_score=0.8384\n",
      "Epoch(25/1000) start\n"
     ]
    },
    {
     "name": "stderr",
     "output_type": "stream",
     "text": [
      "100%|██████████| 61/61 [00:18<00:00,  3.22it/s]\n",
      "100%|██████████| 7/7 [00:00<00:00,  8.90it/s]\n",
      "/usr/local/lib/python3.8/dist-packages/torch/nn/modules/module.py:1383: UserWarning: positional arguments and argument \"destination\" are deprecated. nn.Module.state_dict will not accept them in the future. Refer to https://pytorch.org/docs/master/generated/torch.nn.Module.html#torch.nn.Module.state_dict for details.\n",
      "  warnings.warn(\n"
     ]
    },
    {
     "name": "stdout",
     "output_type": "stream",
     "text": [
      "Validation loss was updated (0.798166 --> 0.799641).  Saving model ...\n",
      "Epoch(25/1000) result: train_score=0.8558  valid_score=0.8350\n",
      "Epoch(26/1000) start\n"
     ]
    },
    {
     "name": "stderr",
     "output_type": "stream",
     "text": [
      "100%|██████████| 61/61 [00:18<00:00,  3.22it/s]\n",
      "100%|██████████| 7/7 [00:00<00:00,  8.88it/s]\n",
      "/usr/local/lib/python3.8/dist-packages/torch/nn/modules/module.py:1383: UserWarning: positional arguments and argument \"destination\" are deprecated. nn.Module.state_dict will not accept them in the future. Refer to https://pytorch.org/docs/master/generated/torch.nn.Module.html#torch.nn.Module.state_dict for details.\n",
      "  warnings.warn(\n"
     ]
    },
    {
     "name": "stdout",
     "output_type": "stream",
     "text": [
      "Validation loss was updated (0.799641 --> 0.801091).  Saving model ...\n",
      "Epoch(26/1000) result: train_score=0.8564  valid_score=0.8373\n",
      "Epoch(27/1000) start\n"
     ]
    },
    {
     "name": "stderr",
     "output_type": "stream",
     "text": [
      "100%|██████████| 61/61 [00:18<00:00,  3.22it/s]\n",
      "100%|██████████| 7/7 [00:00<00:00,  8.85it/s]\n",
      "/usr/local/lib/python3.8/dist-packages/torch/nn/modules/module.py:1383: UserWarning: positional arguments and argument \"destination\" are deprecated. nn.Module.state_dict will not accept them in the future. Refer to https://pytorch.org/docs/master/generated/torch.nn.Module.html#torch.nn.Module.state_dict for details.\n",
      "  warnings.warn(\n"
     ]
    },
    {
     "name": "stdout",
     "output_type": "stream",
     "text": [
      "Validation loss was updated (0.801091 --> 0.802459).  Saving model ...\n",
      "Epoch(27/1000) result: train_score=0.8615  valid_score=0.8380\n",
      "Epoch(28/1000) start\n"
     ]
    },
    {
     "name": "stderr",
     "output_type": "stream",
     "text": [
      "100%|██████████| 61/61 [00:18<00:00,  3.22it/s]\n",
      "100%|██████████| 7/7 [00:00<00:00,  8.88it/s]\n",
      "/usr/local/lib/python3.8/dist-packages/torch/nn/modules/module.py:1383: UserWarning: positional arguments and argument \"destination\" are deprecated. nn.Module.state_dict will not accept them in the future. Refer to https://pytorch.org/docs/master/generated/torch.nn.Module.html#torch.nn.Module.state_dict for details.\n",
      "  warnings.warn(\n"
     ]
    },
    {
     "name": "stdout",
     "output_type": "stream",
     "text": [
      "Validation loss was updated (0.802459 --> 0.803647).  Saving model ...\n",
      "Epoch(28/1000) result: train_score=0.8655  valid_score=0.8357\n",
      "Epoch(29/1000) start\n"
     ]
    },
    {
     "name": "stderr",
     "output_type": "stream",
     "text": [
      "100%|██████████| 61/61 [00:18<00:00,  3.22it/s]\n",
      "100%|██████████| 7/7 [00:00<00:00,  8.85it/s]\n",
      "/usr/local/lib/python3.8/dist-packages/torch/nn/modules/module.py:1383: UserWarning: positional arguments and argument \"destination\" are deprecated. nn.Module.state_dict will not accept them in the future. Refer to https://pytorch.org/docs/master/generated/torch.nn.Module.html#torch.nn.Module.state_dict for details.\n",
      "  warnings.warn(\n"
     ]
    },
    {
     "name": "stdout",
     "output_type": "stream",
     "text": [
      "Validation loss was updated (0.803647 --> 0.804761).  Saving model ...\n",
      "Epoch(29/1000) result: train_score=0.8664  valid_score=0.8360\n",
      "Epoch(30/1000) start\n"
     ]
    },
    {
     "name": "stderr",
     "output_type": "stream",
     "text": [
      "100%|██████████| 61/61 [00:18<00:00,  3.22it/s]\n",
      "100%|██████████| 7/7 [00:00<00:00,  8.87it/s]\n",
      "/usr/local/lib/python3.8/dist-packages/torch/nn/modules/module.py:1383: UserWarning: positional arguments and argument \"destination\" are deprecated. nn.Module.state_dict will not accept them in the future. Refer to https://pytorch.org/docs/master/generated/torch.nn.Module.html#torch.nn.Module.state_dict for details.\n",
      "  warnings.warn(\n"
     ]
    },
    {
     "name": "stdout",
     "output_type": "stream",
     "text": [
      "Validation loss was updated (0.804761 --> 0.805746).  Saving model ...\n",
      "Epoch(30/1000) result: train_score=0.8693  valid_score=0.8343\n",
      "Epoch(31/1000) start\n"
     ]
    },
    {
     "name": "stderr",
     "output_type": "stream",
     "text": [
      "100%|██████████| 61/61 [00:18<00:00,  3.22it/s]\n",
      "100%|██████████| 7/7 [00:00<00:00,  8.88it/s]\n",
      "/usr/local/lib/python3.8/dist-packages/torch/nn/modules/module.py:1383: UserWarning: positional arguments and argument \"destination\" are deprecated. nn.Module.state_dict will not accept them in the future. Refer to https://pytorch.org/docs/master/generated/torch.nn.Module.html#torch.nn.Module.state_dict for details.\n",
      "  warnings.warn(\n"
     ]
    },
    {
     "name": "stdout",
     "output_type": "stream",
     "text": [
      "Validation loss was updated (0.805746 --> 0.806444).  Saving model ...\n",
      "Epoch(31/1000) result: train_score=0.8700  valid_score=0.8274\n",
      "Epoch(32/1000) start\n"
     ]
    },
    {
     "name": "stderr",
     "output_type": "stream",
     "text": [
      "100%|██████████| 61/61 [00:18<00:00,  3.22it/s]\n",
      "100%|██████████| 7/7 [00:00<00:00,  8.86it/s]\n",
      "/usr/local/lib/python3.8/dist-packages/torch/nn/modules/module.py:1383: UserWarning: positional arguments and argument \"destination\" are deprecated. nn.Module.state_dict will not accept them in the future. Refer to https://pytorch.org/docs/master/generated/torch.nn.Module.html#torch.nn.Module.state_dict for details.\n",
      "  warnings.warn(\n"
     ]
    },
    {
     "name": "stdout",
     "output_type": "stream",
     "text": [
      "Validation loss was updated (0.806444 --> 0.807091).  Saving model ...\n",
      "Epoch(32/1000) result: train_score=0.8736  valid_score=0.8271\n",
      "Epoch(33/1000) start\n"
     ]
    },
    {
     "name": "stderr",
     "output_type": "stream",
     "text": [
      "100%|██████████| 61/61 [00:18<00:00,  3.22it/s]\n",
      "100%|██████████| 7/7 [00:00<00:00,  8.87it/s]\n",
      "/usr/local/lib/python3.8/dist-packages/torch/nn/modules/module.py:1383: UserWarning: positional arguments and argument \"destination\" are deprecated. nn.Module.state_dict will not accept them in the future. Refer to https://pytorch.org/docs/master/generated/torch.nn.Module.html#torch.nn.Module.state_dict for details.\n",
      "  warnings.warn(\n"
     ]
    },
    {
     "name": "stdout",
     "output_type": "stream",
     "text": [
      "Validation loss was updated (0.807091 --> 0.807528).  Saving model ...\n",
      "Epoch(33/1000) result: train_score=0.8776  valid_score=0.8215\n",
      "Epoch(34/1000) start\n"
     ]
    },
    {
     "name": "stderr",
     "output_type": "stream",
     "text": [
      "100%|██████████| 61/61 [00:18<00:00,  3.22it/s]\n",
      "100%|██████████| 7/7 [00:00<00:00,  8.87it/s]\n",
      "/usr/local/lib/python3.8/dist-packages/torch/nn/modules/module.py:1383: UserWarning: positional arguments and argument \"destination\" are deprecated. nn.Module.state_dict will not accept them in the future. Refer to https://pytorch.org/docs/master/generated/torch.nn.Module.html#torch.nn.Module.state_dict for details.\n",
      "  warnings.warn(\n"
     ]
    },
    {
     "name": "stdout",
     "output_type": "stream",
     "text": [
      "Validation loss was updated (0.807528 --> 0.807700).  Saving model ...\n",
      "Epoch(34/1000) result: train_score=0.8864  valid_score=0.8134\n",
      "Epoch(35/1000) start\n"
     ]
    },
    {
     "name": "stderr",
     "output_type": "stream",
     "text": [
      "100%|██████████| 61/61 [00:18<00:00,  3.22it/s]\n",
      "100%|██████████| 7/7 [00:00<00:00,  8.86it/s]\n",
      "/usr/local/lib/python3.8/dist-packages/torch/nn/modules/module.py:1383: UserWarning: positional arguments and argument \"destination\" are deprecated. nn.Module.state_dict will not accept them in the future. Refer to https://pytorch.org/docs/master/generated/torch.nn.Module.html#torch.nn.Module.state_dict for details.\n",
      "  warnings.warn(\n"
     ]
    },
    {
     "name": "stdout",
     "output_type": "stream",
     "text": [
      "Validation loss was updated (0.807700 --> 0.808178).  Saving model ...\n",
      "Epoch(35/1000) result: train_score=0.8867  valid_score=0.8244\n",
      "Epoch(36/1000) start\n"
     ]
    },
    {
     "name": "stderr",
     "output_type": "stream",
     "text": [
      "100%|██████████| 61/61 [00:18<00:00,  3.22it/s]\n",
      "100%|██████████| 7/7 [00:00<00:00,  8.86it/s]\n",
      "/usr/local/lib/python3.8/dist-packages/torch/nn/modules/module.py:1383: UserWarning: positional arguments and argument \"destination\" are deprecated. nn.Module.state_dict will not accept them in the future. Refer to https://pytorch.org/docs/master/generated/torch.nn.Module.html#torch.nn.Module.state_dict for details.\n",
      "  warnings.warn(\n"
     ]
    },
    {
     "name": "stdout",
     "output_type": "stream",
     "text": [
      "Validation loss was updated (0.808178 --> 0.808689).  Saving model ...\n",
      "Epoch(36/1000) result: train_score=0.8854  valid_score=0.8266\n",
      "Epoch(37/1000) start\n"
     ]
    },
    {
     "name": "stderr",
     "output_type": "stream",
     "text": [
      "100%|██████████| 61/61 [00:18<00:00,  3.23it/s]\n",
      "100%|██████████| 7/7 [00:00<00:00,  8.88it/s]\n",
      "/usr/local/lib/python3.8/dist-packages/torch/nn/modules/module.py:1383: UserWarning: positional arguments and argument \"destination\" are deprecated. nn.Module.state_dict will not accept them in the future. Refer to https://pytorch.org/docs/master/generated/torch.nn.Module.html#torch.nn.Module.state_dict for details.\n",
      "  warnings.warn(\n"
     ]
    },
    {
     "name": "stdout",
     "output_type": "stream",
     "text": [
      "Validation loss was updated (0.808689 --> 0.808858).  Saving model ...\n",
      "Epoch(37/1000) result: train_score=0.8875  valid_score=0.8149\n",
      "Epoch(38/1000) start\n"
     ]
    },
    {
     "name": "stderr",
     "output_type": "stream",
     "text": [
      "100%|██████████| 61/61 [00:18<00:00,  3.22it/s]\n",
      "100%|██████████| 7/7 [00:00<00:00,  8.88it/s]\n",
      "/usr/local/lib/python3.8/dist-packages/torch/nn/modules/module.py:1383: UserWarning: positional arguments and argument \"destination\" are deprecated. nn.Module.state_dict will not accept them in the future. Refer to https://pytorch.org/docs/master/generated/torch.nn.Module.html#torch.nn.Module.state_dict for details.\n",
      "  warnings.warn(\n"
     ]
    },
    {
     "name": "stdout",
     "output_type": "stream",
     "text": [
      "Validation loss was updated (0.808858 --> 0.808923).  Saving model ...\n",
      "Epoch(38/1000) result: train_score=0.8923  valid_score=0.8113\n",
      "Epoch(39/1000) start\n"
     ]
    },
    {
     "name": "stderr",
     "output_type": "stream",
     "text": [
      "100%|██████████| 61/61 [00:18<00:00,  3.22it/s]\n",
      "100%|██████████| 7/7 [00:00<00:00,  8.89it/s]\n"
     ]
    },
    {
     "name": "stdout",
     "output_type": "stream",
     "text": [
      "EarlyStopping counter: 1 out of 10\n",
      "Epoch(39/1000) result: train_score=0.8942  valid_score=0.8069\n",
      "Epoch(40/1000) start\n"
     ]
    },
    {
     "name": "stderr",
     "output_type": "stream",
     "text": [
      "100%|██████████| 61/61 [00:18<00:00,  3.21it/s]\n",
      "100%|██████████| 7/7 [00:00<00:00,  8.86it/s]\n"
     ]
    },
    {
     "name": "stdout",
     "output_type": "stream",
     "text": [
      "EarlyStopping counter: 2 out of 10\n",
      "Epoch(40/1000) result: train_score=0.8942  valid_score=0.8103\n",
      "Epoch(41/1000) start\n"
     ]
    },
    {
     "name": "stderr",
     "output_type": "stream",
     "text": [
      "100%|██████████| 61/61 [00:18<00:00,  3.22it/s]\n",
      "100%|██████████| 7/7 [00:00<00:00,  8.87it/s]\n",
      "/usr/local/lib/python3.8/dist-packages/torch/nn/modules/module.py:1383: UserWarning: positional arguments and argument \"destination\" are deprecated. nn.Module.state_dict will not accept them in the future. Refer to https://pytorch.org/docs/master/generated/torch.nn.Module.html#torch.nn.Module.state_dict for details.\n",
      "  warnings.warn(\n"
     ]
    },
    {
     "name": "stdout",
     "output_type": "stream",
     "text": [
      "Validation loss was updated (0.808923 --> 0.809136).  Saving model ...\n",
      "Epoch(41/1000) result: train_score=0.8991  valid_score=0.8183\n",
      "Epoch(42/1000) start\n"
     ]
    },
    {
     "name": "stderr",
     "output_type": "stream",
     "text": [
      "100%|██████████| 61/61 [00:18<00:00,  3.22it/s]\n",
      "100%|██████████| 7/7 [00:00<00:00,  8.90it/s]\n",
      "/usr/local/lib/python3.8/dist-packages/torch/nn/modules/module.py:1383: UserWarning: positional arguments and argument \"destination\" are deprecated. nn.Module.state_dict will not accept them in the future. Refer to https://pytorch.org/docs/master/generated/torch.nn.Module.html#torch.nn.Module.state_dict for details.\n",
      "  warnings.warn(\n"
     ]
    },
    {
     "name": "stdout",
     "output_type": "stream",
     "text": [
      "Validation loss was updated (0.809136 --> 0.809374).  Saving model ...\n",
      "Epoch(42/1000) result: train_score=0.9046  valid_score=0.8191\n",
      "Epoch(43/1000) start\n"
     ]
    },
    {
     "name": "stderr",
     "output_type": "stream",
     "text": [
      "100%|██████████| 61/61 [00:18<00:00,  3.22it/s]\n",
      "100%|██████████| 7/7 [00:00<00:00,  8.91it/s]\n",
      "/usr/local/lib/python3.8/dist-packages/torch/nn/modules/module.py:1383: UserWarning: positional arguments and argument \"destination\" are deprecated. nn.Module.state_dict will not accept them in the future. Refer to https://pytorch.org/docs/master/generated/torch.nn.Module.html#torch.nn.Module.state_dict for details.\n",
      "  warnings.warn(\n"
     ]
    },
    {
     "name": "stdout",
     "output_type": "stream",
     "text": [
      "Validation loss was updated (0.809374 --> 0.809835).  Saving model ...\n",
      "Epoch(43/1000) result: train_score=0.9075  valid_score=0.8292\n",
      "Epoch(44/1000) start\n"
     ]
    },
    {
     "name": "stderr",
     "output_type": "stream",
     "text": [
      "100%|██████████| 61/61 [00:18<00:00,  3.23it/s]\n",
      "100%|██████████| 7/7 [00:00<00:00,  8.89it/s]\n",
      "/usr/local/lib/python3.8/dist-packages/torch/nn/modules/module.py:1383: UserWarning: positional arguments and argument \"destination\" are deprecated. nn.Module.state_dict will not accept them in the future. Refer to https://pytorch.org/docs/master/generated/torch.nn.Module.html#torch.nn.Module.state_dict for details.\n",
      "  warnings.warn(\n"
     ]
    },
    {
     "name": "stdout",
     "output_type": "stream",
     "text": [
      "Validation loss was updated (0.809835 --> 0.810285).  Saving model ...\n",
      "Epoch(44/1000) result: train_score=0.9075  valid_score=0.8296\n",
      "Epoch(45/1000) start\n"
     ]
    },
    {
     "name": "stderr",
     "output_type": "stream",
     "text": [
      "100%|██████████| 61/61 [00:18<00:00,  3.23it/s]\n",
      "100%|██████████| 7/7 [00:00<00:00,  8.89it/s]\n",
      "/usr/local/lib/python3.8/dist-packages/torch/nn/modules/module.py:1383: UserWarning: positional arguments and argument \"destination\" are deprecated. nn.Module.state_dict will not accept them in the future. Refer to https://pytorch.org/docs/master/generated/torch.nn.Module.html#torch.nn.Module.state_dict for details.\n",
      "  warnings.warn(\n"
     ]
    },
    {
     "name": "stdout",
     "output_type": "stream",
     "text": [
      "Validation loss was updated (0.810285 --> 0.810797).  Saving model ...\n",
      "Epoch(45/1000) result: train_score=0.9090  valid_score=0.8333\n",
      "Epoch(46/1000) start\n"
     ]
    },
    {
     "name": "stderr",
     "output_type": "stream",
     "text": [
      "100%|██████████| 61/61 [00:18<00:00,  3.23it/s]\n",
      "100%|██████████| 7/7 [00:00<00:00,  8.86it/s]\n",
      "/usr/local/lib/python3.8/dist-packages/torch/nn/modules/module.py:1383: UserWarning: positional arguments and argument \"destination\" are deprecated. nn.Module.state_dict will not accept them in the future. Refer to https://pytorch.org/docs/master/generated/torch.nn.Module.html#torch.nn.Module.state_dict for details.\n",
      "  warnings.warn(\n"
     ]
    },
    {
     "name": "stdout",
     "output_type": "stream",
     "text": [
      "Validation loss was updated (0.810797 --> 0.811287).  Saving model ...\n",
      "Epoch(46/1000) result: train_score=0.9114  valid_score=0.8333\n",
      "Epoch(47/1000) start\n"
     ]
    },
    {
     "name": "stderr",
     "output_type": "stream",
     "text": [
      "100%|██████████| 61/61 [00:18<00:00,  3.23it/s]\n",
      "100%|██████████| 7/7 [00:00<00:00,  8.91it/s]\n",
      "/usr/local/lib/python3.8/dist-packages/torch/nn/modules/module.py:1383: UserWarning: positional arguments and argument \"destination\" are deprecated. nn.Module.state_dict will not accept them in the future. Refer to https://pytorch.org/docs/master/generated/torch.nn.Module.html#torch.nn.Module.state_dict for details.\n",
      "  warnings.warn(\n"
     ]
    },
    {
     "name": "stdout",
     "output_type": "stream",
     "text": [
      "Validation loss was updated (0.811287 --> 0.811605).  Saving model ...\n",
      "Epoch(47/1000) result: train_score=0.9144  valid_score=0.8263\n",
      "Epoch(48/1000) start\n"
     ]
    },
    {
     "name": "stderr",
     "output_type": "stream",
     "text": [
      "100%|██████████| 61/61 [00:18<00:00,  3.23it/s]\n",
      "100%|██████████| 7/7 [00:00<00:00,  8.84it/s]\n"
     ]
    },
    {
     "name": "stdout",
     "output_type": "stream",
     "text": [
      "EarlyStopping counter: 1 out of 10\n",
      "Epoch(48/1000) result: train_score=0.9186  valid_score=0.8090\n",
      "Epoch(49/1000) start\n"
     ]
    },
    {
     "name": "stderr",
     "output_type": "stream",
     "text": [
      "100%|██████████| 61/61 [00:18<00:00,  3.22it/s]\n",
      "100%|██████████| 7/7 [00:00<00:00,  8.88it/s]\n"
     ]
    },
    {
     "name": "stdout",
     "output_type": "stream",
     "text": [
      "EarlyStopping counter: 2 out of 10\n",
      "Epoch(49/1000) result: train_score=0.9200  valid_score=0.8067\n",
      "Epoch(50/1000) start\n"
     ]
    },
    {
     "name": "stderr",
     "output_type": "stream",
     "text": [
      "100%|██████████| 61/61 [00:18<00:00,  3.22it/s]\n",
      "100%|██████████| 7/7 [00:00<00:00,  8.89it/s]\n"
     ]
    },
    {
     "name": "stdout",
     "output_type": "stream",
     "text": [
      "EarlyStopping counter: 3 out of 10\n",
      "Epoch(50/1000) result: train_score=0.9217  valid_score=0.8123\n",
      "Epoch(51/1000) start\n"
     ]
    },
    {
     "name": "stderr",
     "output_type": "stream",
     "text": [
      "100%|██████████| 61/61 [00:18<00:00,  3.22it/s]\n",
      "100%|██████████| 7/7 [00:00<00:00,  8.90it/s]\n"
     ]
    },
    {
     "name": "stdout",
     "output_type": "stream",
     "text": [
      "EarlyStopping counter: 4 out of 10\n",
      "Epoch(51/1000) result: train_score=0.9246  valid_score=0.8135\n",
      "Epoch(52/1000) start\n"
     ]
    },
    {
     "name": "stderr",
     "output_type": "stream",
     "text": [
      "100%|██████████| 61/61 [00:18<00:00,  3.21it/s]\n",
      "100%|██████████| 7/7 [00:00<00:00,  8.85it/s]\n",
      "/usr/local/lib/python3.8/dist-packages/torch/nn/modules/module.py:1383: UserWarning: positional arguments and argument \"destination\" are deprecated. nn.Module.state_dict will not accept them in the future. Refer to https://pytorch.org/docs/master/generated/torch.nn.Module.html#torch.nn.Module.state_dict for details.\n",
      "  warnings.warn(\n"
     ]
    },
    {
     "name": "stdout",
     "output_type": "stream",
     "text": [
      "Validation loss was updated (0.811605 --> 0.811637).  Saving model ...\n",
      "Epoch(52/1000) result: train_score=0.9284  valid_score=0.8182\n",
      "Epoch(53/1000) start\n"
     ]
    },
    {
     "name": "stderr",
     "output_type": "stream",
     "text": [
      "100%|██████████| 61/61 [00:18<00:00,  3.22it/s]\n",
      "100%|██████████| 7/7 [00:00<00:00,  8.91it/s]\n",
      "/usr/local/lib/python3.8/dist-packages/torch/nn/modules/module.py:1383: UserWarning: positional arguments and argument \"destination\" are deprecated. nn.Module.state_dict will not accept them in the future. Refer to https://pytorch.org/docs/master/generated/torch.nn.Module.html#torch.nn.Module.state_dict for details.\n",
      "  warnings.warn(\n"
     ]
    },
    {
     "name": "stdout",
     "output_type": "stream",
     "text": [
      "Validation loss was updated (0.811637 --> 0.811719).  Saving model ...\n",
      "Epoch(53/1000) result: train_score=0.9293  valid_score=0.8160\n",
      "Epoch(54/1000) start\n"
     ]
    },
    {
     "name": "stderr",
     "output_type": "stream",
     "text": [
      "100%|██████████| 61/61 [00:18<00:00,  3.23it/s]\n",
      "100%|██████████| 7/7 [00:00<00:00,  8.90it/s]\n",
      "/usr/local/lib/python3.8/dist-packages/torch/nn/modules/module.py:1383: UserWarning: positional arguments and argument \"destination\" are deprecated. nn.Module.state_dict will not accept them in the future. Refer to https://pytorch.org/docs/master/generated/torch.nn.Module.html#torch.nn.Module.state_dict for details.\n",
      "  warnings.warn(\n"
     ]
    },
    {
     "name": "stdout",
     "output_type": "stream",
     "text": [
      "Validation loss was updated (0.811719 --> 0.811897).  Saving model ...\n",
      "Epoch(54/1000) result: train_score=0.9321  valid_score=0.8214\n",
      "Epoch(55/1000) start\n"
     ]
    },
    {
     "name": "stderr",
     "output_type": "stream",
     "text": [
      "100%|██████████| 61/61 [00:18<00:00,  3.23it/s]\n",
      "100%|██████████| 7/7 [00:00<00:00,  8.88it/s]\n"
     ]
    },
    {
     "name": "stdout",
     "output_type": "stream",
     "text": [
      "EarlyStopping counter: 1 out of 10\n",
      "Epoch(55/1000) result: train_score=0.9338  valid_score=0.8103\n",
      "Epoch(56/1000) start\n"
     ]
    },
    {
     "name": "stderr",
     "output_type": "stream",
     "text": [
      "100%|██████████| 61/61 [00:18<00:00,  3.22it/s]\n",
      "100%|██████████| 7/7 [00:00<00:00,  8.85it/s]\n",
      "/usr/local/lib/python3.8/dist-packages/torch/nn/modules/module.py:1383: UserWarning: positional arguments and argument \"destination\" are deprecated. nn.Module.state_dict will not accept them in the future. Refer to https://pytorch.org/docs/master/generated/torch.nn.Module.html#torch.nn.Module.state_dict for details.\n",
      "  warnings.warn(\n"
     ]
    },
    {
     "name": "stdout",
     "output_type": "stream",
     "text": [
      "Validation loss was updated (0.811897 --> 0.811898).  Saving model ...\n",
      "Epoch(56/1000) result: train_score=0.9355  valid_score=0.8136\n",
      "Epoch(57/1000) start\n"
     ]
    },
    {
     "name": "stderr",
     "output_type": "stream",
     "text": [
      "100%|██████████| 61/61 [00:18<00:00,  3.23it/s]\n",
      "100%|██████████| 7/7 [00:00<00:00,  8.91it/s]\n"
     ]
    },
    {
     "name": "stdout",
     "output_type": "stream",
     "text": [
      "EarlyStopping counter: 1 out of 10\n",
      "Epoch(57/1000) result: train_score=0.9369  valid_score=0.8098\n",
      "Epoch(58/1000) start\n"
     ]
    },
    {
     "name": "stderr",
     "output_type": "stream",
     "text": [
      "100%|██████████| 61/61 [00:18<00:00,  3.22it/s]\n",
      "100%|██████████| 7/7 [00:00<00:00,  8.84it/s]\n"
     ]
    },
    {
     "name": "stdout",
     "output_type": "stream",
     "text": [
      "EarlyStopping counter: 2 out of 10\n",
      "Epoch(58/1000) result: train_score=0.9355  valid_score=0.8113\n",
      "Epoch(59/1000) start\n"
     ]
    },
    {
     "name": "stderr",
     "output_type": "stream",
     "text": [
      "100%|██████████| 61/61 [00:18<00:00,  3.22it/s]\n",
      "100%|██████████| 7/7 [00:00<00:00,  8.88it/s]\n"
     ]
    },
    {
     "name": "stdout",
     "output_type": "stream",
     "text": [
      "EarlyStopping counter: 3 out of 10\n",
      "Epoch(59/1000) result: train_score=0.9396  valid_score=0.8081\n",
      "Epoch(60/1000) start\n"
     ]
    },
    {
     "name": "stderr",
     "output_type": "stream",
     "text": [
      "100%|██████████| 61/61 [00:18<00:00,  3.23it/s]\n",
      "100%|██████████| 7/7 [00:00<00:00,  8.88it/s]\n"
     ]
    },
    {
     "name": "stdout",
     "output_type": "stream",
     "text": [
      "EarlyStopping counter: 4 out of 10\n",
      "Epoch(60/1000) result: train_score=0.9407  valid_score=0.8127\n",
      "Epoch(61/1000) start\n"
     ]
    },
    {
     "name": "stderr",
     "output_type": "stream",
     "text": [
      "100%|██████████| 61/61 [00:18<00:00,  3.22it/s]\n",
      "100%|██████████| 7/7 [00:00<00:00,  8.86it/s]\n"
     ]
    },
    {
     "name": "stdout",
     "output_type": "stream",
     "text": [
      "EarlyStopping counter: 5 out of 10\n",
      "Epoch(61/1000) result: train_score=0.9440  valid_score=0.8170\n",
      "Epoch(62/1000) start\n"
     ]
    },
    {
     "name": "stderr",
     "output_type": "stream",
     "text": [
      "100%|██████████| 61/61 [00:18<00:00,  3.22it/s]\n",
      "100%|██████████| 7/7 [00:00<00:00,  8.87it/s]\n",
      "/usr/local/lib/python3.8/dist-packages/torch/nn/modules/module.py:1383: UserWarning: positional arguments and argument \"destination\" are deprecated. nn.Module.state_dict will not accept them in the future. Refer to https://pytorch.org/docs/master/generated/torch.nn.Module.html#torch.nn.Module.state_dict for details.\n",
      "  warnings.warn(\n"
     ]
    },
    {
     "name": "stdout",
     "output_type": "stream",
     "text": [
      "Validation loss was updated (0.811898 --> 0.812087).  Saving model ...\n",
      "Epoch(62/1000) result: train_score=0.9475  valid_score=0.8242\n",
      "Epoch(63/1000) start\n"
     ]
    },
    {
     "name": "stderr",
     "output_type": "stream",
     "text": [
      "100%|██████████| 61/61 [00:18<00:00,  3.23it/s]\n",
      "100%|██████████| 7/7 [00:00<00:00,  8.85it/s]\n",
      "/usr/local/lib/python3.8/dist-packages/torch/nn/modules/module.py:1383: UserWarning: positional arguments and argument \"destination\" are deprecated. nn.Module.state_dict will not accept them in the future. Refer to https://pytorch.org/docs/master/generated/torch.nn.Module.html#torch.nn.Module.state_dict for details.\n",
      "  warnings.warn(\n"
     ]
    },
    {
     "name": "stdout",
     "output_type": "stream",
     "text": [
      "Validation loss was updated (0.812087 --> 0.812335).  Saving model ...\n",
      "Epoch(63/1000) result: train_score=0.9489  valid_score=0.8278\n",
      "Epoch(64/1000) start\n"
     ]
    },
    {
     "name": "stderr",
     "output_type": "stream",
     "text": [
      "100%|██████████| 61/61 [00:18<00:00,  3.23it/s]\n",
      "100%|██████████| 7/7 [00:00<00:00,  8.89it/s]\n",
      "/usr/local/lib/python3.8/dist-packages/torch/nn/modules/module.py:1383: UserWarning: positional arguments and argument \"destination\" are deprecated. nn.Module.state_dict will not accept them in the future. Refer to https://pytorch.org/docs/master/generated/torch.nn.Module.html#torch.nn.Module.state_dict for details.\n",
      "  warnings.warn(\n"
     ]
    },
    {
     "name": "stdout",
     "output_type": "stream",
     "text": [
      "Validation loss was updated (0.812335 --> 0.812643).  Saving model ...\n",
      "Epoch(64/1000) result: train_score=0.9479  valid_score=0.8320\n",
      "Epoch(65/1000) start\n"
     ]
    },
    {
     "name": "stderr",
     "output_type": "stream",
     "text": [
      "100%|██████████| 61/61 [00:18<00:00,  3.22it/s]\n",
      "100%|██████████| 7/7 [00:00<00:00,  8.86it/s]\n",
      "/usr/local/lib/python3.8/dist-packages/torch/nn/modules/module.py:1383: UserWarning: positional arguments and argument \"destination\" are deprecated. nn.Module.state_dict will not accept them in the future. Refer to https://pytorch.org/docs/master/generated/torch.nn.Module.html#torch.nn.Module.state_dict for details.\n",
      "  warnings.warn(\n"
     ]
    },
    {
     "name": "stdout",
     "output_type": "stream",
     "text": [
      "Validation loss was updated (0.812643 --> 0.812794).  Saving model ...\n",
      "Epoch(65/1000) result: train_score=0.9507  valid_score=0.8225\n",
      "Epoch(66/1000) start\n"
     ]
    },
    {
     "name": "stderr",
     "output_type": "stream",
     "text": [
      "100%|██████████| 61/61 [00:18<00:00,  3.23it/s]\n",
      "100%|██████████| 7/7 [00:00<00:00,  8.85it/s]\n",
      "/usr/local/lib/python3.8/dist-packages/torch/nn/modules/module.py:1383: UserWarning: positional arguments and argument \"destination\" are deprecated. nn.Module.state_dict will not accept them in the future. Refer to https://pytorch.org/docs/master/generated/torch.nn.Module.html#torch.nn.Module.state_dict for details.\n",
      "  warnings.warn(\n"
     ]
    },
    {
     "name": "stdout",
     "output_type": "stream",
     "text": [
      "Validation loss was updated (0.812794 --> 0.812909).  Saving model ...\n",
      "Epoch(66/1000) result: train_score=0.9524  valid_score=0.8203\n",
      "Epoch(67/1000) start\n"
     ]
    },
    {
     "name": "stderr",
     "output_type": "stream",
     "text": [
      "100%|██████████| 61/61 [00:18<00:00,  3.22it/s]\n",
      "100%|██████████| 7/7 [00:00<00:00,  8.86it/s]\n",
      "/usr/local/lib/python3.8/dist-packages/torch/nn/modules/module.py:1383: UserWarning: positional arguments and argument \"destination\" are deprecated. nn.Module.state_dict will not accept them in the future. Refer to https://pytorch.org/docs/master/generated/torch.nn.Module.html#torch.nn.Module.state_dict for details.\n",
      "  warnings.warn(\n"
     ]
    },
    {
     "name": "stdout",
     "output_type": "stream",
     "text": [
      "Validation loss was updated (0.812909 --> 0.813048).  Saving model ...\n",
      "Epoch(67/1000) result: train_score=0.9534  valid_score=0.8222\n",
      "Epoch(68/1000) start\n"
     ]
    },
    {
     "name": "stderr",
     "output_type": "stream",
     "text": [
      "100%|██████████| 61/61 [00:18<00:00,  3.23it/s]\n",
      "100%|██████████| 7/7 [00:00<00:00,  8.91it/s]\n",
      "/usr/local/lib/python3.8/dist-packages/torch/nn/modules/module.py:1383: UserWarning: positional arguments and argument \"destination\" are deprecated. nn.Module.state_dict will not accept them in the future. Refer to https://pytorch.org/docs/master/generated/torch.nn.Module.html#torch.nn.Module.state_dict for details.\n",
      "  warnings.warn(\n"
     ]
    },
    {
     "name": "stdout",
     "output_type": "stream",
     "text": [
      "Validation loss was updated (0.813048 --> 0.813078).  Saving model ...\n",
      "Epoch(68/1000) result: train_score=0.9532  valid_score=0.8151\n",
      "Epoch(69/1000) start\n"
     ]
    },
    {
     "name": "stderr",
     "output_type": "stream",
     "text": [
      "100%|██████████| 61/61 [00:18<00:00,  3.22it/s]\n",
      "100%|██████████| 7/7 [00:00<00:00,  8.86it/s]\n"
     ]
    },
    {
     "name": "stdout",
     "output_type": "stream",
     "text": [
      "EarlyStopping counter: 1 out of 10\n",
      "Epoch(69/1000) result: train_score=0.9549  valid_score=0.8097\n",
      "Epoch(70/1000) start\n"
     ]
    },
    {
     "name": "stderr",
     "output_type": "stream",
     "text": [
      "100%|██████████| 61/61 [00:18<00:00,  3.21it/s]\n",
      "100%|██████████| 7/7 [00:00<00:00,  8.89it/s]\n"
     ]
    },
    {
     "name": "stdout",
     "output_type": "stream",
     "text": [
      "EarlyStopping counter: 2 out of 10\n",
      "Epoch(70/1000) result: train_score=0.9566  valid_score=0.8063\n",
      "Epoch(71/1000) start\n"
     ]
    },
    {
     "name": "stderr",
     "output_type": "stream",
     "text": [
      "100%|██████████| 61/61 [00:18<00:00,  3.21it/s]\n",
      "100%|██████████| 7/7 [00:00<00:00,  8.86it/s]\n"
     ]
    },
    {
     "name": "stdout",
     "output_type": "stream",
     "text": [
      "EarlyStopping counter: 3 out of 10\n",
      "Epoch(71/1000) result: train_score=0.9600  valid_score=0.8072\n",
      "Epoch(72/1000) start\n"
     ]
    },
    {
     "name": "stderr",
     "output_type": "stream",
     "text": [
      "100%|██████████| 61/61 [00:18<00:00,  3.22it/s]\n",
      "100%|██████████| 7/7 [00:00<00:00,  8.86it/s]\n"
     ]
    },
    {
     "name": "stdout",
     "output_type": "stream",
     "text": [
      "EarlyStopping counter: 4 out of 10\n",
      "Epoch(72/1000) result: train_score=0.9614  valid_score=0.8053\n",
      "Epoch(73/1000) start\n"
     ]
    },
    {
     "name": "stderr",
     "output_type": "stream",
     "text": [
      "100%|██████████| 61/61 [00:18<00:00,  3.22it/s]\n",
      "100%|██████████| 7/7 [00:00<00:00,  8.91it/s]\n"
     ]
    },
    {
     "name": "stdout",
     "output_type": "stream",
     "text": [
      "EarlyStopping counter: 5 out of 10\n",
      "Epoch(73/1000) result: train_score=0.9608  valid_score=0.8243\n",
      "Epoch(74/1000) start\n"
     ]
    },
    {
     "name": "stderr",
     "output_type": "stream",
     "text": [
      "100%|██████████| 61/61 [00:18<00:00,  3.21it/s]\n",
      "100%|██████████| 7/7 [00:00<00:00,  8.86it/s]\n"
     ]
    },
    {
     "name": "stdout",
     "output_type": "stream",
     "text": [
      "EarlyStopping counter: 6 out of 10\n",
      "Epoch(74/1000) result: train_score=0.9620  valid_score=0.8148\n",
      "Epoch(75/1000) start\n"
     ]
    },
    {
     "name": "stderr",
     "output_type": "stream",
     "text": [
      "100%|██████████| 61/61 [00:19<00:00,  3.21it/s]\n",
      "100%|██████████| 7/7 [00:00<00:00,  8.83it/s]\n"
     ]
    },
    {
     "name": "stdout",
     "output_type": "stream",
     "text": [
      "EarlyStopping counter: 7 out of 10\n",
      "Epoch(75/1000) result: train_score=0.9619  valid_score=0.8172\n",
      "Epoch(76/1000) start\n"
     ]
    },
    {
     "name": "stderr",
     "output_type": "stream",
     "text": [
      "100%|██████████| 61/61 [00:19<00:00,  3.21it/s]\n",
      "100%|██████████| 7/7 [00:00<00:00,  8.86it/s]\n",
      "/usr/local/lib/python3.8/dist-packages/torch/nn/modules/module.py:1383: UserWarning: positional arguments and argument \"destination\" are deprecated. nn.Module.state_dict will not accept them in the future. Refer to https://pytorch.org/docs/master/generated/torch.nn.Module.html#torch.nn.Module.state_dict for details.\n",
      "  warnings.warn(\n"
     ]
    },
    {
     "name": "stdout",
     "output_type": "stream",
     "text": [
      "Validation loss was updated (0.813078 --> 0.813109).  Saving model ...\n",
      "Epoch(76/1000) result: train_score=0.9633  valid_score=0.8222\n",
      "Epoch(77/1000) start\n"
     ]
    },
    {
     "name": "stderr",
     "output_type": "stream",
     "text": [
      "100%|██████████| 61/61 [00:18<00:00,  3.22it/s]\n",
      "100%|██████████| 7/7 [00:00<00:00,  8.86it/s]\n",
      "/usr/local/lib/python3.8/dist-packages/torch/nn/modules/module.py:1383: UserWarning: positional arguments and argument \"destination\" are deprecated. nn.Module.state_dict will not accept them in the future. Refer to https://pytorch.org/docs/master/generated/torch.nn.Module.html#torch.nn.Module.state_dict for details.\n",
      "  warnings.warn(\n"
     ]
    },
    {
     "name": "stdout",
     "output_type": "stream",
     "text": [
      "Validation loss was updated (0.813109 --> 0.813139).  Saving model ...\n",
      "Epoch(77/1000) result: train_score=0.9667  valid_score=0.8155\n",
      "Epoch(78/1000) start\n"
     ]
    },
    {
     "name": "stderr",
     "output_type": "stream",
     "text": [
      "100%|██████████| 61/61 [00:18<00:00,  3.22it/s]\n",
      "100%|██████████| 7/7 [00:00<00:00,  8.91it/s]\n",
      "/usr/local/lib/python3.8/dist-packages/torch/nn/modules/module.py:1383: UserWarning: positional arguments and argument \"destination\" are deprecated. nn.Module.state_dict will not accept them in the future. Refer to https://pytorch.org/docs/master/generated/torch.nn.Module.html#torch.nn.Module.state_dict for details.\n",
      "  warnings.warn(\n"
     ]
    },
    {
     "name": "stdout",
     "output_type": "stream",
     "text": [
      "Validation loss was updated (0.813139 --> 0.813168).  Saving model ...\n",
      "Epoch(78/1000) result: train_score=0.9671  valid_score=0.8154\n",
      "Epoch(79/1000) start\n"
     ]
    },
    {
     "name": "stderr",
     "output_type": "stream",
     "text": [
      "100%|██████████| 61/61 [00:18<00:00,  3.23it/s]\n",
      "100%|██████████| 7/7 [00:00<00:00,  8.89it/s]\n",
      "/usr/local/lib/python3.8/dist-packages/torch/nn/modules/module.py:1383: UserWarning: positional arguments and argument \"destination\" are deprecated. nn.Module.state_dict will not accept them in the future. Refer to https://pytorch.org/docs/master/generated/torch.nn.Module.html#torch.nn.Module.state_dict for details.\n",
      "  warnings.warn(\n"
     ]
    },
    {
     "name": "stdout",
     "output_type": "stream",
     "text": [
      "Validation loss was updated (0.813168 --> 0.813227).  Saving model ...\n",
      "Epoch(79/1000) result: train_score=0.9662  valid_score=0.8178\n",
      "Epoch(80/1000) start\n"
     ]
    },
    {
     "name": "stderr",
     "output_type": "stream",
     "text": [
      "100%|██████████| 61/61 [00:18<00:00,  3.23it/s]\n",
      "100%|██████████| 7/7 [00:00<00:00,  8.88it/s]\n",
      "/usr/local/lib/python3.8/dist-packages/torch/nn/modules/module.py:1383: UserWarning: positional arguments and argument \"destination\" are deprecated. nn.Module.state_dict will not accept them in the future. Refer to https://pytorch.org/docs/master/generated/torch.nn.Module.html#torch.nn.Module.state_dict for details.\n",
      "  warnings.warn(\n"
     ]
    },
    {
     "name": "stdout",
     "output_type": "stream",
     "text": [
      "Validation loss was updated (0.813227 --> 0.813317).  Saving model ...\n",
      "Epoch(80/1000) result: train_score=0.9663  valid_score=0.8205\n",
      "Epoch(81/1000) start\n"
     ]
    },
    {
     "name": "stderr",
     "output_type": "stream",
     "text": [
      "100%|██████████| 61/61 [00:18<00:00,  3.22it/s]\n",
      "100%|██████████| 7/7 [00:00<00:00,  8.89it/s]\n",
      "/usr/local/lib/python3.8/dist-packages/torch/nn/modules/module.py:1383: UserWarning: positional arguments and argument \"destination\" are deprecated. nn.Module.state_dict will not accept them in the future. Refer to https://pytorch.org/docs/master/generated/torch.nn.Module.html#torch.nn.Module.state_dict for details.\n",
      "  warnings.warn(\n"
     ]
    },
    {
     "name": "stdout",
     "output_type": "stream",
     "text": [
      "Validation loss was updated (0.813317 --> 0.813341).  Saving model ...\n",
      "Epoch(81/1000) result: train_score=0.9698  valid_score=0.8152\n",
      "Epoch(82/1000) start\n"
     ]
    },
    {
     "name": "stderr",
     "output_type": "stream",
     "text": [
      "100%|██████████| 61/61 [00:18<00:00,  3.23it/s]\n",
      "100%|██████████| 7/7 [00:00<00:00,  8.88it/s]\n"
     ]
    },
    {
     "name": "stdout",
     "output_type": "stream",
     "text": [
      "EarlyStopping counter: 1 out of 10\n",
      "Epoch(82/1000) result: train_score=0.9711  valid_score=0.8089\n",
      "Epoch(83/1000) start\n"
     ]
    },
    {
     "name": "stderr",
     "output_type": "stream",
     "text": [
      "100%|██████████| 61/61 [00:18<00:00,  3.22it/s]\n",
      "100%|██████████| 7/7 [00:00<00:00,  8.89it/s]\n"
     ]
    },
    {
     "name": "stdout",
     "output_type": "stream",
     "text": [
      "EarlyStopping counter: 2 out of 10\n",
      "Epoch(83/1000) result: train_score=0.9712  valid_score=0.7950\n",
      "Epoch(84/1000) start\n"
     ]
    },
    {
     "name": "stderr",
     "output_type": "stream",
     "text": [
      "100%|██████████| 61/61 [00:18<00:00,  3.21it/s]\n",
      "100%|██████████| 7/7 [00:00<00:00,  8.85it/s]\n"
     ]
    },
    {
     "name": "stdout",
     "output_type": "stream",
     "text": [
      "EarlyStopping counter: 3 out of 10\n",
      "Epoch(84/1000) result: train_score=0.9718  valid_score=0.8054\n",
      "Epoch(85/1000) start\n"
     ]
    },
    {
     "name": "stderr",
     "output_type": "stream",
     "text": [
      "100%|██████████| 61/61 [00:18<00:00,  3.21it/s]\n",
      "100%|██████████| 7/7 [00:00<00:00,  8.88it/s]\n"
     ]
    },
    {
     "name": "stdout",
     "output_type": "stream",
     "text": [
      "EarlyStopping counter: 4 out of 10\n",
      "Epoch(85/1000) result: train_score=0.9716  valid_score=0.8048\n",
      "Epoch(86/1000) start\n"
     ]
    },
    {
     "name": "stderr",
     "output_type": "stream",
     "text": [
      "100%|██████████| 61/61 [00:18<00:00,  3.21it/s]\n",
      "100%|██████████| 7/7 [00:00<00:00,  8.86it/s]\n"
     ]
    },
    {
     "name": "stdout",
     "output_type": "stream",
     "text": [
      "EarlyStopping counter: 5 out of 10\n",
      "Epoch(86/1000) result: train_score=0.9731  valid_score=0.7964\n",
      "Epoch(87/1000) start\n"
     ]
    },
    {
     "name": "stderr",
     "output_type": "stream",
     "text": [
      "100%|██████████| 61/61 [00:18<00:00,  3.22it/s]\n",
      "100%|██████████| 7/7 [00:00<00:00,  8.88it/s]\n"
     ]
    },
    {
     "name": "stdout",
     "output_type": "stream",
     "text": [
      "EarlyStopping counter: 6 out of 10\n",
      "Epoch(87/1000) result: train_score=0.9730  valid_score=0.8004\n",
      "Epoch(88/1000) start\n"
     ]
    },
    {
     "name": "stderr",
     "output_type": "stream",
     "text": [
      "100%|██████████| 61/61 [00:18<00:00,  3.22it/s]\n",
      "100%|██████████| 7/7 [00:00<00:00,  8.88it/s]\n"
     ]
    },
    {
     "name": "stdout",
     "output_type": "stream",
     "text": [
      "EarlyStopping counter: 7 out of 10\n",
      "Epoch(88/1000) result: train_score=0.9758  valid_score=0.8036\n",
      "Epoch(89/1000) start\n"
     ]
    },
    {
     "name": "stderr",
     "output_type": "stream",
     "text": [
      "100%|██████████| 61/61 [00:18<00:00,  3.22it/s]\n",
      "100%|██████████| 7/7 [00:00<00:00,  8.88it/s]\n"
     ]
    },
    {
     "name": "stdout",
     "output_type": "stream",
     "text": [
      "EarlyStopping counter: 8 out of 10\n",
      "Epoch(89/1000) result: train_score=0.9767  valid_score=0.8010\n",
      "Epoch(90/1000) start\n"
     ]
    },
    {
     "name": "stderr",
     "output_type": "stream",
     "text": [
      "100%|██████████| 61/61 [00:18<00:00,  3.22it/s]\n",
      "100%|██████████| 7/7 [00:00<00:00,  8.85it/s]\n"
     ]
    },
    {
     "name": "stdout",
     "output_type": "stream",
     "text": [
      "EarlyStopping counter: 9 out of 10\n",
      "Epoch(90/1000) result: train_score=0.9762  valid_score=0.8055\n",
      "Epoch(91/1000) start\n"
     ]
    },
    {
     "name": "stderr",
     "output_type": "stream",
     "text": [
      "100%|██████████| 61/61 [00:18<00:00,  3.22it/s]\n",
      "100%|██████████| 7/7 [00:00<00:00,  8.85it/s]\n"
     ]
    },
    {
     "name": "stdout",
     "output_type": "stream",
     "text": [
      "EarlyStopping counter: 10 out of 10\n",
      "Early stopping\n"
     ]
    },
    {
     "name": "stderr",
     "output_type": "stream",
     "text": [
      "100%|██████████| 17/17 [00:01<00:00,  8.60it/s]\n"
     ]
    },
    {
     "data": {
      "text/plain": [
       "torch.Size([57, 8, 100, 100])"
      ]
     },
     "execution_count": 8,
     "metadata": {},
     "output_type": "execute_result"
    }
   ],
   "source": [
    "attn_outputs, attn_probs, emb, emb_q, emb_pid, emb_diff = trainer.train(train_loader, valid_loader, test_loader)\n",
    "attn_outputs.size()\n",
    "attn_probs.size()"
   ]
  },
  {
   "cell_type": "code",
   "execution_count": null,
   "metadata": {},
   "outputs": [],
   "source": [
    "model_path = '../model_records/visualizer_cb_diff.pth'\n",
    "\n",
    "torch.save({\n",
    "    'model': trainer.model.state_dict()\n",
    "}, model_path)"
   ]
  },
  {
   "cell_type": "code",
   "execution_count": 9,
   "metadata": {},
   "outputs": [],
   "source": [
    "attn_outputs = attn_outputs.detach().cpu().numpy()\n",
    "attn_probs = attn_probs.detach().cpu().numpy()\n",
    "emb = emb.detach().cpu().numpy()\n",
    "emb_q = emb_q.detach().cpu().numpy()\n",
    "emb_pid = emb_pid.detach().cpu().numpy()\n",
    "emb_diff = emb_diff.detach().cpu().numpy()"
   ]
  },
  {
   "cell_type": "code",
   "execution_count": 10,
   "metadata": {},
   "outputs": [
    {
     "name": "stdout",
     "output_type": "stream",
     "text": [
      "attn_outputs.size() (57, 100, 100)\n",
      "attn_probs.size() (57, 8, 100, 100)\n",
      "emb (57, 100, 512)\n",
      "emb_q (57, 100, 512)\n",
      "emb_pid (57, 100, 512)\n",
      "emb_diff  (57, 100, 512)\n"
     ]
    }
   ],
   "source": [
    "print(\"attn_outputs.size()\", attn_outputs.shape)\n",
    "print(\"attn_probs.size()\", attn_probs.shape)\n",
    "print(\"emb\", emb.shape)\n",
    "print(\"emb_q\", emb_q.shape)\n",
    "print(\"emb_pid\", emb_pid.shape)\n",
    "print(\"emb_diff \", emb_diff.shape)"
   ]
  },
  {
   "cell_type": "code",
   "execution_count": 11,
   "metadata": {},
   "outputs": [],
   "source": [
    "import pickle\n",
    "\n",
    "attn_path = \"../visual_records/cb_attn_data.pkl\"\n",
    "outputs_path = \"../visual_records/cb_outputs.pkl\"\n",
    "emb_path = \"../visual_records/cb_emb.pkl\"\n",
    "emb_q_path = \"../visual_records/cb_emb_q.pkl\"\n",
    "emb_pid_path = \"../visual_records/cb_emb_pid.pkl\"\n",
    "emb_diff_path = \"../visual_records/cb_emb_diff.pkl\"\n",
    "\n",
    "# pickfile save\n",
    "with open(attn_path, \"wb\") as f:\n",
    "    pickle.dump(attn_probs, f)\n",
    "with open(outputs_path, \"wb\") as f:\n",
    "    pickle.dump(attn_outputs, f)\n",
    "with open(emb_path, \"wb\") as f:\n",
    "    pickle.dump(emb, f)\n",
    "with open(emb_q_path, \"wb\") as f:\n",
    "    pickle.dump(emb_q, f)\n",
    "with open(emb_pid_path, \"wb\") as f:\n",
    "    pickle.dump(emb_pid, f)\n",
    "with open(emb_diff_path, \"wb\") as f:\n",
    "    pickle.dump(emb_diff, f)"
   ]
  },
  {
   "cell_type": "code",
   "execution_count": 12,
   "metadata": {},
   "outputs": [],
   "source": [
    "import pickle\n",
    "\n",
    "attn_path = \"../visual_records/cb_attn_data.pkl\"\n",
    "outputs_path = \"../visual_records/cb_outputs.pkl\"\n",
    "emb_path = \"../visual_records/cb_emb.pkl\"\n",
    "emb_q_path = \"../visual_records/cb_emb_q.pkl\"\n",
    "emb_pid_path = \"../visual_records/cb_emb_pid.pkl\"\n",
    "emb_diff_path = \"../visual_records/cb_emb_diff.pkl\"\n",
    "\n",
    "# pickfile load\n",
    "with open(attn_path, \"rb\") as f:\n",
    "    attn_probs2 = pickle.load(f)\n",
    "with open(outputs_path, \"rb\") as f:\n",
    "    attn_outputs2 = pickle.load(f)\n",
    "with open(emb_path, \"rb\") as f:\n",
    "    emb2 = pickle.load(f)\n",
    "with open(emb_q_path, \"rb\") as f:\n",
    "    emb_q2 = pickle.load(f)\n",
    "with open(emb_pid_path, \"rb\") as f:\n",
    "    emb_pid2 = pickle.load(f)\n",
    "with open(emb_diff_path, \"rb\") as f:\n",
    "    emb_diff2 = pickle.load(f)"
   ]
  },
  {
   "cell_type": "code",
   "execution_count": 13,
   "metadata": {},
   "outputs": [
    {
     "data": {
      "text/plain": [
       "<matplotlib.colorbar.Colorbar at 0x7f6376545460>"
      ]
     },
     "execution_count": 13,
     "metadata": {},
     "output_type": "execute_result"
    },
    {
     "data": {
      "image/png": "[encoded data removed]",
      "text/plain": [
       "<Figure size 432x288 with 2 Axes>"
      ]
     },
     "metadata": {
      "needs_background": "light"
     },
     "output_type": "display_data"
    }
   ],
   "source": [
    "# 시각화\n",
    "\n",
    "import matplotlib.pyplot as plt\n",
    "\n",
    "score = attn_probs2[0][0]\n",
    "\n",
    "plt.viridis()\n",
    "plt.imshow(score)\n",
    "plt.colorbar()"
   ]
  },
  {
   "cell_type": "code",
   "execution_count": 18,
   "metadata": {},
   "outputs": [
    {
     "data": {
      "image/png": "[encoded data removed]",
      "text/plain": [
       "<Figure size 1080x432 with 9 Axes>"
      ]
     },
     "metadata": {
      "needs_background": "light"
     },
     "output_type": "display_data"
    }
   ],
   "source": [
    "fig, axes = plt.subplots(nrows=2, ncols=4, figsize=(15, 6))\n",
    "\n",
    "for i in range(8):\n",
    "    score = attn_probs2[4][i]\n",
    "    plt.subplot(2,4,i+1)\n",
    "    plt.viridis()\n",
    "    im = plt.imshow(score)\n",
    "    \n",
    "fig.subplots_adjust(right=0.8)\n",
    "cbar_ax = fig.add_axes([0.85, 0.15, 0.05, 0.7])\n",
    "fig.colorbar(im, cax=cbar_ax)\n",
    "plt.show()"
   ]
  },
  {
   "cell_type": "code",
   "execution_count": 19,
   "metadata": {},
   "outputs": [
    {
     "data": {
      "image/png": "[encoded data removed]",
      "text/plain": [
       "<Figure size 720x360 with 2 Axes>"
      ]
     },
     "metadata": {
      "needs_background": "light"
     },
     "output_type": "display_data"
    }
   ],
   "source": [
    "# 시각화\n",
    "\n",
    "import matplotlib.pyplot as plt\n",
    "\n",
    "outputs_score = attn_outputs2[10]\n",
    "\n",
    "plt.figure(figsize=(10, 5))\n",
    "plt.viridis()\n",
    "plt.imshow(outputs_score)\n",
    "plt.colorbar()\n",
    "plt.show()"
   ]
  },
  {
   "cell_type": "code",
   "execution_count": 10,
   "metadata": {},
   "outputs": [
    {
     "name": "stderr",
     "output_type": "stream",
     "text": [
      "/usr/local/lib/python3.8/dist-packages/sklearn/manifold/_t_sne.py:780: FutureWarning: The default initialization in TSNE will change from 'random' to 'pca' in 1.2.\n",
      "  warnings.warn(\n",
      "/usr/local/lib/python3.8/dist-packages/sklearn/manifold/_t_sne.py:790: FutureWarning: The default learning rate in TSNE will change from 200.0 to 'auto' in 1.2.\n",
      "  warnings.warn(\n",
      "/usr/local/lib/python3.8/dist-packages/sklearn/manifold/_t_sne.py:780: FutureWarning: The default initialization in TSNE will change from 'random' to 'pca' in 1.2.\n",
      "  warnings.warn(\n",
      "/usr/local/lib/python3.8/dist-packages/sklearn/manifold/_t_sne.py:790: FutureWarning: The default learning rate in TSNE will change from 200.0 to 'auto' in 1.2.\n",
      "  warnings.warn(\n",
      "/usr/local/lib/python3.8/dist-packages/sklearn/manifold/_t_sne.py:780: FutureWarning: The default initialization in TSNE will change from 'random' to 'pca' in 1.2.\n",
      "  warnings.warn(\n",
      "/usr/local/lib/python3.8/dist-packages/sklearn/manifold/_t_sne.py:790: FutureWarning: The default learning rate in TSNE will change from 200.0 to 'auto' in 1.2.\n",
      "  warnings.warn(\n",
      "/usr/local/lib/python3.8/dist-packages/sklearn/manifold/_t_sne.py:780: FutureWarning: The default initialization in TSNE will change from 'random' to 'pca' in 1.2.\n",
      "  warnings.warn(\n",
      "/usr/local/lib/python3.8/dist-packages/sklearn/manifold/_t_sne.py:790: FutureWarning: The default learning rate in TSNE will change from 200.0 to 'auto' in 1.2.\n",
      "  warnings.warn(\n",
      "/usr/local/lib/python3.8/dist-packages/sklearn/manifold/_t_sne.py:780: FutureWarning: The default initialization in TSNE will change from 'random' to 'pca' in 1.2.\n",
      "  warnings.warn(\n",
      "/usr/local/lib/python3.8/dist-packages/sklearn/manifold/_t_sne.py:790: FutureWarning: The default learning rate in TSNE will change from 200.0 to 'auto' in 1.2.\n",
      "  warnings.warn(\n",
      "/usr/local/lib/python3.8/dist-packages/sklearn/manifold/_t_sne.py:780: FutureWarning: The default initialization in TSNE will change from 'random' to 'pca' in 1.2.\n",
      "  warnings.warn(\n",
      "/usr/local/lib/python3.8/dist-packages/sklearn/manifold/_t_sne.py:790: FutureWarning: The default learning rate in TSNE will change from 200.0 to 'auto' in 1.2.\n",
      "  warnings.warn(\n",
      "/usr/local/lib/python3.8/dist-packages/sklearn/manifold/_t_sne.py:780: FutureWarning: The default initialization in TSNE will change from 'random' to 'pca' in 1.2.\n",
      "  warnings.warn(\n",
      "/usr/local/lib/python3.8/dist-packages/sklearn/manifold/_t_sne.py:790: FutureWarning: The default learning rate in TSNE will change from 200.0 to 'auto' in 1.2.\n",
      "  warnings.warn(\n",
      "/usr/local/lib/python3.8/dist-packages/sklearn/manifold/_t_sne.py:780: FutureWarning: The default initialization in TSNE will change from 'random' to 'pca' in 1.2.\n",
      "  warnings.warn(\n",
      "/usr/local/lib/python3.8/dist-packages/sklearn/manifold/_t_sne.py:790: FutureWarning: The default learning rate in TSNE will change from 200.0 to 'auto' in 1.2.\n",
      "  warnings.warn(\n",
      "/usr/local/lib/python3.8/dist-packages/sklearn/manifold/_t_sne.py:780: FutureWarning: The default initialization in TSNE will change from 'random' to 'pca' in 1.2.\n",
      "  warnings.warn(\n",
      "/usr/local/lib/python3.8/dist-packages/sklearn/manifold/_t_sne.py:790: FutureWarning: The default learning rate in TSNE will change from 200.0 to 'auto' in 1.2.\n",
      "  warnings.warn(\n",
      "/usr/local/lib/python3.8/dist-packages/sklearn/manifold/_t_sne.py:780: FutureWarning: The default initialization in TSNE will change from 'random' to 'pca' in 1.2.\n",
      "  warnings.warn(\n",
      "/usr/local/lib/python3.8/dist-packages/sklearn/manifold/_t_sne.py:790: FutureWarning: The default learning rate in TSNE will change from 200.0 to 'auto' in 1.2.\n",
      "  warnings.warn(\n",
      "/usr/local/lib/python3.8/dist-packages/sklearn/manifold/_t_sne.py:780: FutureWarning: The default initialization in TSNE will change from 'random' to 'pca' in 1.2.\n",
      "  warnings.warn(\n",
      "/usr/local/lib/python3.8/dist-packages/sklearn/manifold/_t_sne.py:790: FutureWarning: The default learning rate in TSNE will change from 200.0 to 'auto' in 1.2.\n",
      "  warnings.warn(\n",
      "/usr/local/lib/python3.8/dist-packages/sklearn/manifold/_t_sne.py:780: FutureWarning: The default initialization in TSNE will change from 'random' to 'pca' in 1.2.\n",
      "  warnings.warn(\n",
      "/usr/local/lib/python3.8/dist-packages/sklearn/manifold/_t_sne.py:790: FutureWarning: The default learning rate in TSNE will change from 200.0 to 'auto' in 1.2.\n",
      "  warnings.warn(\n",
      "/usr/local/lib/python3.8/dist-packages/sklearn/manifold/_t_sne.py:780: FutureWarning: The default initialization in TSNE will change from 'random' to 'pca' in 1.2.\n",
      "  warnings.warn(\n",
      "/usr/local/lib/python3.8/dist-packages/sklearn/manifold/_t_sne.py:790: FutureWarning: The default learning rate in TSNE will change from 200.0 to 'auto' in 1.2.\n",
      "  warnings.warn(\n",
      "/usr/local/lib/python3.8/dist-packages/sklearn/manifold/_t_sne.py:780: FutureWarning: The default initialization in TSNE will change from 'random' to 'pca' in 1.2.\n",
      "  warnings.warn(\n",
      "/usr/local/lib/python3.8/dist-packages/sklearn/manifold/_t_sne.py:790: FutureWarning: The default learning rate in TSNE will change from 200.0 to 'auto' in 1.2.\n",
      "  warnings.warn(\n",
      "/usr/local/lib/python3.8/dist-packages/sklearn/manifold/_t_sne.py:780: FutureWarning: The default initialization in TSNE will change from 'random' to 'pca' in 1.2.\n",
      "  warnings.warn(\n",
      "/usr/local/lib/python3.8/dist-packages/sklearn/manifold/_t_sne.py:790: FutureWarning: The default learning rate in TSNE will change from 200.0 to 'auto' in 1.2.\n",
      "  warnings.warn(\n",
      "/usr/local/lib/python3.8/dist-packages/sklearn/manifold/_t_sne.py:780: FutureWarning: The default initialization in TSNE will change from 'random' to 'pca' in 1.2.\n",
      "  warnings.warn(\n",
      "/usr/local/lib/python3.8/dist-packages/sklearn/manifold/_t_sne.py:790: FutureWarning: The default learning rate in TSNE will change from 200.0 to 'auto' in 1.2.\n",
      "  warnings.warn(\n",
      "/usr/local/lib/python3.8/dist-packages/sklearn/manifold/_t_sne.py:780: FutureWarning: The default initialization in TSNE will change from 'random' to 'pca' in 1.2.\n",
      "  warnings.warn(\n",
      "/usr/local/lib/python3.8/dist-packages/sklearn/manifold/_t_sne.py:790: FutureWarning: The default learning rate in TSNE will change from 200.0 to 'auto' in 1.2.\n",
      "  warnings.warn(\n",
      "/usr/local/lib/python3.8/dist-packages/sklearn/manifold/_t_sne.py:780: FutureWarning: The default initialization in TSNE will change from 'random' to 'pca' in 1.2.\n",
      "  warnings.warn(\n",
      "/usr/local/lib/python3.8/dist-packages/sklearn/manifold/_t_sne.py:790: FutureWarning: The default learning rate in TSNE will change from 200.0 to 'auto' in 1.2.\n",
      "  warnings.warn(\n",
      "/usr/local/lib/python3.8/dist-packages/sklearn/manifold/_t_sne.py:780: FutureWarning: The default initialization in TSNE will change from 'random' to 'pca' in 1.2.\n",
      "  warnings.warn(\n",
      "/usr/local/lib/python3.8/dist-packages/sklearn/manifold/_t_sne.py:790: FutureWarning: The default learning rate in TSNE will change from 200.0 to 'auto' in 1.2.\n",
      "  warnings.warn(\n",
      "/usr/local/lib/python3.8/dist-packages/sklearn/manifold/_t_sne.py:780: FutureWarning: The default initialization in TSNE will change from 'random' to 'pca' in 1.2.\n",
      "  warnings.warn(\n",
      "/usr/local/lib/python3.8/dist-packages/sklearn/manifold/_t_sne.py:790: FutureWarning: The default learning rate in TSNE will change from 200.0 to 'auto' in 1.2.\n",
      "  warnings.warn(\n",
      "/usr/local/lib/python3.8/dist-packages/sklearn/manifold/_t_sne.py:780: FutureWarning: The default initialization in TSNE will change from 'random' to 'pca' in 1.2.\n",
      "  warnings.warn(\n",
      "/usr/local/lib/python3.8/dist-packages/sklearn/manifold/_t_sne.py:790: FutureWarning: The default learning rate in TSNE will change from 200.0 to 'auto' in 1.2.\n",
      "  warnings.warn(\n",
      "/usr/local/lib/python3.8/dist-packages/sklearn/manifold/_t_sne.py:780: FutureWarning: The default initialization in TSNE will change from 'random' to 'pca' in 1.2.\n",
      "  warnings.warn(\n",
      "/usr/local/lib/python3.8/dist-packages/sklearn/manifold/_t_sne.py:790: FutureWarning: The default learning rate in TSNE will change from 200.0 to 'auto' in 1.2.\n",
      "  warnings.warn(\n",
      "/usr/local/lib/python3.8/dist-packages/sklearn/manifold/_t_sne.py:780: FutureWarning: The default initialization in TSNE will change from 'random' to 'pca' in 1.2.\n",
      "  warnings.warn(\n",
      "/usr/local/lib/python3.8/dist-packages/sklearn/manifold/_t_sne.py:790: FutureWarning: The default learning rate in TSNE will change from 200.0 to 'auto' in 1.2.\n",
      "  warnings.warn(\n",
      "/usr/local/lib/python3.8/dist-packages/sklearn/manifold/_t_sne.py:780: FutureWarning: The default initialization in TSNE will change from 'random' to 'pca' in 1.2.\n",
      "  warnings.warn(\n",
      "/usr/local/lib/python3.8/dist-packages/sklearn/manifold/_t_sne.py:790: FutureWarning: The default learning rate in TSNE will change from 200.0 to 'auto' in 1.2.\n",
      "  warnings.warn(\n",
      "/usr/local/lib/python3.8/dist-packages/sklearn/manifold/_t_sne.py:780: FutureWarning: The default initialization in TSNE will change from 'random' to 'pca' in 1.2.\n",
      "  warnings.warn(\n",
      "/usr/local/lib/python3.8/dist-packages/sklearn/manifold/_t_sne.py:790: FutureWarning: The default learning rate in TSNE will change from 200.0 to 'auto' in 1.2.\n",
      "  warnings.warn(\n",
      "/usr/local/lib/python3.8/dist-packages/sklearn/manifold/_t_sne.py:780: FutureWarning: The default initialization in TSNE will change from 'random' to 'pca' in 1.2.\n",
      "  warnings.warn(\n",
      "/usr/local/lib/python3.8/dist-packages/sklearn/manifold/_t_sne.py:790: FutureWarning: The default learning rate in TSNE will change from 200.0 to 'auto' in 1.2.\n",
      "  warnings.warn(\n",
      "/usr/local/lib/python3.8/dist-packages/sklearn/manifold/_t_sne.py:780: FutureWarning: The default initialization in TSNE will change from 'random' to 'pca' in 1.2.\n",
      "  warnings.warn(\n",
      "/usr/local/lib/python3.8/dist-packages/sklearn/manifold/_t_sne.py:790: FutureWarning: The default learning rate in TSNE will change from 200.0 to 'auto' in 1.2.\n",
      "  warnings.warn(\n",
      "/usr/local/lib/python3.8/dist-packages/sklearn/manifold/_t_sne.py:780: FutureWarning: The default initialization in TSNE will change from 'random' to 'pca' in 1.2.\n",
      "  warnings.warn(\n",
      "/usr/local/lib/python3.8/dist-packages/sklearn/manifold/_t_sne.py:790: FutureWarning: The default learning rate in TSNE will change from 200.0 to 'auto' in 1.2.\n",
      "  warnings.warn(\n",
      "/usr/local/lib/python3.8/dist-packages/sklearn/manifold/_t_sne.py:780: FutureWarning: The default initialization in TSNE will change from 'random' to 'pca' in 1.2.\n",
      "  warnings.warn(\n",
      "/usr/local/lib/python3.8/dist-packages/sklearn/manifold/_t_sne.py:790: FutureWarning: The default learning rate in TSNE will change from 200.0 to 'auto' in 1.2.\n",
      "  warnings.warn(\n",
      "/usr/local/lib/python3.8/dist-packages/sklearn/manifold/_t_sne.py:780: FutureWarning: The default initialization in TSNE will change from 'random' to 'pca' in 1.2.\n",
      "  warnings.warn(\n",
      "/usr/local/lib/python3.8/dist-packages/sklearn/manifold/_t_sne.py:790: FutureWarning: The default learning rate in TSNE will change from 200.0 to 'auto' in 1.2.\n",
      "  warnings.warn(\n",
      "/usr/local/lib/python3.8/dist-packages/sklearn/manifold/_t_sne.py:780: FutureWarning: The default initialization in TSNE will change from 'random' to 'pca' in 1.2.\n",
      "  warnings.warn(\n",
      "/usr/local/lib/python3.8/dist-packages/sklearn/manifold/_t_sne.py:790: FutureWarning: The default learning rate in TSNE will change from 200.0 to 'auto' in 1.2.\n",
      "  warnings.warn(\n",
      "/usr/local/lib/python3.8/dist-packages/sklearn/manifold/_t_sne.py:780: FutureWarning: The default initialization in TSNE will change from 'random' to 'pca' in 1.2.\n",
      "  warnings.warn(\n",
      "/usr/local/lib/python3.8/dist-packages/sklearn/manifold/_t_sne.py:790: FutureWarning: The default learning rate in TSNE will change from 200.0 to 'auto' in 1.2.\n",
      "  warnings.warn(\n",
      "/usr/local/lib/python3.8/dist-packages/sklearn/manifold/_t_sne.py:780: FutureWarning: The default initialization in TSNE will change from 'random' to 'pca' in 1.2.\n",
      "  warnings.warn(\n",
      "/usr/local/lib/python3.8/dist-packages/sklearn/manifold/_t_sne.py:790: FutureWarning: The default learning rate in TSNE will change from 200.0 to 'auto' in 1.2.\n",
      "  warnings.warn(\n",
      "/usr/local/lib/python3.8/dist-packages/sklearn/manifold/_t_sne.py:780: FutureWarning: The default initialization in TSNE will change from 'random' to 'pca' in 1.2.\n",
      "  warnings.warn(\n",
      "/usr/local/lib/python3.8/dist-packages/sklearn/manifold/_t_sne.py:790: FutureWarning: The default learning rate in TSNE will change from 200.0 to 'auto' in 1.2.\n",
      "  warnings.warn(\n",
      "/usr/local/lib/python3.8/dist-packages/sklearn/manifold/_t_sne.py:780: FutureWarning: The default initialization in TSNE will change from 'random' to 'pca' in 1.2.\n",
      "  warnings.warn(\n",
      "/usr/local/lib/python3.8/dist-packages/sklearn/manifold/_t_sne.py:790: FutureWarning: The default learning rate in TSNE will change from 200.0 to 'auto' in 1.2.\n",
      "  warnings.warn(\n",
      "/usr/local/lib/python3.8/dist-packages/sklearn/manifold/_t_sne.py:780: FutureWarning: The default initialization in TSNE will change from 'random' to 'pca' in 1.2.\n",
      "  warnings.warn(\n",
      "/usr/local/lib/python3.8/dist-packages/sklearn/manifold/_t_sne.py:790: FutureWarning: The default learning rate in TSNE will change from 200.0 to 'auto' in 1.2.\n",
      "  warnings.warn(\n",
      "/usr/local/lib/python3.8/dist-packages/sklearn/manifold/_t_sne.py:780: FutureWarning: The default initialization in TSNE will change from 'random' to 'pca' in 1.2.\n",
      "  warnings.warn(\n",
      "/usr/local/lib/python3.8/dist-packages/sklearn/manifold/_t_sne.py:790: FutureWarning: The default learning rate in TSNE will change from 200.0 to 'auto' in 1.2.\n",
      "  warnings.warn(\n",
      "/usr/local/lib/python3.8/dist-packages/sklearn/manifold/_t_sne.py:780: FutureWarning: The default initialization in TSNE will change from 'random' to 'pca' in 1.2.\n",
      "  warnings.warn(\n",
      "/usr/local/lib/python3.8/dist-packages/sklearn/manifold/_t_sne.py:790: FutureWarning: The default learning rate in TSNE will change from 200.0 to 'auto' in 1.2.\n",
      "  warnings.warn(\n",
      "/usr/local/lib/python3.8/dist-packages/sklearn/manifold/_t_sne.py:780: FutureWarning: The default initialization in TSNE will change from 'random' to 'pca' in 1.2.\n",
      "  warnings.warn(\n",
      "/usr/local/lib/python3.8/dist-packages/sklearn/manifold/_t_sne.py:790: FutureWarning: The default learning rate in TSNE will change from 200.0 to 'auto' in 1.2.\n",
      "  warnings.warn(\n",
      "/usr/local/lib/python3.8/dist-packages/sklearn/manifold/_t_sne.py:780: FutureWarning: The default initialization in TSNE will change from 'random' to 'pca' in 1.2.\n",
      "  warnings.warn(\n",
      "/usr/local/lib/python3.8/dist-packages/sklearn/manifold/_t_sne.py:790: FutureWarning: The default learning rate in TSNE will change from 200.0 to 'auto' in 1.2.\n",
      "  warnings.warn(\n",
      "/usr/local/lib/python3.8/dist-packages/sklearn/manifold/_t_sne.py:780: FutureWarning: The default initialization in TSNE will change from 'random' to 'pca' in 1.2.\n",
      "  warnings.warn(\n",
      "/usr/local/lib/python3.8/dist-packages/sklearn/manifold/_t_sne.py:790: FutureWarning: The default learning rate in TSNE will change from 200.0 to 'auto' in 1.2.\n",
      "  warnings.warn(\n",
      "/usr/local/lib/python3.8/dist-packages/sklearn/manifold/_t_sne.py:780: FutureWarning: The default initialization in TSNE will change from 'random' to 'pca' in 1.2.\n",
      "  warnings.warn(\n",
      "/usr/local/lib/python3.8/dist-packages/sklearn/manifold/_t_sne.py:790: FutureWarning: The default learning rate in TSNE will change from 200.0 to 'auto' in 1.2.\n",
      "  warnings.warn(\n",
      "/usr/local/lib/python3.8/dist-packages/sklearn/manifold/_t_sne.py:780: FutureWarning: The default initialization in TSNE will change from 'random' to 'pca' in 1.2.\n",
      "  warnings.warn(\n",
      "/usr/local/lib/python3.8/dist-packages/sklearn/manifold/_t_sne.py:790: FutureWarning: The default learning rate in TSNE will change from 200.0 to 'auto' in 1.2.\n",
      "  warnings.warn(\n",
      "/usr/local/lib/python3.8/dist-packages/sklearn/manifold/_t_sne.py:780: FutureWarning: The default initialization in TSNE will change from 'random' to 'pca' in 1.2.\n",
      "  warnings.warn(\n",
      "/usr/local/lib/python3.8/dist-packages/sklearn/manifold/_t_sne.py:790: FutureWarning: The default learning rate in TSNE will change from 200.0 to 'auto' in 1.2.\n",
      "  warnings.warn(\n",
      "/usr/local/lib/python3.8/dist-packages/sklearn/manifold/_t_sne.py:780: FutureWarning: The default initialization in TSNE will change from 'random' to 'pca' in 1.2.\n",
      "  warnings.warn(\n",
      "/usr/local/lib/python3.8/dist-packages/sklearn/manifold/_t_sne.py:790: FutureWarning: The default learning rate in TSNE will change from 200.0 to 'auto' in 1.2.\n",
      "  warnings.warn(\n",
      "/usr/local/lib/python3.8/dist-packages/sklearn/manifold/_t_sne.py:780: FutureWarning: The default initialization in TSNE will change from 'random' to 'pca' in 1.2.\n",
      "  warnings.warn(\n",
      "/usr/local/lib/python3.8/dist-packages/sklearn/manifold/_t_sne.py:790: FutureWarning: The default learning rate in TSNE will change from 200.0 to 'auto' in 1.2.\n",
      "  warnings.warn(\n",
      "/usr/local/lib/python3.8/dist-packages/sklearn/manifold/_t_sne.py:780: FutureWarning: The default initialization in TSNE will change from 'random' to 'pca' in 1.2.\n",
      "  warnings.warn(\n",
      "/usr/local/lib/python3.8/dist-packages/sklearn/manifold/_t_sne.py:790: FutureWarning: The default learning rate in TSNE will change from 200.0 to 'auto' in 1.2.\n",
      "  warnings.warn(\n",
      "/usr/local/lib/python3.8/dist-packages/sklearn/manifold/_t_sne.py:780: FutureWarning: The default initialization in TSNE will change from 'random' to 'pca' in 1.2.\n",
      "  warnings.warn(\n",
      "/usr/local/lib/python3.8/dist-packages/sklearn/manifold/_t_sne.py:790: FutureWarning: The default learning rate in TSNE will change from 200.0 to 'auto' in 1.2.\n",
      "  warnings.warn(\n",
      "/usr/local/lib/python3.8/dist-packages/sklearn/manifold/_t_sne.py:780: FutureWarning: The default initialization in TSNE will change from 'random' to 'pca' in 1.2.\n",
      "  warnings.warn(\n",
      "/usr/local/lib/python3.8/dist-packages/sklearn/manifold/_t_sne.py:790: FutureWarning: The default learning rate in TSNE will change from 200.0 to 'auto' in 1.2.\n",
      "  warnings.warn(\n",
      "/usr/local/lib/python3.8/dist-packages/sklearn/manifold/_t_sne.py:780: FutureWarning: The default initialization in TSNE will change from 'random' to 'pca' in 1.2.\n",
      "  warnings.warn(\n",
      "/usr/local/lib/python3.8/dist-packages/sklearn/manifold/_t_sne.py:790: FutureWarning: The default learning rate in TSNE will change from 200.0 to 'auto' in 1.2.\n",
      "  warnings.warn(\n",
      "/usr/local/lib/python3.8/dist-packages/sklearn/manifold/_t_sne.py:780: FutureWarning: The default initialization in TSNE will change from 'random' to 'pca' in 1.2.\n",
      "  warnings.warn(\n",
      "/usr/local/lib/python3.8/dist-packages/sklearn/manifold/_t_sne.py:790: FutureWarning: The default learning rate in TSNE will change from 200.0 to 'auto' in 1.2.\n",
      "  warnings.warn(\n",
      "/usr/local/lib/python3.8/dist-packages/sklearn/manifold/_t_sne.py:780: FutureWarning: The default initialization in TSNE will change from 'random' to 'pca' in 1.2.\n",
      "  warnings.warn(\n",
      "/usr/local/lib/python3.8/dist-packages/sklearn/manifold/_t_sne.py:790: FutureWarning: The default learning rate in TSNE will change from 200.0 to 'auto' in 1.2.\n",
      "  warnings.warn(\n",
      "/usr/local/lib/python3.8/dist-packages/sklearn/manifold/_t_sne.py:780: FutureWarning: The default initialization in TSNE will change from 'random' to 'pca' in 1.2.\n",
      "  warnings.warn(\n",
      "/usr/local/lib/python3.8/dist-packages/sklearn/manifold/_t_sne.py:790: FutureWarning: The default learning rate in TSNE will change from 200.0 to 'auto' in 1.2.\n",
      "  warnings.warn(\n",
      "/usr/local/lib/python3.8/dist-packages/sklearn/manifold/_t_sne.py:780: FutureWarning: The default initialization in TSNE will change from 'random' to 'pca' in 1.2.\n",
      "  warnings.warn(\n",
      "/usr/local/lib/python3.8/dist-packages/sklearn/manifold/_t_sne.py:790: FutureWarning: The default learning rate in TSNE will change from 200.0 to 'auto' in 1.2.\n",
      "  warnings.warn(\n",
      "/usr/local/lib/python3.8/dist-packages/sklearn/manifold/_t_sne.py:780: FutureWarning: The default initialization in TSNE will change from 'random' to 'pca' in 1.2.\n",
      "  warnings.warn(\n",
      "/usr/local/lib/python3.8/dist-packages/sklearn/manifold/_t_sne.py:790: FutureWarning: The default learning rate in TSNE will change from 200.0 to 'auto' in 1.2.\n",
      "  warnings.warn(\n",
      "/usr/local/lib/python3.8/dist-packages/sklearn/manifold/_t_sne.py:780: FutureWarning: The default initialization in TSNE will change from 'random' to 'pca' in 1.2.\n",
      "  warnings.warn(\n",
      "/usr/local/lib/python3.8/dist-packages/sklearn/manifold/_t_sne.py:790: FutureWarning: The default learning rate in TSNE will change from 200.0 to 'auto' in 1.2.\n",
      "  warnings.warn(\n",
      "/usr/local/lib/python3.8/dist-packages/sklearn/manifold/_t_sne.py:780: FutureWarning: The default initialization in TSNE will change from 'random' to 'pca' in 1.2.\n",
      "  warnings.warn(\n",
      "/usr/local/lib/python3.8/dist-packages/sklearn/manifold/_t_sne.py:790: FutureWarning: The default learning rate in TSNE will change from 200.0 to 'auto' in 1.2.\n",
      "  warnings.warn(\n"
     ]
    },
    {
     "data": {
      "image/png": "[encoded data removed]",
      "text/plain": [
       "<Figure size 432x288 with 1 Axes>"
      ]
     },
     "metadata": {
      "needs_background": "light"
     },
     "output_type": "display_data"
    }
   ],
   "source": [
    "# t-sne\n",
    "from sklearn.manifold import TSNE\n",
    "\n",
    "# 2차원으로 차원 축소\n",
    "n_components = 2\n",
    "\n",
    "# t-sne 모델 생성\n",
    "tsne_model = TSNE(n_components=n_components)\n",
    "\n",
    "for j in range(emb_q2.shape[0]):\n",
    "    tsne_result = tsne_model.fit_transform(emb_q2[j])\n",
    "    for i in tsne_result:\n",
    "        plt.scatter(i[0], i[1])\n",
    "\n",
    "plt.show()"
   ]
  },
  {
   "cell_type": "code",
   "execution_count": null,
   "metadata": {},
   "outputs": [],
   "source": []
  },
  {
   "cell_type": "code",
   "execution_count": null,
   "metadata": {},
   "outputs": [],
   "source": []
  },
  {
   "cell_type": "code",
   "execution_count": null,
   "metadata": {},
   "outputs": [],
   "source": []
  },
  {
   "cell_type": "code",
   "execution_count": null,
   "metadata": {},
   "outputs": [],
   "source": []
  }
 ],
 "metadata": {
  "kernelspec": {
   "display_name": "Python 3.8.10 64-bit",
   "language": "python",
   "name": "python3"
  },
  "language_info": {
   "codemirror_mode": {
    "name": "ipython",
    "version": 3
   },
   "file_extension": ".py",
   "mimetype": "text/x-python",
   "name": "python",
   "nbconvert_exporter": "python",
   "pygments_lexer": "ipython3",
   "version": "3.8.10"
  },
  "orig_nbformat": 4,
  "vscode": {
   "interpreter": {
    "hash": "31f2aee4e71d21fbe5cf8b01ff0e069b9275f58929596ceb00d14d90e3e16cd6"
   }
  }
 },
 "nbformat": 4,
 "nbformat_minor": 2
}
